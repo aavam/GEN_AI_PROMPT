{
  "cells": [
    {
      "cell_type": "markdown",
      "metadata": {
        "id": "view-in-github",
        "colab_type": "text"
      },
      "source": [
        "<a href=\"https://colab.research.google.com/github/aavam/GEN_AI_PROMPT/blob/main/AHS_Learner_Notebook_final_project_GEN_AI_MSFT.ipynb\" target=\"_parent\"><img src=\"https://colab.research.google.com/assets/colab-badge.svg\" alt=\"Open In Colab\"/></a>"
      ]
    },
    {
      "cell_type": "markdown",
      "metadata": {
        "id": "A-kfSgIGzgGL"
      },
      "source": [
        "# **Project : A Case Study of ExpressWay Logistics**"
      ]
    },
    {
      "cell_type": "markdown",
      "metadata": {
        "id": "O8Z-Vp4pzgGN"
      },
      "source": [
        "**Business Overview:**\n",
        "\n",
        "ExpressWay Logistics is a dynamic logistics service provider, committed to delivering efficient, reliable and cost-effective courier transportation and warehousing solutions. With a focus on speed, precision and customer satisfaction, we aim to be the go-to partner for our customers seeking seamless courier services. Our core service involves ensuring operational efficiency throughout our delivery and courier services, including inventory management, durable packaging and swift dispatch of couriers, real time tracking of shipments and on-time delivery of couriers as promised. We are committed to enhance our logistics and courier services and improve seamless connectivity for our customers."
      ]
    },
    {
      "cell_type": "markdown",
      "metadata": {
        "id": "46XFRcFTzgGN"
      },
      "source": [
        "**Current Challenge:**\n",
        "\n",
        "ExpressWay Logistics faces numerous challenges in ensuring seamless deliveries and customer satisfaction. These challenges include managing various customer demands simultaneously, addressing delays in deliveries and ensuring products arrive intact and safe. Additionally, the company struggles with complexity of efficiently storing and handling a large volume of packages and ultimately meeting customer expectations. Moreover, maintaining a skilled workforce capable of handling various aspects of logistics operations presents its own set of challenges. Overcoming these obstacles requires a comprehensive approach that integrates innovative technology, strategic planning, and continuous improvement initiatives to ensure smooth operations and exceptional service delivery."
      ]
    },
    {
      "cell_type": "markdown",
      "metadata": {
        "id": "maC1EgUJzgGO"
      },
      "source": [
        "**Objective:**\n",
        "\n",
        "Our primary objective is to conduct a sentiment analysis of user-generated reviews across various digital channels and platforms. By paying attention to their feedback, we want to find ways to make our services better - like handling different customer demands simultaneously, dealing with late deliveries, and keeping packages secured and intact. Through the application of prompt engineering methodologies and sentiment analysis, we'll figure out if sentiments expressed by users for our courier services are Positive or Negative. This will help us understand where we need to improve in order to meet customer expectations and keep them happy. With a focus on getting better all the time, we'll overcome the challenges at ExpressWay Logistics and make our services the best."
      ]
    },
    {
      "cell_type": "markdown",
      "metadata": {
        "id": "flUHF3xczgGO"
      },
      "source": [
        "**Data Description:**\n",
        "\n",
        "The dataset titled \"courier-service_reviews.csv\" is structured to facilitate sentiment analysis for courier service reviews. Here's a brief description of the data columns:\n",
        "\n",
        "1. id: This column contains unique identifiers for each review entry. It helps in distinguishing and referencing individual reviews.\n",
        "2. review: This column includes the actual text of the courier service reviews. The reviews are likely composed of customer opinions and experiences regarding different aspects of the services provided by ExpressWay Logistics.\n",
        "3. sentiment: This column provides an additional layer of classification (positive and negative) for the mentioned reviews."
      ]
    },
    {
      "cell_type": "markdown",
      "metadata": {
        "id": "0zTC8qPRPahk"
      },
      "source": [
        "##**Step 1. Setup (2 Marks)**\n",
        "\n",
        "(A) Writing/Creating the config.json file  (2 Marks)"
      ]
    },
    {
      "cell_type": "markdown",
      "metadata": {
        "id": "ykLYC3zzSr8z"
      },
      "source": [
        "### Installation"
      ]
    },
    {
      "cell_type": "code",
      "execution_count": null,
      "metadata": {
        "id": "keb94_PFzgGO"
      },
      "outputs": [],
      "source": [
        "!pip install openai==1.2 tiktoken datasets session-info --quiet"
      ]
    },
    {
      "cell_type": "markdown",
      "metadata": {
        "id": "YFZj9kr8Pahl"
      },
      "source": [
        "### Imports"
      ]
    },
    {
      "cell_type": "code",
      "execution_count": null,
      "metadata": {
        "id": "Q3gwxSqQPahl"
      },
      "outputs": [],
      "source": [
        "# Import all Python packages required to access the Azure Open AI API.\n",
        "# Import additional packages required to access datasets and create examples.\n",
        "\n",
        "from openai import AzureOpenAI\n",
        "import json\n",
        "import random\n",
        "import tiktoken\n",
        "#import session_info\n",
        "\n",
        "import pandas as pd\n",
        "import numpy as np\n",
        "\n",
        "from collections import Counter\n",
        "from tqdm import tqdm\n",
        "from sklearn.model_selection import train_test_split\n",
        "from sklearn.metrics import f1_score\n",
        "from tabulate import tabulate"
      ]
    },
    {
      "cell_type": "code",
      "execution_count": null,
      "metadata": {
        "id": "6mmXtfmrS7Ml"
      },
      "outputs": [],
      "source": [
        "#session_info.show()"
      ]
    },
    {
      "cell_type": "code",
      "source": [
        "from google.colab import drive\n",
        "drive.mount('/content/drive')"
      ],
      "metadata": {
        "colab": {
          "base_uri": "https://localhost:8080/"
        },
        "id": "0Wug17DbeKUn",
        "outputId": "2beb0e24-36c4-49fe-d936-46233ce6c364"
      },
      "execution_count": null,
      "outputs": [
        {
          "output_type": "stream",
          "name": "stdout",
          "text": [
            "Drive already mounted at /content/drive; to attempt to forcibly remount, call drive.mount(\"/content/drive\", force_remount=True).\n"
          ]
        }
      ]
    },
    {
      "cell_type": "markdown",
      "metadata": {
        "id": "SN0wIDUjPahn"
      },
      "source": [
        "### Authentication"
      ]
    },
    {
      "cell_type": "markdown",
      "metadata": {
        "id": "FvDZdCMhzgGQ"
      },
      "source": [
        "**(A) Writing/Creating the config.json file (2 Marks)**"
      ]
    },
    {
      "cell_type": "code",
      "execution_count": null,
      "metadata": {
        "id": "2tdRk05EzgGQ"
      },
      "outputs": [],
      "source": [
        "# Define your configuration information\n",
        "config_data = {\n",
        "    \"AZURE_OPENAI_KEY\": \"05f8a427ba38465e93a7f386ff350c64\",\n",
        "    \"AZURE_OPENAI_ENDPOINT\": \"https://test-openai-123456.openai.azure.com/\",\n",
        "    \"AZURE_OPENAI_APIVERSION\": \"2024-05-01-preview\",\n",
        "    \"CHATGPT_MODEL\": \"ahs-sep-setup\"\n",
        "}"
      ]
    },
    {
      "cell_type": "code",
      "execution_count": null,
      "metadata": {
        "colab": {
          "base_uri": "https://localhost:8080/"
        },
        "id": "cO4TwVYHzgGQ",
        "outputId": "a6e11aa9-caac-4640-9cf4-08e53f86e1c1"
      },
      "outputs": [
        {
          "output_type": "stream",
          "name": "stdout",
          "text": [
            "Config file created successfully!\n"
          ]
        }
      ],
      "source": [
        "# Write the configuration information into the config.json file\n",
        "with open('/content/drive/MyDrive/Colab_Notebooks/GEN-AI-Final-Project/config.json', 'w') as config_file:\n",
        "    json.dump(config_data, config_file, indent=4)\n",
        "\n",
        "print(\"Config file created successfully!\")"
      ]
    },
    {
      "cell_type": "code",
      "execution_count": null,
      "metadata": {
        "id": "cxLhZIviPahn"
      },
      "outputs": [],
      "source": [
        "with open('/content/drive/MyDrive/Colab_Notebooks/GEN-AI-Final-Project/config.json', 'r') as az_creds:\n",
        "    data = az_creds.read()"
      ]
    },
    {
      "cell_type": "code",
      "execution_count": null,
      "metadata": {
        "id": "nL9GpBEVPahn"
      },
      "outputs": [],
      "source": [
        "creds = json.loads(data)"
      ]
    },
    {
      "cell_type": "code",
      "execution_count": null,
      "metadata": {
        "id": "Ud7bPDquPahp"
      },
      "outputs": [],
      "source": [
        "client = AzureOpenAI(\n",
        "    azure_endpoint=creds[\"AZURE_OPENAI_ENDPOINT\"],\n",
        "    api_key=creds[\"AZURE_OPENAI_KEY\"],\n",
        "    api_version=creds[\"AZURE_OPENAI_APIVERSION\"]\n",
        ")"
      ]
    },
    {
      "cell_type": "code",
      "execution_count": null,
      "metadata": {
        "id": "Atf3l2mNPahp"
      },
      "outputs": [],
      "source": [
        "chat_model_id = creds[\"CHATGPT_MODEL\"]"
      ]
    },
    {
      "cell_type": "code",
      "source": [
        "client.chat.completions.create(\n",
        "    model=chat_model_id,\n",
        "    messages = [\n",
        "       {'role': 'user', 'content': 'Count to 10'}\n",
        "    ]\n",
        ")"
      ],
      "metadata": {
        "colab": {
          "base_uri": "https://localhost:8080/"
        },
        "id": "NHfR7uSqaU_i",
        "outputId": "e590f6cb-b7e3-4817-e9f8-2d574771032a"
      },
      "execution_count": null,
      "outputs": [
        {
          "output_type": "execute_result",
          "data": {
            "text/plain": [
              "ChatCompletion(id='chatcmpl-AAS5dfZ8BXiN9fD5wz7AJVtyq67wo', choices=[Choice(finish_reason='stop', index=0, message=ChatCompletionMessage(content='1, 2, 3, 4, 5, 6, 7, 8, 9, 10.', role='assistant', function_call=None, tool_calls=None), content_filter_results={'hate': {'filtered': False, 'severity': 'safe'}, 'protected_material_code': {'filtered': False, 'detected': False}, 'protected_material_text': {'filtered': False, 'detected': False}, 'self_harm': {'filtered': False, 'severity': 'safe'}, 'sexual': {'filtered': False, 'severity': 'safe'}, 'violence': {'filtered': False, 'severity': 'safe'}}, logprobs=None)], created=1727054621, model='gpt-35-turbo', object='chat.completion', system_fingerprint=None, usage=CompletionUsage(completion_tokens=29, prompt_tokens=12, total_tokens=41), prompt_filter_results=[{'prompt_index': 0, 'content_filter_results': {'hate': {'filtered': False, 'severity': 'safe'}, 'jailbreak': {'filtered': False, 'detected': False}, 'self_harm': {'filtered': False, 'severity': 'safe'}, 'sexual': {'filtered': False, 'severity': 'safe'}, 'violence': {'filtered': False, 'severity': 'safe'}}}])"
            ]
          },
          "metadata": {},
          "execution_count": 75
        }
      ]
    },
    {
      "cell_type": "markdown",
      "metadata": {
        "id": "HQpkd5elTMhd"
      },
      "source": [
        "### Utilities"
      ]
    },
    {
      "cell_type": "code",
      "execution_count": null,
      "metadata": {
        "id": "V5Gp-_CxPahp"
      },
      "outputs": [],
      "source": [
        "def num_tokens_from_messages(messages):\n",
        "\n",
        "    \"\"\"\n",
        "    Return the number of tokens used by a list of messages.\n",
        "    Adapted from the Open AI cookbook token counter\n",
        "    \"\"\"\n",
        "\n",
        "    encoding = tiktoken.encoding_for_model(\"gpt-3.5-turbo\")\n",
        "\n",
        "    # Each message is sandwiched with <|start|>role and <|end|>\n",
        "    # Hence, messages look like: <|start|>system or user or assistant{message}<|end|>\n",
        "\n",
        "    tokens_per_message = 3 # token1:<|start|>, token2:system(or user or assistant), token3:<|end|>\n",
        "\n",
        "    num_tokens = 0\n",
        "\n",
        "    for message in messages:\n",
        "        num_tokens += tokens_per_message\n",
        "        for key, value in message.items():\n",
        "            num_tokens += len(encoding.encode(value))\n",
        "\n",
        "    num_tokens += 3  # every reply is primed with <|start|>assistant<|message|>\n",
        "\n",
        "    return num_tokens"
      ]
    },
    {
      "cell_type": "markdown",
      "metadata": {
        "id": "3sP7s5TDPahq"
      },
      "source": [
        "## Task : Sentiment Analysis"
      ]
    },
    {
      "cell_type": "markdown",
      "metadata": {
        "id": "WhctrBwFPahq"
      },
      "source": [
        "##**Step 2: Assemble Data (5 Marks)**\n",
        "\n",
        "(A) Upload and Read csv File (2 Marks)\n",
        "\n",
        "(B) Count Positive and Negative Sentiment Reviews (1 Marks)\n",
        "\n",
        "(C) Split the Dataset (2 Marks)"
      ]
    },
    {
      "cell_type": "markdown",
      "metadata": {
        "id": "bLK-296WzgGS"
      },
      "source": [
        "**(A) Upload and read csv file (2 Marks)**"
      ]
    },
    {
      "cell_type": "code",
      "execution_count": null,
      "metadata": {
        "id": "SA5Cyqgk5kgB"
      },
      "outputs": [],
      "source": [
        " cs_reviews_df = pd.read_csv('/content/drive/MyDrive/Colab_Notebooks/GEN-AI-Final-Project/courier-service_reviews.csv')\n",
        "# Read CSV File Here"
      ]
    },
    {
      "cell_type": "code",
      "execution_count": null,
      "metadata": {
        "colab": {
          "base_uri": "https://localhost:8080/"
        },
        "id": "a-NSh5_p7V5E",
        "outputId": "9924dbbe-caea-49fd-aeeb-f7fd397df794"
      },
      "outputs": [
        {
          "output_type": "stream",
          "name": "stdout",
          "text": [
            "<class 'pandas.core.frame.DataFrame'>\n",
            "RangeIndex: 131 entries, 0 to 130\n",
            "Data columns (total 3 columns):\n",
            " #   Column     Non-Null Count  Dtype \n",
            "---  ------     --------------  ----- \n",
            " 0   id         131 non-null    int64 \n",
            " 1   review     131 non-null    object\n",
            " 2   sentiment  131 non-null    object\n",
            "dtypes: int64(1), object(2)\n",
            "memory usage: 3.2+ KB\n"
          ]
        }
      ],
      "source": [
        "cs_reviews_df.info()"
      ]
    },
    {
      "cell_type": "code",
      "execution_count": null,
      "metadata": {
        "colab": {
          "base_uri": "https://localhost:8080/",
          "height": 206
        },
        "id": "UJmr1iJ5_tNm",
        "outputId": "5801e096-202f-465f-d904-56075d1396eb"
      },
      "outputs": [
        {
          "output_type": "execute_result",
          "data": {
            "text/plain": [
              "      id                                             review sentiment\n",
              "13    14  What sets ExpressWay Logistics apart from othe...  Positive\n",
              "117  118  When it comes to handling parcels, ExpressWay ...  Positive\n",
              "118  119  I had a last-minute change to my shipping addr...  Positive\n",
              "125  126  ExpressWay Logistics delivers more than just p...  Positive\n",
              "63    64  ExpressWay Logistics promises efficient delive...  Negative"
            ],
            "text/html": [
              "\n",
              "  <div id=\"df-69210ff7-7f6d-4359-ae0d-75185f1d5961\" class=\"colab-df-container\">\n",
              "    <div>\n",
              "<style scoped>\n",
              "    .dataframe tbody tr th:only-of-type {\n",
              "        vertical-align: middle;\n",
              "    }\n",
              "\n",
              "    .dataframe tbody tr th {\n",
              "        vertical-align: top;\n",
              "    }\n",
              "\n",
              "    .dataframe thead th {\n",
              "        text-align: right;\n",
              "    }\n",
              "</style>\n",
              "<table border=\"1\" class=\"dataframe\">\n",
              "  <thead>\n",
              "    <tr style=\"text-align: right;\">\n",
              "      <th></th>\n",
              "      <th>id</th>\n",
              "      <th>review</th>\n",
              "      <th>sentiment</th>\n",
              "    </tr>\n",
              "  </thead>\n",
              "  <tbody>\n",
              "    <tr>\n",
              "      <th>13</th>\n",
              "      <td>14</td>\n",
              "      <td>What sets ExpressWay Logistics apart from othe...</td>\n",
              "      <td>Positive</td>\n",
              "    </tr>\n",
              "    <tr>\n",
              "      <th>117</th>\n",
              "      <td>118</td>\n",
              "      <td>When it comes to handling parcels, ExpressWay ...</td>\n",
              "      <td>Positive</td>\n",
              "    </tr>\n",
              "    <tr>\n",
              "      <th>118</th>\n",
              "      <td>119</td>\n",
              "      <td>I had a last-minute change to my shipping addr...</td>\n",
              "      <td>Positive</td>\n",
              "    </tr>\n",
              "    <tr>\n",
              "      <th>125</th>\n",
              "      <td>126</td>\n",
              "      <td>ExpressWay Logistics delivers more than just p...</td>\n",
              "      <td>Positive</td>\n",
              "    </tr>\n",
              "    <tr>\n",
              "      <th>63</th>\n",
              "      <td>64</td>\n",
              "      <td>ExpressWay Logistics promises efficient delive...</td>\n",
              "      <td>Negative</td>\n",
              "    </tr>\n",
              "  </tbody>\n",
              "</table>\n",
              "</div>\n",
              "    <div class=\"colab-df-buttons\">\n",
              "\n",
              "  <div class=\"colab-df-container\">\n",
              "    <button class=\"colab-df-convert\" onclick=\"convertToInteractive('df-69210ff7-7f6d-4359-ae0d-75185f1d5961')\"\n",
              "            title=\"Convert this dataframe to an interactive table.\"\n",
              "            style=\"display:none;\">\n",
              "\n",
              "  <svg xmlns=\"http://www.w3.org/2000/svg\" height=\"24px\" viewBox=\"0 -960 960 960\">\n",
              "    <path d=\"M120-120v-720h720v720H120Zm60-500h600v-160H180v160Zm220 220h160v-160H400v160Zm0 220h160v-160H400v160ZM180-400h160v-160H180v160Zm440 0h160v-160H620v160ZM180-180h160v-160H180v160Zm440 0h160v-160H620v160Z\"/>\n",
              "  </svg>\n",
              "    </button>\n",
              "\n",
              "  <style>\n",
              "    .colab-df-container {\n",
              "      display:flex;\n",
              "      gap: 12px;\n",
              "    }\n",
              "\n",
              "    .colab-df-convert {\n",
              "      background-color: #E8F0FE;\n",
              "      border: none;\n",
              "      border-radius: 50%;\n",
              "      cursor: pointer;\n",
              "      display: none;\n",
              "      fill: #1967D2;\n",
              "      height: 32px;\n",
              "      padding: 0 0 0 0;\n",
              "      width: 32px;\n",
              "    }\n",
              "\n",
              "    .colab-df-convert:hover {\n",
              "      background-color: #E2EBFA;\n",
              "      box-shadow: 0px 1px 2px rgba(60, 64, 67, 0.3), 0px 1px 3px 1px rgba(60, 64, 67, 0.15);\n",
              "      fill: #174EA6;\n",
              "    }\n",
              "\n",
              "    .colab-df-buttons div {\n",
              "      margin-bottom: 4px;\n",
              "    }\n",
              "\n",
              "    [theme=dark] .colab-df-convert {\n",
              "      background-color: #3B4455;\n",
              "      fill: #D2E3FC;\n",
              "    }\n",
              "\n",
              "    [theme=dark] .colab-df-convert:hover {\n",
              "      background-color: #434B5C;\n",
              "      box-shadow: 0px 1px 3px 1px rgba(0, 0, 0, 0.15);\n",
              "      filter: drop-shadow(0px 1px 2px rgba(0, 0, 0, 0.3));\n",
              "      fill: #FFFFFF;\n",
              "    }\n",
              "  </style>\n",
              "\n",
              "    <script>\n",
              "      const buttonEl =\n",
              "        document.querySelector('#df-69210ff7-7f6d-4359-ae0d-75185f1d5961 button.colab-df-convert');\n",
              "      buttonEl.style.display =\n",
              "        google.colab.kernel.accessAllowed ? 'block' : 'none';\n",
              "\n",
              "      async function convertToInteractive(key) {\n",
              "        const element = document.querySelector('#df-69210ff7-7f6d-4359-ae0d-75185f1d5961');\n",
              "        const dataTable =\n",
              "          await google.colab.kernel.invokeFunction('convertToInteractive',\n",
              "                                                    [key], {});\n",
              "        if (!dataTable) return;\n",
              "\n",
              "        const docLinkHtml = 'Like what you see? Visit the ' +\n",
              "          '<a target=\"_blank\" href=https://colab.research.google.com/notebooks/data_table.ipynb>data table notebook</a>'\n",
              "          + ' to learn more about interactive tables.';\n",
              "        element.innerHTML = '';\n",
              "        dataTable['output_type'] = 'display_data';\n",
              "        await google.colab.output.renderOutput(dataTable, element);\n",
              "        const docLink = document.createElement('div');\n",
              "        docLink.innerHTML = docLinkHtml;\n",
              "        element.appendChild(docLink);\n",
              "      }\n",
              "    </script>\n",
              "  </div>\n",
              "\n",
              "\n",
              "<div id=\"df-84d8cb6f-e5f8-4c08-b99e-f7d5611ee00b\">\n",
              "  <button class=\"colab-df-quickchart\" onclick=\"quickchart('df-84d8cb6f-e5f8-4c08-b99e-f7d5611ee00b')\"\n",
              "            title=\"Suggest charts\"\n",
              "            style=\"display:none;\">\n",
              "\n",
              "<svg xmlns=\"http://www.w3.org/2000/svg\" height=\"24px\"viewBox=\"0 0 24 24\"\n",
              "     width=\"24px\">\n",
              "    <g>\n",
              "        <path d=\"M19 3H5c-1.1 0-2 .9-2 2v14c0 1.1.9 2 2 2h14c1.1 0 2-.9 2-2V5c0-1.1-.9-2-2-2zM9 17H7v-7h2v7zm4 0h-2V7h2v10zm4 0h-2v-4h2v4z\"/>\n",
              "    </g>\n",
              "</svg>\n",
              "  </button>\n",
              "\n",
              "<style>\n",
              "  .colab-df-quickchart {\n",
              "      --bg-color: #E8F0FE;\n",
              "      --fill-color: #1967D2;\n",
              "      --hover-bg-color: #E2EBFA;\n",
              "      --hover-fill-color: #174EA6;\n",
              "      --disabled-fill-color: #AAA;\n",
              "      --disabled-bg-color: #DDD;\n",
              "  }\n",
              "\n",
              "  [theme=dark] .colab-df-quickchart {\n",
              "      --bg-color: #3B4455;\n",
              "      --fill-color: #D2E3FC;\n",
              "      --hover-bg-color: #434B5C;\n",
              "      --hover-fill-color: #FFFFFF;\n",
              "      --disabled-bg-color: #3B4455;\n",
              "      --disabled-fill-color: #666;\n",
              "  }\n",
              "\n",
              "  .colab-df-quickchart {\n",
              "    background-color: var(--bg-color);\n",
              "    border: none;\n",
              "    border-radius: 50%;\n",
              "    cursor: pointer;\n",
              "    display: none;\n",
              "    fill: var(--fill-color);\n",
              "    height: 32px;\n",
              "    padding: 0;\n",
              "    width: 32px;\n",
              "  }\n",
              "\n",
              "  .colab-df-quickchart:hover {\n",
              "    background-color: var(--hover-bg-color);\n",
              "    box-shadow: 0 1px 2px rgba(60, 64, 67, 0.3), 0 1px 3px 1px rgba(60, 64, 67, 0.15);\n",
              "    fill: var(--button-hover-fill-color);\n",
              "  }\n",
              "\n",
              "  .colab-df-quickchart-complete:disabled,\n",
              "  .colab-df-quickchart-complete:disabled:hover {\n",
              "    background-color: var(--disabled-bg-color);\n",
              "    fill: var(--disabled-fill-color);\n",
              "    box-shadow: none;\n",
              "  }\n",
              "\n",
              "  .colab-df-spinner {\n",
              "    border: 2px solid var(--fill-color);\n",
              "    border-color: transparent;\n",
              "    border-bottom-color: var(--fill-color);\n",
              "    animation:\n",
              "      spin 1s steps(1) infinite;\n",
              "  }\n",
              "\n",
              "  @keyframes spin {\n",
              "    0% {\n",
              "      border-color: transparent;\n",
              "      border-bottom-color: var(--fill-color);\n",
              "      border-left-color: var(--fill-color);\n",
              "    }\n",
              "    20% {\n",
              "      border-color: transparent;\n",
              "      border-left-color: var(--fill-color);\n",
              "      border-top-color: var(--fill-color);\n",
              "    }\n",
              "    30% {\n",
              "      border-color: transparent;\n",
              "      border-left-color: var(--fill-color);\n",
              "      border-top-color: var(--fill-color);\n",
              "      border-right-color: var(--fill-color);\n",
              "    }\n",
              "    40% {\n",
              "      border-color: transparent;\n",
              "      border-right-color: var(--fill-color);\n",
              "      border-top-color: var(--fill-color);\n",
              "    }\n",
              "    60% {\n",
              "      border-color: transparent;\n",
              "      border-right-color: var(--fill-color);\n",
              "    }\n",
              "    80% {\n",
              "      border-color: transparent;\n",
              "      border-right-color: var(--fill-color);\n",
              "      border-bottom-color: var(--fill-color);\n",
              "    }\n",
              "    90% {\n",
              "      border-color: transparent;\n",
              "      border-bottom-color: var(--fill-color);\n",
              "    }\n",
              "  }\n",
              "</style>\n",
              "\n",
              "  <script>\n",
              "    async function quickchart(key) {\n",
              "      const quickchartButtonEl =\n",
              "        document.querySelector('#' + key + ' button');\n",
              "      quickchartButtonEl.disabled = true;  // To prevent multiple clicks.\n",
              "      quickchartButtonEl.classList.add('colab-df-spinner');\n",
              "      try {\n",
              "        const charts = await google.colab.kernel.invokeFunction(\n",
              "            'suggestCharts', [key], {});\n",
              "      } catch (error) {\n",
              "        console.error('Error during call to suggestCharts:', error);\n",
              "      }\n",
              "      quickchartButtonEl.classList.remove('colab-df-spinner');\n",
              "      quickchartButtonEl.classList.add('colab-df-quickchart-complete');\n",
              "    }\n",
              "    (() => {\n",
              "      let quickchartButtonEl =\n",
              "        document.querySelector('#df-84d8cb6f-e5f8-4c08-b99e-f7d5611ee00b button');\n",
              "      quickchartButtonEl.style.display =\n",
              "        google.colab.kernel.accessAllowed ? 'block' : 'none';\n",
              "    })();\n",
              "  </script>\n",
              "</div>\n",
              "\n",
              "    </div>\n",
              "  </div>\n"
            ],
            "application/vnd.google.colaboratory.intrinsic+json": {
              "type": "dataframe",
              "summary": "{\n  \"name\": \"cs_reviews_df\",\n  \"rows\": 5,\n  \"fields\": [\n    {\n      \"column\": \"id\",\n      \"properties\": {\n        \"dtype\": \"number\",\n        \"std\": 48,\n        \"min\": 14,\n        \"max\": 126,\n        \"num_unique_values\": 5,\n        \"samples\": [\n          118,\n          64,\n          119\n        ],\n        \"semantic_type\": \"\",\n        \"description\": \"\"\n      }\n    },\n    {\n      \"column\": \"review\",\n      \"properties\": {\n        \"dtype\": \"string\",\n        \"num_unique_values\": 5,\n        \"samples\": [\n          \"When it comes to handling parcels, ExpressWay Logistics goes above and beyond to ensure the safety of every package. I was impressed by the care and attention to detail their team demonstrated when handling my delicate items. From the moment they received my shipment to the final delivery, they treated each package with the utmost respect and consideration. Their commitment to careful handling gave me peace of mind throughout the shipping process, knowing that my items were in safe hands.\",\n          \"ExpressWay Logistics promises efficient delivery, but their drivers seem careless and unprofessional. I've received damaged goods more than once, indicating a lack of proper handling procedures.\",\n          \"I had a last-minute change to my shipping address, and I was worried it would cause delays. However, ExpressWay Logistics quickly updated the information and ensured that my package arrived at the new location on time.\"\n        ],\n        \"semantic_type\": \"\",\n        \"description\": \"\"\n      }\n    },\n    {\n      \"column\": \"sentiment\",\n      \"properties\": {\n        \"dtype\": \"category\",\n        \"num_unique_values\": 2,\n        \"samples\": [\n          \"Negative\",\n          \"Positive\"\n        ],\n        \"semantic_type\": \"\",\n        \"description\": \"\"\n      }\n    }\n  ]\n}"
            }
          },
          "metadata": {},
          "execution_count": 108
        }
      ],
      "source": [
        "cs_reviews_df.sample(5)"
      ]
    },
    {
      "cell_type": "markdown",
      "source": [
        "**(B) Count Positive and Negative Sentiment Reviews (1 Marks)**"
      ],
      "metadata": {
        "id": "CKUDLCbC0bfB"
      }
    },
    {
      "cell_type": "code",
      "execution_count": null,
      "metadata": {
        "colab": {
          "base_uri": "https://localhost:8080/"
        },
        "id": "O5AbhvRV9o-e",
        "outputId": "8da14c2f-491b-4e4b-a687-04a766c09ba1"
      },
      "outputs": [
        {
          "output_type": "stream",
          "name": "stdout",
          "text": [
            "Sentiment\n",
            "Postive 68\n",
            "Negative 63\n"
          ]
        }
      ],
      "source": [
        "print(\"Sentiment\")\n",
        "print(\"Postive\",sum(cs_reviews_df.sentiment == 'Positive'))\n",
        "print(\"Negative\",sum(cs_reviews_df.sentiment == 'Negative'))\n",
        "\n"
      ]
    },
    {
      "cell_type": "code",
      "execution_count": null,
      "metadata": {
        "colab": {
          "base_uri": "https://localhost:8080/"
        },
        "id": "l3Z0q0b6zgGT",
        "outputId": "fae98224-f560-434e-e2ef-ca918eb53a56"
      },
      "outputs": [
        {
          "output_type": "execute_result",
          "data": {
            "text/plain": [
              "(131, 3)"
            ]
          },
          "metadata": {},
          "execution_count": 110
        }
      ],
      "source": [
        "cs_reviews_df.shape"
      ]
    },
    {
      "cell_type": "markdown",
      "metadata": {
        "id": "MiXuxmchzgGT"
      },
      "source": [
        "**(C) Split the Dataset (2 Marks)**"
      ]
    },
    {
      "cell_type": "code",
      "execution_count": null,
      "metadata": {
        "id": "bGSj2dfZOMW-"
      },
      "outputs": [],
      "source": [
        "cs_reviews_df, cs_gold_examples_df = train_test_split(\n",
        "    cs_reviews_df, #<- the full dataset\n",
        "    test_size=0.2, #<- 20% random sample selected for gold examples\n",
        "    #cs_examples_df, cs_gold_examples_df=train_test_split(cs_examples_df, test_size=0.2)\n",
        "    random_state=42 #<- ensures that the splits are the same for every session\n",
        ")"
      ]
    },
    {
      "cell_type": "code",
      "source": [
        "(cs_reviews_df.shape, cs_gold_examples_df.shape)"
      ],
      "metadata": {
        "colab": {
          "base_uri": "https://localhost:8080/"
        },
        "id": "R1G0s0xwa_yB",
        "outputId": "14211eda-8dcc-46fa-fb58-20bdf36027af"
      },
      "execution_count": null,
      "outputs": [
        {
          "output_type": "execute_result",
          "data": {
            "text/plain": [
              "((104, 3), (27, 3))"
            ]
          },
          "metadata": {},
          "execution_count": 28
        }
      ]
    },
    {
      "cell_type": "markdown",
      "metadata": {
        "id": "2ExVGFPl4tdx"
      },
      "source": [
        "To select gold examples for this session, we sample randomly from the test data using a `random_state=42`. This ensures that the examples from multiple runs of the sampling are the same (i.e., they are randomly selected but do not change between different runs of the notebook). Note that we are doing this only to keep execution times low for illustration. In practise, large number of gold examples facilitate robust estimates of model accuracy."
      ]
    },
    {
      "cell_type": "code",
      "execution_count": null,
      "metadata": {
        "id": "YLj4LVu_Ozc_"
      },
      "outputs": [],
      "source": [
        "columns_to_select = ['review','sentiment']"
      ]
    },
    {
      "cell_type": "code",
      "execution_count": null,
      "metadata": {
        "id": "nDIZm2RdMsDt"
      },
      "outputs": [],
      "source": [
        "gold_examples = (\n",
        "        cs_gold_examples_df.loc[:, columns_to_select]\n",
        "                                     .sample(21, random_state=42) #<- ensures that gold examples are the same for every session\n",
        "                                     .to_json(orient='records')\n",
        ")"
      ]
    },
    {
      "cell_type": "code",
      "execution_count": null,
      "metadata": {
        "colab": {
          "base_uri": "https://localhost:8080/",
          "height": 109
        },
        "id": "5AcH3eqgzgGV",
        "outputId": "9c17b6ea-1f12-4169-9724-60f556d9c317"
      },
      "outputs": [
        {
          "output_type": "execute_result",
          "data": {
            "text/plain": [
              "'[{\"review\":\"The delivery executive assigned by ExpressWay Logistics was courteous and professional during the delivery process. They tried their best to handle the package with care.Unfortunately, the package arrived with slight damage despite the delivery executive\\'s efforts. The packaging seemed more than adequate to protect the contents during transit.\",\"sentiment\":\"Positive\"},{\"review\":\"ExpressWay Logistics failed to meet my expectations. The delivery was delayed, and the customer support team was unresponsive and unhelpful when I tried to inquire about the status of my parcel.\",\"sentiment\":\"Negative\"},{\"review\":\"ExpressWay Logistics\\' incompetence resulted in a major inconvenience when my package was delivered to the wrong recipient. Despite providing accurate delivery information, the package ended up in the hands of someone else, and efforts to retrieve it were unsuccessful. When I contacted customer service for assistance, I was met with apathy and a lack of urgency. Their failure to rectify the situation in a timely manner is unacceptable, and I will be avoiding their services at all costs.\",\"sentiment\":\"Negative\"},{\"review\":\"Kudos to ExpressWay Logistics for their outstanding service! They\\'ve been an essential partner for my business, handling all our shipping needs with professionalism and efficiency. If you\\'re looking for a reliable logistic service provider, look no further than ExpressWay Logistics.\",\"sentiment\":\"Positive\"},{\"review\":\"ExpressWay Logistics offers a convenient online platform for booking shipments, and their competitive rates initially drew me in. However, the frequent delays in delivery and lack of transparency regarding additional fees have soured my experience. While their customer service representatives are polite, they often seem powerless to resolve issues effectively.This lack of care and responsibilites from the concerned teams have led me unsatisfied and irritated.I cannot trust and rely on this again.Will definitely not contact them ever for my courier deliveries!\",\"sentiment\":\"Negative\"},{\"review\":\"Planning a destination wedding is undoubtedly a daunting task, especially when it comes to coordinating transportation for guests and wedding essentials. Fortunately, ExpressWay Logistics made this aspect of our wedding planning effortless. From the beginning, they were attentive to our needs and provided valuable insights to streamline the process.\",\"sentiment\":\"Positive\"},{\"review\":\"ExpressWay Logistics consistently delivers on its promises, providing fast, efficient, and reliable courier services that exceeded my expectations.\",\"sentiment\":\"Positive\"},{\"review\":\"I needed to ship perishable items internationally, and ExpressWay Logistics handled the process flawlessly. They ensured that the items were properly packaged and transported in temperature-controlled conditions.\",\"sentiment\":\"Positive\"},{\"review\":\"I appreciated the flexibility offered by ExpressWay Logistics in terms of delivery options. Their range of delivery speeds and service levels allowed me to choose the option that best suited my needs and budget.However, I was slightly disappointed by the lack of transparency regarding few additional fees and surcharges. I selected a specific delivery option and paid minor charges at checkout, which undermined the initial affordability of the service..\",\"sentiment\":\"Negative\"},{\"review\":\"While ExpressWay Logistics\\' pricing is competitive, their lack of accountability for delays and damages is disappointing. It\\'s frustrating to pay for a service that fails to deliver on its promises consistently.\",\"sentiment\":\"Negative\"},{\"review\":\"ExpressWay Logistics\\' pricing may seem attractive at first glance, but beware of some internal hidden fees that may sometimes add up. Coupled with their reliable delivery times, it\\'s simply not worth the hassle.But still I appreciate that my parcel got delivered safely a day after the promised window.\",\"sentiment\":\"Positive\"},{\"review\":\"ExpressWay Logistics has been my go-to courier service for years, primarily due to their extensive network coverage and competitive pricing. However, my recent experience has left me questioning their reliability. While their user-friendly website and efficient booking process remain commendable, the repeated delays in delivery and lack of proactive communication have been disappointing.Despite these setbacks, their customer service team has always been courteous and responsive, attempting to address my concerns promptly.\",\"sentiment\":\"Negative\"},{\"review\":\"ExpressWay Logistics\\' incompetence led to the loss of my parcel, and their lack of accountability only added to the frustration. Despite filing a claim and providing evidence of the missing items, I received no assistance or compensation for the lost package. Their negligence and disregard for customer satisfaction are unacceptable, and I will be exploring legal options to recoup the value of the lost items.\",\"sentiment\":\"Negative\"},{\"review\":\"I was deeply disappointed by the behavior of the delivery executive from Expressway Logistics. They exhibited a complete disregard for customer satisfaction, arriving late and mishandling the package upon delivery. Despite raising my concerns with Expressway Logistics, there was no acknowledgment or resolution provided.\",\"sentiment\":\"Negative\"},{\"review\":\"As a frequent traveler, I often use ExpressWay Logistics to ship luggage and personal belongings ahead of time. Their door-to-door service and reliable tracking make traveling a breeze.\",\"sentiment\":\"Positive\"},{\"review\":\"ExpressWay Logistics caught my attention with its promise of seamless shipping solutions and a comprehensive network. However, my recent experiences have revealed some significant shortcomings. Their online platform is disgusting and their tracking system is inaccurate.I\\'ve encountered repeated issues with inaccurate weight calculations that have led to unexpected charges. Moreover, the limited options for customizing shipment preferences have made it challenging to meet my requirements.I cannot rely upon it for my future requirements.It failed to meet my requirements.\",\"sentiment\":\"Negative\"},{\"review\":\"The packaging provided by ExpressWay Logistics is always secure and well-protected, and ensured that my items arrive in perfect condition.\",\"sentiment\":\"Positive\"},{\"review\":\"My recent experience with ExpressWay Logistics left me thoroughly impressed. I had a highly time-sensitive shipment that required delicate handling and precise coordination. Despite the challenges, ExpressWay rose to the occasion, demonstrating an unparalleled level of professionalism and efficiency. Their team meticulously planned every aspect of the shipment, from packaging to transportation, ensuring that no detail was overlooked. \",\"sentiment\":\"Positive\"},{\"review\":\"I was initially impressed by ExpressWay Logistics\\' promise of reliability and affordability, but my recent encounters have been less than satisfactory. Their website is so irritating and their drivers are too harsh, the repeated delays in delivery have been frustrating. Additionally, the discovery of hidden fees within their pricing structure has left me feeling misled. In addition to these challenges, their customer service team has been inattentive and disrespectful, which has degraded the overall experience.Not at all recommend! \",\"sentiment\":\"Negative\"},{\"review\":\"Thumbs up to ExpressWay for their prompt responses and reliable shipping solutions. Impressed!\",\"sentiment\":\"Positive\"},{\"review\":\"I had a terrible experience with ExpressWay Logistics. Not only was my pickup delayed, but the packaging was not done intactly, and the customer support team was unresponsive when I tried to raise the issue.\",\"sentiment\":\"Negative\"}]'"
            ],
            "application/vnd.google.colaboratory.intrinsic+json": {
              "type": "string"
            }
          },
          "metadata": {},
          "execution_count": 85
        }
      ],
      "source": [
        "gold_examples"
      ]
    },
    {
      "cell_type": "code",
      "execution_count": null,
      "metadata": {
        "colab": {
          "base_uri": "https://localhost:8080/"
        },
        "id": "r8J58KMMM95s",
        "outputId": "4c9ca0d0-274d-424d-e870-5b0580ee0973"
      },
      "outputs": [
        {
          "output_type": "execute_result",
          "data": {
            "text/plain": [
              "{'review': \"The delivery executive assigned by ExpressWay Logistics was courteous and professional during the delivery process. They tried their best to handle the package with care.Unfortunately, the package arrived with slight damage despite the delivery executive's efforts. The packaging seemed more than adequate to protect the contents during transit.\",\n",
              " 'sentiment': 'Positive'}"
            ]
          },
          "metadata": {},
          "execution_count": 86
        }
      ],
      "source": [
        "json.loads(gold_examples)[0]     #Json format"
      ]
    },
    {
      "cell_type": "markdown",
      "metadata": {
        "id": "ZPsU-h8FPaht"
      },
      "source": [
        "##**Step 3: Derive Prompt (12 Marks)**\n",
        "\n",
        "(A) Write Zero Shot System Message (3 Marks)\n",
        "\n",
        "(B) Create Zero Shot Prompt (2 Marks)\n",
        "\n",
        "(C) Write Few Shot System Message (3 Marks)\n",
        "\n",
        "(D) Create Examples For Few shot prompte (2 Marks)\n",
        "\n",
        "(E) Create Few Shot Prompt (2 Marks)"
      ]
    },
    {
      "cell_type": "code",
      "execution_count": null,
      "metadata": {
        "id": "NfDUKbCgPahu"
      },
      "outputs": [],
      "source": [
        "user_message_template = \"```{courier_service_review}```\"\n",
        "courier_service_review =\"\"\"\n",
        "ExpressWay Logistics is a lifesaver when it comes to shipping. Their prompt and professional service ensures that my packages always arrive on time and in excellent condition.\n",
        "What sets them apart is their attention to detail - they take the time to understand my specific needs and tailor their solutions accordingly.\n",
        "I highly recommend ExpressWay Logistics to anyone in need of reliable shipping services.\"\"\""
      ]
    },
    {
      "cell_type": "markdown",
      "metadata": {
        "id": "X3uS8NWfNqBG"
      },
      "source": [
        "**(A) Write Zero Shot System Message (3 Marks)**"
      ]
    },
    {
      "cell_type": "code",
      "execution_count": null,
      "metadata": {
        "id": "J79_IaxHJdY2"
      },
      "outputs": [],
      "source": [
        "# Write zero shot system message here\n",
        "zero_shot_system_message = \"\"\"Classify courier service reviews in the input as positive or negative in sentiment.\n",
        "Reviews will be delimited by triple backticks, that is, ```.\n",
        "Do not explain your answer. Your answer should only contain the label: positive or negative.\n",
        "\"\"\""
      ]
    },
    {
      "cell_type": "markdown",
      "metadata": {
        "id": "46AWalvrLTxs"
      },
      "source": [
        "**(B) Create Zero Shot Prompt (2 Marks)**"
      ]
    },
    {
      "cell_type": "code",
      "execution_count": null,
      "metadata": {
        "id": "t8cjNjiJJpzc"
      },
      "outputs": [],
      "source": [
        "# Create zero shot prompt to be input ready for completion function\n",
        "zero_shot_prompt = [\n",
        "    {\"role\": \"system\", \"review\": zero_shot_system_message},\n",
        "    {\"role\": \"user\", \"customer_review\": user_message_template.format(courier_service_review=courier_service_review)}\n",
        "]"
      ]
    },
    {
      "cell_type": "code",
      "execution_count": null,
      "metadata": {
        "colab": {
          "base_uri": "https://localhost:8080/"
        },
        "id": "xlbBt1u_OJEz",
        "outputId": "f06ac486-5c5f-43c8-d5c1-65fd0989f51e"
      },
      "outputs": [
        {
          "output_type": "execute_result",
          "data": {
            "text/plain": [
              "134"
            ]
          },
          "metadata": {},
          "execution_count": 90
        }
      ],
      "source": [
        "num_tokens_from_messages(zero_shot_prompt)"
      ]
    },
    {
      "cell_type": "markdown",
      "source": [
        "**(C) Write Few Shot System Message (3 Marks)**"
      ],
      "metadata": {
        "id": "48bF42gAyQ7Q"
      }
    },
    {
      "cell_type": "code",
      "execution_count": null,
      "metadata": {
        "id": "2nrW4jzGLdce"
      },
      "outputs": [],
      "source": [
        "few_shot_system_message = \"\"\"\n",
        "Extract sentiments from customer reviews in the input.\n",
        "Reviews will be delimited by triple backticks, that is, ```.\n",
        "Do not explain your answer.\n",
        "\"\"\""
      ]
    },
    {
      "cell_type": "markdown",
      "metadata": {
        "id": "d3ExNtgPRDhJ"
      },
      "source": [
        "Merely selecting random samples from the polarity subsets is not enough because the examples included in a prompt are prone to a set of known biases such as:\n",
        " - Majority label bias (frequent answers in predictions)\n",
        " - Recency bias (examples near the end of the prompt)\n"
      ]
    },
    {
      "cell_type": "markdown",
      "metadata": {
        "id": "bEA_Ab2FRrYB"
      },
      "source": [
        "To avoid these biases, it is important to have a balanced set of examples that are arranged in random order. Let us create a Python function that generates bias-free examples:"
      ]
    },
    {
      "cell_type": "code",
      "execution_count": null,
      "metadata": {
        "id": "Qb0mLtE9R7ZA"
      },
      "outputs": [],
      "source": [
        "def create_examples(dataset, n=4):\n",
        "\n",
        "    \"\"\"\n",
        "    Return a JSON list of randomized examples of size 2n with two classes.\n",
        "    Create subsets of each class, choose random samples from the subsets,\n",
        "    merge and randomize the order of samples in the merged list.\n",
        "    Each run of this function creates a different random sample of examples\n",
        "    chosen from the training data.\n",
        "\n",
        "    Args:\n",
        "        dataset (DataFrame): A DataFrame with examples (review + label)\n",
        "        n (int): number of examples of each class to be selected\n",
        "\n",
        "    Output:\n",
        "        randomized_examples (JSON): A JSON with examples in random order\n",
        "    \"\"\"\n",
        "\n",
        "    positive_reviews = (dataset.sentiment == 'Positive')\n",
        "    negative_reviews = (dataset.sentiment == 'Negative')\n",
        "    columns_to_select = ['review', 'sentiment']\n",
        "\n",
        "    positive_examples = dataset.loc[positive_reviews, columns_to_select].sample(n)\n",
        "    negative_examples = dataset.loc[negative_reviews, columns_to_select].sample(n)\n",
        "\n",
        "    examples = pd.concat([positive_examples, negative_examples])\n",
        "\n",
        "    # sampling without replacement is equivalent to random shuffling\n",
        "\n",
        "    randomized_examples = examples.sample(2*n, replace=False)\n",
        "\n",
        "    return randomized_examples.to_json(orient='records')"
      ]
    },
    {
      "cell_type": "markdown",
      "source": [
        "**(D) Create Examples For Few shot prompte (2 Marks)**"
      ],
      "metadata": {
        "id": "vHhPExVTyO93"
      }
    },
    {
      "cell_type": "code",
      "execution_count": null,
      "metadata": {
        "id": "jb1VpSgZPaht"
      },
      "outputs": [],
      "source": [
        "# Create Examples\n",
        "examples = '[{\"review\" : \"The delivery was prompt and the package arrived in perfect condition.\" ,\"sentiment\": \"Positive\"},{ \"review\" : \"I had to wait a long time for my order, an when it finally arrived, the product was damaged and not intact and couriers service unable to manage simultaneous customer requests\" , \"sentiment\": \"Negative\"}]'"
      ]
    },
    {
      "cell_type": "code",
      "execution_count": null,
      "metadata": {
        "colab": {
          "base_uri": "https://localhost:8080/"
        },
        "id": "dJInVW2PSucc",
        "outputId": "44cd090f-6e25-4efa-ad12-f546761e36d4"
      },
      "outputs": [
        {
          "output_type": "execute_result",
          "data": {
            "text/plain": [
              "[{'review': 'The delivery was prompt and the package arrived in perfect condition.',\n",
              "  'sentiment': 'Positive'},\n",
              " {'review': 'I had to wait a long time for my order, an when it finally arrived, the product was damaged and not intact and couriers service unable to manage simultaneous customer requests',\n",
              "  'sentiment': 'Negative'}]"
            ]
          },
          "metadata": {},
          "execution_count": 94
        }
      ],
      "source": [
        "json.loads(examples)"
      ]
    },
    {
      "cell_type": "markdown",
      "metadata": {
        "id": "PEnNkOzJSwTk"
      },
      "source": [
        "With the examples in place, we can now assemble a few-shot prompt. Since we will be using the few-shot prompt several times during evaluation, let us write a function to create a few-shot prompt (the logic of this function is depicted below)."
      ]
    },
    {
      "cell_type": "code",
      "execution_count": null,
      "metadata": {
        "id": "mFK2WQOgS8ey"
      },
      "outputs": [],
      "source": [
        "def create_prompt(system_message, examples, user_message_template):\n",
        "\n",
        "    \"\"\"\n",
        "    Return a prompt message in the format expected by the Open AI API.\n",
        "    Loop through the examples and parse them as user message and assistant\n",
        "    message.\n",
        "\n",
        "    Args:\n",
        "        system_message (str): system message with instructions for sentiment analysis\n",
        "        examples (str): JSON string with list of examples\n",
        "        user_message_template (str): string with a placeholder for courier service reviews\n",
        "\n",
        "    Output:\n",
        "        few_shot_prompt (List): A list of dictionaries in the Open AI prompt format\n",
        "    \"\"\"\n",
        "\n",
        "    few_shot_prompt = [{'role':'system', 'content': system_message}]\n",
        "\n",
        "    for example in json.loads(examples):\n",
        "        example_review = example['review']\n",
        "        example_sentiment = example['sentiment']\n",
        "\n",
        "        few_shot_prompt.append(\n",
        "            {\n",
        "                'role': 'user',\n",
        "                'content': user_message_template.format(\n",
        "                    courier_service_review=example_review\n",
        "                )\n",
        "            }\n",
        "        )\n",
        "\n",
        "        few_shot_prompt.append(\n",
        "            {'role': 'assistant', 'content': f\"{example_sentiment}\"}\n",
        "        )\n",
        "\n",
        "    return few_shot_prompt"
      ]
    },
    {
      "cell_type": "markdown",
      "source": [
        "**(E) Create Few Shot Prompt (2 Marks)**"
      ],
      "metadata": {
        "id": "5YN0Zt1dyZ3X"
      }
    },
    {
      "cell_type": "code",
      "execution_count": null,
      "metadata": {
        "id": "QoO1lCFtTBUV"
      },
      "outputs": [],
      "source": [
        "# Create Few shot prompt\n",
        "few_shot_prompt = json.loads(examples) + [\n",
        "    {\"role\": \"user\", \"content\": user_message_template.format(courier_service_review=courier_service_review)}]"
      ]
    },
    {
      "cell_type": "code",
      "execution_count": null,
      "metadata": {
        "colab": {
          "base_uri": "https://localhost:8080/"
        },
        "id": "sy91eq9FTNeo",
        "outputId": "149a243f-b4d1-4cb6-af66-00253faef1fe"
      },
      "outputs": [
        {
          "output_type": "execute_result",
          "data": {
            "text/plain": [
              "[{'review': 'The delivery was prompt and the package arrived in perfect condition.',\n",
              "  'sentiment': 'Positive'},\n",
              " {'review': 'I had to wait a long time for my order, an when it finally arrived, the product was damaged and not intact and couriers service unable to manage simultaneous customer requests',\n",
              "  'sentiment': 'Negative'},\n",
              " {'role': 'user',\n",
              "  'content': '```\\nExpressWay Logistics is a lifesaver when it comes to shipping. Their prompt and professional service ensures that my packages always arrive on time and in excellent condition. \\nWhat sets them apart is their attention to detail - they take the time to understand my specific needs and tailor their solutions accordingly. \\nI highly recommend ExpressWay Logistics to anyone in need of reliable shipping services.```'}]"
            ]
          },
          "metadata": {},
          "execution_count": 97
        }
      ],
      "source": [
        "few_shot_prompt"
      ]
    },
    {
      "cell_type": "code",
      "execution_count": null,
      "metadata": {
        "colab": {
          "base_uri": "https://localhost:8080/"
        },
        "id": "ItFH6zLJMnb9",
        "outputId": "bb54b997-4b4a-44cb-86d2-60ad1075b119"
      },
      "outputs": [
        {
          "output_type": "execute_result",
          "data": {
            "text/plain": [
              "137"
            ]
          },
          "metadata": {},
          "execution_count": 98
        }
      ],
      "source": [
        "num_tokens_from_messages(few_shot_prompt)"
      ]
    },
    {
      "cell_type": "markdown",
      "metadata": {
        "id": "mcI8oyIcPfPW"
      },
      "source": [
        "##**Step 4: Evaluate prompts (8 Marks)**\n",
        "\n",
        "(A) Evaluate Zero Shot Prompt (2 Marks)\n",
        "\n",
        "(B) Evaluate Few Shot Prompt (2 marks)\n",
        "\n",
        "(C) Calculate Mean and Standard Deviation for Zero Shot Prompt and Few Shot Prompt (4 Marks)"
      ]
    },
    {
      "cell_type": "markdown",
      "metadata": {
        "id": "2BWfjbiFUCSp"
      },
      "source": [
        "Now we have two sets of prompts that we need to evaluate using gold labels. Since the few-shot prompt depends on the sample of examples that was drawn to make up the prompt, we expect some variability in evaluation. Hence, we evaluate each prompt multiple times to get a sense of the average and the variation around the average.\n",
        "\n",
        "To reiterate, a choice on the prompt should account for variability due to the choice of the random sample. To aid repeated evaluation, we assemble an evaluation function ."
      ]
    },
    {
      "cell_type": "code",
      "execution_count": null,
      "metadata": {
        "id": "yWpWWcLAzgGY"
      },
      "outputs": [],
      "source": [
        "def evaluate_prompt(prompt, gold_examples, user_message_template):\n",
        "\n",
        "    \"\"\"\n",
        "    Return the micro-F1 score for predictions on gold examples.\n",
        "    For each example, we make a prediction using the prompt. Gold labels and\n",
        "    model predictions are aggregated into lists and compared to compute the\n",
        "    F1 score.\n",
        "\n",
        "    Args:\n",
        "        prompt (List): list of messages in the Open AI prompt format\n",
        "        gold_examples (str): JSON string with list of gold examples\n",
        "        user_message_template (str): string with a placeholder for courier service review\n",
        "\n",
        "    Output:\n",
        "        micro_f1_score (float): Micro-F1 score computed by comparing model predictions\n",
        "                                with ground truth\n",
        "    \"\"\"\n",
        "\n",
        "    model_predictions, ground_truths, review_texts = [], [], []\n",
        "\n",
        "    for example in json.loads(gold_examples):\n",
        "        gold_input = example['review']\n",
        "        user_input = [\n",
        "            {\n",
        "                'role':'user',\n",
        "                'content': user_message_template.format(courier_service_review=gold_input)\n",
        "            }\n",
        "        ]\n",
        "\n",
        "        try:\n",
        "            response = client.chat.completions.create(\n",
        "                model=chat_model_id,\n",
        "                messages=prompt+user_input,\n",
        "                temperature=0, # <- Note the low temperature (For a deterministic response)\n",
        "                max_tokens=2 # <- Note how we restrict the output to not more than 2 tokens\n",
        "            )\n",
        "\n",
        "            prediction = response.choices[0].message.content\n",
        "            # response = openai.ChatCompletion.create(\n",
        "            #     deployment_id=chat_model_id,\n",
        "            #     messages=prompt+user_input,\n",
        "            #     temperature=0, # <- Note the low temperature(For a deterministic response)\n",
        "            #     # max_tokens=2 # <- Note how we restrict the output to not more than 2 tokens\n",
        "            # )\n",
        "\n",
        "            # prediction = response['choices'][0]['message']['content']\n",
        "            model_predictions.append(prediction.strip()) # <- removes extraneous white spaces\n",
        "            ground_truths.append(example['sentiment'])\n",
        "            review_texts.append(gold_input)\n",
        "\n",
        "        except Exception as e:\n",
        "            continue\n",
        "\n",
        "    micro_f1_score = f1_score(ground_truths, model_predictions, average=\"micro\")\n",
        "\n",
        "    table_data = [[text, pred, truth] for text, pred, truth in zip(review_texts, model_predictions, ground_truths)]\n",
        "    headers = [\"Review\", \"Model Prediction\", \"Ground Truth\"]\n",
        "    print(tabulate(table_data, headers=headers, tablefmt=\"grid\"))\n",
        "\n",
        "    return micro_f1_score\n"
      ]
    },
    {
      "cell_type": "markdown",
      "metadata": {
        "id": "s61rE4tMVHqt"
      },
      "source": [
        "Let us now use this function to do one evaluation of all the two prompts assembled so far, each time computing the Micro-F1 score."
      ]
    },
    {
      "cell_type": "markdown",
      "metadata": {
        "id": "XpmEiVPIZUBl",
        "nteract": {
          "transient": {
            "deleting": false
          }
        }
      },
      "source": [
        "**(A) Evaluate zero shot prompt (2 Marks)**"
      ]
    },
    {
      "cell_type": "code",
      "execution_count": null,
      "metadata": {
        "id": "Kar164F4nd9x",
        "colab": {
          "base_uri": "https://localhost:8080/"
        },
        "outputId": "e0eb00d1-a20d-463f-d3c5-0d74f2c4456f"
      },
      "outputs": [
        {
          "output_type": "stream",
          "name": "stdout",
          "text": [
            "Evaluating Zero-shot prompt...\n",
            "+-------------------------------------------------------------------------------------------------------------------------------------------------------------------------------------------------------------------------------------------------------------------------------------------------------------------------------------------------------------------------------------------------------------------------------------------------------------------------------------------------------------------------------------------------------------------------------------------------+--------------------+----------------+\n",
            "| Review                                                                                                                                                                                                                                                                                                                                                                                                                                                                                                                                                                                          | Model Prediction   | Ground Truth   |\n",
            "+=================================================================================================================================================================================================================================================================================================================================================================================================================================================================================================================================================================================================+====================+================+\n",
            "| The delivery executive assigned by ExpressWay Logistics was courteous and professional during the delivery process. They tried their best to handle the package with care.Unfortunately, the package arrived with slight damage despite the delivery executive's efforts. The packaging seemed more than adequate to protect the contents during transit.                                                                                                                                                                                                                                       | Negative           | Positive       |\n",
            "+-------------------------------------------------------------------------------------------------------------------------------------------------------------------------------------------------------------------------------------------------------------------------------------------------------------------------------------------------------------------------------------------------------------------------------------------------------------------------------------------------------------------------------------------------------------------------------------------------+--------------------+----------------+\n",
            "| ExpressWay Logistics failed to meet my expectations. The delivery was delayed, and the customer support team was unresponsive and unhelpful when I tried to inquire about the status of my parcel.                                                                                                                                                                                                                                                                                                                                                                                              | negative           | Negative       |\n",
            "+-------------------------------------------------------------------------------------------------------------------------------------------------------------------------------------------------------------------------------------------------------------------------------------------------------------------------------------------------------------------------------------------------------------------------------------------------------------------------------------------------------------------------------------------------------------------------------------------------+--------------------+----------------+\n",
            "| ExpressWay Logistics' incompetence resulted in a major inconvenience when my package was delivered to the wrong recipient. Despite providing accurate delivery information, the package ended up in the hands of someone else, and efforts to retrieve it were unsuccessful. When I contacted customer service for assistance, I was met with apathy and a lack of urgency. Their failure to rectify the situation in a timely manner is unacceptable, and I will be avoiding their services at all costs.                                                                                      | negative           | Negative       |\n",
            "+-------------------------------------------------------------------------------------------------------------------------------------------------------------------------------------------------------------------------------------------------------------------------------------------------------------------------------------------------------------------------------------------------------------------------------------------------------------------------------------------------------------------------------------------------------------------------------------------------+--------------------+----------------+\n",
            "| Kudos to ExpressWay Logistics for their outstanding service! They've been an essential partner for my business, handling all our shipping needs with professionalism and efficiency. If you're looking for a reliable logistic service provider, look no further than ExpressWay Logistics.                                                                                                                                                                                                                                                                                                     | positive           | Positive       |\n",
            "+-------------------------------------------------------------------------------------------------------------------------------------------------------------------------------------------------------------------------------------------------------------------------------------------------------------------------------------------------------------------------------------------------------------------------------------------------------------------------------------------------------------------------------------------------------------------------------------------------+--------------------+----------------+\n",
            "| ExpressWay Logistics offers a convenient online platform for booking shipments, and their competitive rates initially drew me in. However, the frequent delays in delivery and lack of transparency regarding additional fees have soured my experience. While their customer service representatives are polite, they often seem powerless to resolve issues effectively.This lack of care and responsibilites from the concerned teams have led me unsatisfied and irritated.I cannot trust and rely on this again.Will definitely not contact them ever for my courier deliveries!           | Negative           | Negative       |\n",
            "+-------------------------------------------------------------------------------------------------------------------------------------------------------------------------------------------------------------------------------------------------------------------------------------------------------------------------------------------------------------------------------------------------------------------------------------------------------------------------------------------------------------------------------------------------------------------------------------------------+--------------------+----------------+\n",
            "| Planning a destination wedding is undoubtedly a daunting task, especially when it comes to coordinating transportation for guests and wedding essentials. Fortunately, ExpressWay Logistics made this aspect of our wedding planning effortless. From the beginning, they were attentive to our needs and provided valuable insights to streamline the process.                                                                                                                                                                                                                                 | positive           | Positive       |\n",
            "+-------------------------------------------------------------------------------------------------------------------------------------------------------------------------------------------------------------------------------------------------------------------------------------------------------------------------------------------------------------------------------------------------------------------------------------------------------------------------------------------------------------------------------------------------------------------------------------------------+--------------------+----------------+\n",
            "| ExpressWay Logistics consistently delivers on its promises, providing fast, efficient, and reliable courier services that exceeded my expectations.                                                                                                                                                                                                                                                                                                                                                                                                                                             | positive           | Positive       |\n",
            "+-------------------------------------------------------------------------------------------------------------------------------------------------------------------------------------------------------------------------------------------------------------------------------------------------------------------------------------------------------------------------------------------------------------------------------------------------------------------------------------------------------------------------------------------------------------------------------------------------+--------------------+----------------+\n",
            "| I needed to ship perishable items internationally, and ExpressWay Logistics handled the process flawlessly. They ensured that the items were properly packaged and transported in temperature-controlled conditions.                                                                                                                                                                                                                                                                                                                                                                            | positive           | Positive       |\n",
            "+-------------------------------------------------------------------------------------------------------------------------------------------------------------------------------------------------------------------------------------------------------------------------------------------------------------------------------------------------------------------------------------------------------------------------------------------------------------------------------------------------------------------------------------------------------------------------------------------------+--------------------+----------------+\n",
            "| I appreciated the flexibility offered by ExpressWay Logistics in terms of delivery options. Their range of delivery speeds and service levels allowed me to choose the option that best suited my needs and budget.However, I was slightly disappointed by the lack of transparency regarding few additional fees and surcharges. I selected a specific delivery option and paid minor charges at checkout, which undermined the initial affordability of the service..                                                                                                                         | Mixed              | Negative       |\n",
            "+-------------------------------------------------------------------------------------------------------------------------------------------------------------------------------------------------------------------------------------------------------------------------------------------------------------------------------------------------------------------------------------------------------------------------------------------------------------------------------------------------------------------------------------------------------------------------------------------------+--------------------+----------------+\n",
            "| While ExpressWay Logistics' pricing is competitive, their lack of accountability for delays and damages is disappointing. It's frustrating to pay for a service that fails to deliver on its promises consistently.                                                                                                                                                                                                                                                                                                                                                                             | negative           | Negative       |\n",
            "+-------------------------------------------------------------------------------------------------------------------------------------------------------------------------------------------------------------------------------------------------------------------------------------------------------------------------------------------------------------------------------------------------------------------------------------------------------------------------------------------------------------------------------------------------------------------------------------------------+--------------------+----------------+\n",
            "| ExpressWay Logistics' pricing may seem attractive at first glance, but beware of some internal hidden fees that may sometimes add up. Coupled with their reliable delivery times, it's simply not worth the hassle.But still I appreciate that my parcel got delivered safely a day after the promised window.                                                                                                                                                                                                                                                                                  | Negative           | Positive       |\n",
            "+-------------------------------------------------------------------------------------------------------------------------------------------------------------------------------------------------------------------------------------------------------------------------------------------------------------------------------------------------------------------------------------------------------------------------------------------------------------------------------------------------------------------------------------------------------------------------------------------------+--------------------+----------------+\n",
            "| ExpressWay Logistics has been my go-to courier service for years, primarily due to their extensive network coverage and competitive pricing. However, my recent experience has left me questioning their reliability. While their user-friendly website and efficient booking process remain commendable, the repeated delays in delivery and lack of proactive communication have been disappointing.Despite these setbacks, their customer service team has always been courteous and responsive, attempting to address my concerns promptly.                                                 | negative           | Negative       |\n",
            "+-------------------------------------------------------------------------------------------------------------------------------------------------------------------------------------------------------------------------------------------------------------------------------------------------------------------------------------------------------------------------------------------------------------------------------------------------------------------------------------------------------------------------------------------------------------------------------------------------+--------------------+----------------+\n",
            "| ExpressWay Logistics' incompetence led to the loss of my parcel, and their lack of accountability only added to the frustration. Despite filing a claim and providing evidence of the missing items, I received no assistance or compensation for the lost package. Their negligence and disregard for customer satisfaction are unacceptable, and I will be exploring legal options to recoup the value of the lost items.                                                                                                                                                                     | negative           | Negative       |\n",
            "+-------------------------------------------------------------------------------------------------------------------------------------------------------------------------------------------------------------------------------------------------------------------------------------------------------------------------------------------------------------------------------------------------------------------------------------------------------------------------------------------------------------------------------------------------------------------------------------------------+--------------------+----------------+\n",
            "| I was deeply disappointed by the behavior of the delivery executive from Expressway Logistics. They exhibited a complete disregard for customer satisfaction, arriving late and mishandling the package upon delivery. Despite raising my concerns with Expressway Logistics, there was no acknowledgment or resolution provided.                                                                                                                                                                                                                                                               | negative           | Negative       |\n",
            "+-------------------------------------------------------------------------------------------------------------------------------------------------------------------------------------------------------------------------------------------------------------------------------------------------------------------------------------------------------------------------------------------------------------------------------------------------------------------------------------------------------------------------------------------------------------------------------------------------+--------------------+----------------+\n",
            "| As a frequent traveler, I often use ExpressWay Logistics to ship luggage and personal belongings ahead of time. Their door-to-door service and reliable tracking make traveling a breeze.                                                                                                                                                                                                                                                                                                                                                                                                       | positive           | Positive       |\n",
            "+-------------------------------------------------------------------------------------------------------------------------------------------------------------------------------------------------------------------------------------------------------------------------------------------------------------------------------------------------------------------------------------------------------------------------------------------------------------------------------------------------------------------------------------------------------------------------------------------------+--------------------+----------------+\n",
            "| ExpressWay Logistics caught my attention with its promise of seamless shipping solutions and a comprehensive network. However, my recent experiences have revealed some significant shortcomings. Their online platform is disgusting and their tracking system is inaccurate.I've encountered repeated issues with inaccurate weight calculations that have led to unexpected charges. Moreover, the limited options for customizing shipment preferences have made it challenging to meet my requirements.I cannot rely upon it for my future requirements.It failed to meet my requirements. | negative           | Negative       |\n",
            "+-------------------------------------------------------------------------------------------------------------------------------------------------------------------------------------------------------------------------------------------------------------------------------------------------------------------------------------------------------------------------------------------------------------------------------------------------------------------------------------------------------------------------------------------------------------------------------------------------+--------------------+----------------+\n",
            "| The packaging provided by ExpressWay Logistics is always secure and well-protected, and ensured that my items arrive in perfect condition.                                                                                                                                                                                                                                                                                                                                                                                                                                                      | positive           | Positive       |\n",
            "+-------------------------------------------------------------------------------------------------------------------------------------------------------------------------------------------------------------------------------------------------------------------------------------------------------------------------------------------------------------------------------------------------------------------------------------------------------------------------------------------------------------------------------------------------------------------------------------------------+--------------------+----------------+\n",
            "| My recent experience with ExpressWay Logistics left me thoroughly impressed. I had a highly time-sensitive shipment that required delicate handling and precise coordination. Despite the challenges, ExpressWay rose to the occasion, demonstrating an unparalleled level of professionalism and efficiency. Their team meticulously planned every aspect of the shipment, from packaging to transportation, ensuring that no detail was overlooked.                                                                                                                                           | positive           | Positive       |\n",
            "+-------------------------------------------------------------------------------------------------------------------------------------------------------------------------------------------------------------------------------------------------------------------------------------------------------------------------------------------------------------------------------------------------------------------------------------------------------------------------------------------------------------------------------------------------------------------------------------------------+--------------------+----------------+\n",
            "| I was initially impressed by ExpressWay Logistics' promise of reliability and affordability, but my recent encounters have been less than satisfactory. Their website is so irritating and their drivers are too harsh, the repeated delays in delivery have been frustrating. Additionally, the discovery of hidden fees within their pricing structure has left me feeling misled. In addition to these challenges, their customer service team has been inattentive and disrespectful, which has degraded the overall experience.Not at all recommend!                                       | negative           | Negative       |\n",
            "+-------------------------------------------------------------------------------------------------------------------------------------------------------------------------------------------------------------------------------------------------------------------------------------------------------------------------------------------------------------------------------------------------------------------------------------------------------------------------------------------------------------------------------------------------------------------------------------------------+--------------------+----------------+\n",
            "| Thumbs up to ExpressWay for their prompt responses and reliable shipping solutions. Impressed!                                                                                                                                                                                                                                                                                                                                                                                                                                                                                                  | positive           | Positive       |\n",
            "+-------------------------------------------------------------------------------------------------------------------------------------------------------------------------------------------------------------------------------------------------------------------------------------------------------------------------------------------------------------------------------------------------------------------------------------------------------------------------------------------------------------------------------------------------------------------------------------------------+--------------------+----------------+\n",
            "| I had a terrible experience with ExpressWay Logistics. Not only was my pickup delayed, but the packaging was not done intactly, and the customer support team was unresponsive when I tried to raise the issue.                                                                                                                                                                                                                                                                                                                                                                                 | negative           | Negative       |\n",
            "+-------------------------------------------------------------------------------------------------------------------------------------------------------------------------------------------------------------------------------------------------------------------------------------------------------------------------------------------------------------------------------------------------------------------------------------------------------------------------------------------------------------------------------------------------------------------------------------------------+--------------------+----------------+\n",
            "Zero-Shot Micro-F1 Score: 0.0476\n"
          ]
        }
      ],
      "source": [
        "# 1. Evaluate Zero-shot prompt\n",
        "print(\"Evaluating Zero-shot prompt...\")\n",
        "#evaluate_prompt(zero_shot_prompt, gold_examples, user_message_template)\n",
        "#user_message_template.format(courier_service_review=courier_service_review)\n",
        "zero_shot_f1 = evaluate_prompt(zero_shot_prompt, gold_examples, user_message_template)\n",
        "print(f\"Zero-Shot Micro-F1 Score: {zero_shot_f1:.4f}\")"
      ]
    },
    {
      "cell_type": "markdown",
      "metadata": {
        "id": "ya73XdatZUBl",
        "nteract": {
          "transient": {
            "deleting": false
          }
        }
      },
      "source": [
        "**(B) Evaluate few shot prompt (2 Marks)**"
      ]
    },
    {
      "cell_type": "code",
      "execution_count": null,
      "metadata": {
        "id": "tqQTgKUkZUBl",
        "jupyter": {
          "outputs_hidden": false,
          "source_hidden": false
        },
        "nteract": {
          "transient": {
            "deleting": false
          }
        },
        "colab": {
          "base_uri": "https://localhost:8080/"
        },
        "outputId": "98fbcac5-8f46-4798-f659-3e62fa673468"
      },
      "outputs": [
        {
          "output_type": "stream",
          "name": "stdout",
          "text": [
            "Evaluating Few-shot prompt...\n",
            "+-------------------------------------------------------------------------------------------------------------------------------------------------------------------------------------------------------------------------------------------------------------------------------------------------------------------------------------------------------------------------------------------------------------------------------------------------------------------------------------------------------------------------------------------------------------------------------------------------+--------------------+----------------+\n",
            "| Review                                                                                                                                                                                                                                                                                                                                                                                                                                                                                                                                                                                          | Model Prediction   | Ground Truth   |\n",
            "+=================================================================================================================================================================================================================================================================================================================================================================================================================================================================================================================================================================================================+====================+================+\n",
            "| The delivery executive assigned by ExpressWay Logistics was courteous and professional during the delivery process. They tried their best to handle the package with care.Unfortunately, the package arrived with slight damage despite the delivery executive's efforts. The packaging seemed more than adequate to protect the contents during transit.                                                                                                                                                                                                                                       | Neutral            | Positive       |\n",
            "+-------------------------------------------------------------------------------------------------------------------------------------------------------------------------------------------------------------------------------------------------------------------------------------------------------------------------------------------------------------------------------------------------------------------------------------------------------------------------------------------------------------------------------------------------------------------------------------------------+--------------------+----------------+\n",
            "| ExpressWay Logistics failed to meet my expectations. The delivery was delayed, and the customer support team was unresponsive and unhelpful when I tried to inquire about the status of my parcel.                                                                                                                                                                                                                                                                                                                                                                                              | Negative           | Negative       |\n",
            "+-------------------------------------------------------------------------------------------------------------------------------------------------------------------------------------------------------------------------------------------------------------------------------------------------------------------------------------------------------------------------------------------------------------------------------------------------------------------------------------------------------------------------------------------------------------------------------------------------+--------------------+----------------+\n",
            "| ExpressWay Logistics' incompetence resulted in a major inconvenience when my package was delivered to the wrong recipient. Despite providing accurate delivery information, the package ended up in the hands of someone else, and efforts to retrieve it were unsuccessful. When I contacted customer service for assistance, I was met with apathy and a lack of urgency. Their failure to rectify the situation in a timely manner is unacceptable, and I will be avoiding their services at all costs.                                                                                      | Negative           | Negative       |\n",
            "+-------------------------------------------------------------------------------------------------------------------------------------------------------------------------------------------------------------------------------------------------------------------------------------------------------------------------------------------------------------------------------------------------------------------------------------------------------------------------------------------------------------------------------------------------------------------------------------------------+--------------------+----------------+\n",
            "| Kudos to ExpressWay Logistics for their outstanding service! They've been an essential partner for my business, handling all our shipping needs with professionalism and efficiency. If you're looking for a reliable logistic service provider, look no further than ExpressWay Logistics.                                                                                                                                                                                                                                                                                                     | Positive           | Positive       |\n",
            "+-------------------------------------------------------------------------------------------------------------------------------------------------------------------------------------------------------------------------------------------------------------------------------------------------------------------------------------------------------------------------------------------------------------------------------------------------------------------------------------------------------------------------------------------------------------------------------------------------+--------------------+----------------+\n",
            "| ExpressWay Logistics offers a convenient online platform for booking shipments, and their competitive rates initially drew me in. However, the frequent delays in delivery and lack of transparency regarding additional fees have soured my experience. While their customer service representatives are polite, they often seem powerless to resolve issues effectively.This lack of care and responsibilites from the concerned teams have led me unsatisfied and irritated.I cannot trust and rely on this again.Will definitely not contact them ever for my courier deliveries!           | Negative           | Negative       |\n",
            "+-------------------------------------------------------------------------------------------------------------------------------------------------------------------------------------------------------------------------------------------------------------------------------------------------------------------------------------------------------------------------------------------------------------------------------------------------------------------------------------------------------------------------------------------------------------------------------------------------+--------------------+----------------+\n",
            "| Planning a destination wedding is undoubtedly a daunting task, especially when it comes to coordinating transportation for guests and wedding essentials. Fortunately, ExpressWay Logistics made this aspect of our wedding planning effortless. From the beginning, they were attentive to our needs and provided valuable insights to streamline the process.                                                                                                                                                                                                                                 | Positive           | Positive       |\n",
            "+-------------------------------------------------------------------------------------------------------------------------------------------------------------------------------------------------------------------------------------------------------------------------------------------------------------------------------------------------------------------------------------------------------------------------------------------------------------------------------------------------------------------------------------------------------------------------------------------------+--------------------+----------------+\n",
            "| ExpressWay Logistics consistently delivers on its promises, providing fast, efficient, and reliable courier services that exceeded my expectations.                                                                                                                                                                                                                                                                                                                                                                                                                                             | Positive           | Positive       |\n",
            "+-------------------------------------------------------------------------------------------------------------------------------------------------------------------------------------------------------------------------------------------------------------------------------------------------------------------------------------------------------------------------------------------------------------------------------------------------------------------------------------------------------------------------------------------------------------------------------------------------+--------------------+----------------+\n",
            "| I needed to ship perishable items internationally, and ExpressWay Logistics handled the process flawlessly. They ensured that the items were properly packaged and transported in temperature-controlled conditions.                                                                                                                                                                                                                                                                                                                                                                            | Positive           | Positive       |\n",
            "+-------------------------------------------------------------------------------------------------------------------------------------------------------------------------------------------------------------------------------------------------------------------------------------------------------------------------------------------------------------------------------------------------------------------------------------------------------------------------------------------------------------------------------------------------------------------------------------------------+--------------------+----------------+\n",
            "| I appreciated the flexibility offered by ExpressWay Logistics in terms of delivery options. Their range of delivery speeds and service levels allowed me to choose the option that best suited my needs and budget.However, I was slightly disappointed by the lack of transparency regarding few additional fees and surcharges. I selected a specific delivery option and paid minor charges at checkout, which undermined the initial affordability of the service..                                                                                                                         | Mixed/             | Negative       |\n",
            "+-------------------------------------------------------------------------------------------------------------------------------------------------------------------------------------------------------------------------------------------------------------------------------------------------------------------------------------------------------------------------------------------------------------------------------------------------------------------------------------------------------------------------------------------------------------------------------------------------+--------------------+----------------+\n",
            "| While ExpressWay Logistics' pricing is competitive, their lack of accountability for delays and damages is disappointing. It's frustrating to pay for a service that fails to deliver on its promises consistently.                                                                                                                                                                                                                                                                                                                                                                             | Negative           | Negative       |\n",
            "+-------------------------------------------------------------------------------------------------------------------------------------------------------------------------------------------------------------------------------------------------------------------------------------------------------------------------------------------------------------------------------------------------------------------------------------------------------------------------------------------------------------------------------------------------------------------------------------------------+--------------------+----------------+\n",
            "| ExpressWay Logistics' pricing may seem attractive at first glance, but beware of some internal hidden fees that may sometimes add up. Coupled with their reliable delivery times, it's simply not worth the hassle.But still I appreciate that my parcel got delivered safely a day after the promised window.                                                                                                                                                                                                                                                                                  | Mixed/             | Positive       |\n",
            "+-------------------------------------------------------------------------------------------------------------------------------------------------------------------------------------------------------------------------------------------------------------------------------------------------------------------------------------------------------------------------------------------------------------------------------------------------------------------------------------------------------------------------------------------------------------------------------------------------+--------------------+----------------+\n",
            "| ExpressWay Logistics has been my go-to courier service for years, primarily due to their extensive network coverage and competitive pricing. However, my recent experience has left me questioning their reliability. While their user-friendly website and efficient booking process remain commendable, the repeated delays in delivery and lack of proactive communication have been disappointing.Despite these setbacks, their customer service team has always been courteous and responsive, attempting to address my concerns promptly.                                                 | Mixed/             | Negative       |\n",
            "+-------------------------------------------------------------------------------------------------------------------------------------------------------------------------------------------------------------------------------------------------------------------------------------------------------------------------------------------------------------------------------------------------------------------------------------------------------------------------------------------------------------------------------------------------------------------------------------------------+--------------------+----------------+\n",
            "| ExpressWay Logistics' incompetence led to the loss of my parcel, and their lack of accountability only added to the frustration. Despite filing a claim and providing evidence of the missing items, I received no assistance or compensation for the lost package. Their negligence and disregard for customer satisfaction are unacceptable, and I will be exploring legal options to recoup the value of the lost items.                                                                                                                                                                     | Negative           | Negative       |\n",
            "+-------------------------------------------------------------------------------------------------------------------------------------------------------------------------------------------------------------------------------------------------------------------------------------------------------------------------------------------------------------------------------------------------------------------------------------------------------------------------------------------------------------------------------------------------------------------------------------------------+--------------------+----------------+\n",
            "| I was deeply disappointed by the behavior of the delivery executive from Expressway Logistics. They exhibited a complete disregard for customer satisfaction, arriving late and mishandling the package upon delivery. Despite raising my concerns with Expressway Logistics, there was no acknowledgment or resolution provided.                                                                                                                                                                                                                                                               | Negative           | Negative       |\n",
            "+-------------------------------------------------------------------------------------------------------------------------------------------------------------------------------------------------------------------------------------------------------------------------------------------------------------------------------------------------------------------------------------------------------------------------------------------------------------------------------------------------------------------------------------------------------------------------------------------------+--------------------+----------------+\n",
            "| As a frequent traveler, I often use ExpressWay Logistics to ship luggage and personal belongings ahead of time. Their door-to-door service and reliable tracking make traveling a breeze.                                                                                                                                                                                                                                                                                                                                                                                                       | Positive           | Positive       |\n",
            "+-------------------------------------------------------------------------------------------------------------------------------------------------------------------------------------------------------------------------------------------------------------------------------------------------------------------------------------------------------------------------------------------------------------------------------------------------------------------------------------------------------------------------------------------------------------------------------------------------+--------------------+----------------+\n",
            "| ExpressWay Logistics caught my attention with its promise of seamless shipping solutions and a comprehensive network. However, my recent experiences have revealed some significant shortcomings. Their online platform is disgusting and their tracking system is inaccurate.I've encountered repeated issues with inaccurate weight calculations that have led to unexpected charges. Moreover, the limited options for customizing shipment preferences have made it challenging to meet my requirements.I cannot rely upon it for my future requirements.It failed to meet my requirements. | Negative           | Negative       |\n",
            "+-------------------------------------------------------------------------------------------------------------------------------------------------------------------------------------------------------------------------------------------------------------------------------------------------------------------------------------------------------------------------------------------------------------------------------------------------------------------------------------------------------------------------------------------------------------------------------------------------+--------------------+----------------+\n",
            "| The packaging provided by ExpressWay Logistics is always secure and well-protected, and ensured that my items arrive in perfect condition.                                                                                                                                                                                                                                                                                                                                                                                                                                                      | Positive           | Positive       |\n",
            "+-------------------------------------------------------------------------------------------------------------------------------------------------------------------------------------------------------------------------------------------------------------------------------------------------------------------------------------------------------------------------------------------------------------------------------------------------------------------------------------------------------------------------------------------------------------------------------------------------+--------------------+----------------+\n",
            "| My recent experience with ExpressWay Logistics left me thoroughly impressed. I had a highly time-sensitive shipment that required delicate handling and precise coordination. Despite the challenges, ExpressWay rose to the occasion, demonstrating an unparalleled level of professionalism and efficiency. Their team meticulously planned every aspect of the shipment, from packaging to transportation, ensuring that no detail was overlooked.                                                                                                                                           | Positive           | Positive       |\n",
            "+-------------------------------------------------------------------------------------------------------------------------------------------------------------------------------------------------------------------------------------------------------------------------------------------------------------------------------------------------------------------------------------------------------------------------------------------------------------------------------------------------------------------------------------------------------------------------------------------------+--------------------+----------------+\n",
            "| I was initially impressed by ExpressWay Logistics' promise of reliability and affordability, but my recent encounters have been less than satisfactory. Their website is so irritating and their drivers are too harsh, the repeated delays in delivery have been frustrating. Additionally, the discovery of hidden fees within their pricing structure has left me feeling misled. In addition to these challenges, their customer service team has been inattentive and disrespectful, which has degraded the overall experience.Not at all recommend!                                       | Negative           | Negative       |\n",
            "+-------------------------------------------------------------------------------------------------------------------------------------------------------------------------------------------------------------------------------------------------------------------------------------------------------------------------------------------------------------------------------------------------------------------------------------------------------------------------------------------------------------------------------------------------------------------------------------------------+--------------------+----------------+\n",
            "| Thumbs up to ExpressWay for their prompt responses and reliable shipping solutions. Impressed!                                                                                                                                                                                                                                                                                                                                                                                                                                                                                                  | Positive           | Positive       |\n",
            "+-------------------------------------------------------------------------------------------------------------------------------------------------------------------------------------------------------------------------------------------------------------------------------------------------------------------------------------------------------------------------------------------------------------------------------------------------------------------------------------------------------------------------------------------------------------------------------------------------+--------------------+----------------+\n",
            "| I had a terrible experience with ExpressWay Logistics. Not only was my pickup delayed, but the packaging was not done intactly, and the customer support team was unresponsive when I tried to raise the issue.                                                                                                                                                                                                                                                                                                                                                                                 | Negative           | Negative       |\n",
            "+-------------------------------------------------------------------------------------------------------------------------------------------------------------------------------------------------------------------------------------------------------------------------------------------------------------------------------------------------------------------------------------------------------------------------------------------------------------------------------------------------------------------------------------------------------------------------------------------------+--------------------+----------------+\n",
            "Few-shot Micro-F1 Score: 0.8095238095238095\n",
            "\n"
          ]
        }
      ],
      "source": [
        "# 2. Evaluate Few-shot prompt\n",
        "print(\"Evaluating Few-shot prompt...\")\n",
        "few_shot_f1 = evaluate_prompt(few_shot_prompt, gold_examples, user_message_template)\n",
        "print(f\"Few-shot Micro-F1 Score: {few_shot_f1}\\n\")"
      ]
    },
    {
      "cell_type": "markdown",
      "metadata": {
        "id": "IUYn7f-LVzs-"
      },
      "source": [
        "However, this is just *one* choice of examples. We will need to run these evaluations with multiple choices of examples to get a sense of variability in F1 score for the few-shot prompt. As an example, let us run evaluations for the few-shot prompt 5 times."
      ]
    },
    {
      "cell_type": "code",
      "execution_count": null,
      "metadata": {
        "id": "GTXUDXYy7dku"
      },
      "outputs": [],
      "source": [
        "num_eval_runs = 5"
      ]
    },
    {
      "cell_type": "code",
      "execution_count": null,
      "metadata": {
        "id": "n6pQkocytqG_"
      },
      "outputs": [],
      "source": [
        "zero_shot_performance = []\n",
        "few_shot_performance = []"
      ]
    },
    {
      "cell_type": "code",
      "execution_count": null,
      "metadata": {
        "colab": {
          "base_uri": "https://localhost:8080/"
        },
        "id": "BdUaodX3tseE",
        "outputId": "169493bd-8290-4fd1-b09a-b2f0845064a9"
      },
      "outputs": [
        {
          "output_type": "stream",
          "name": "stderr",
          "text": [
            "\r  0%|          | 0/5 [00:00<?, ?it/s]"
          ]
        },
        {
          "output_type": "stream",
          "name": "stdout",
          "text": [
            "+-------------------------------------------------------------------------------------------------------------------------------------------------------------------------------------------------------------------------------------------------------------------------------------------------------------------------------------------------------------------------------------------------------------------------------------------------------------------------------------------------------------------------------------------------------------------------------------------------+--------------------+----------------+\n",
            "| Review                                                                                                                                                                                                                                                                                                                                                                                                                                                                                                                                                                                          | Model Prediction   | Ground Truth   |\n",
            "+=================================================================================================================================================================================================================================================================================================================================================================================================================================================================================================================================================================================================+====================+================+\n",
            "| The delivery executive assigned by ExpressWay Logistics was courteous and professional during the delivery process. They tried their best to handle the package with care.Unfortunately, the package arrived with slight damage despite the delivery executive's efforts. The packaging seemed more than adequate to protect the contents during transit.                                                                                                                                                                                                                                       | Negative           | Positive       |\n",
            "+-------------------------------------------------------------------------------------------------------------------------------------------------------------------------------------------------------------------------------------------------------------------------------------------------------------------------------------------------------------------------------------------------------------------------------------------------------------------------------------------------------------------------------------------------------------------------------------------------+--------------------+----------------+\n",
            "| ExpressWay Logistics failed to meet my expectations. The delivery was delayed, and the customer support team was unresponsive and unhelpful when I tried to inquire about the status of my parcel.                                                                                                                                                                                                                                                                                                                                                                                              | negative           | Negative       |\n",
            "+-------------------------------------------------------------------------------------------------------------------------------------------------------------------------------------------------------------------------------------------------------------------------------------------------------------------------------------------------------------------------------------------------------------------------------------------------------------------------------------------------------------------------------------------------------------------------------------------------+--------------------+----------------+\n",
            "| ExpressWay Logistics' incompetence resulted in a major inconvenience when my package was delivered to the wrong recipient. Despite providing accurate delivery information, the package ended up in the hands of someone else, and efforts to retrieve it were unsuccessful. When I contacted customer service for assistance, I was met with apathy and a lack of urgency. Their failure to rectify the situation in a timely manner is unacceptable, and I will be avoiding their services at all costs.                                                                                      | negative           | Negative       |\n",
            "+-------------------------------------------------------------------------------------------------------------------------------------------------------------------------------------------------------------------------------------------------------------------------------------------------------------------------------------------------------------------------------------------------------------------------------------------------------------------------------------------------------------------------------------------------------------------------------------------------+--------------------+----------------+\n",
            "| Kudos to ExpressWay Logistics for their outstanding service! They've been an essential partner for my business, handling all our shipping needs with professionalism and efficiency. If you're looking for a reliable logistic service provider, look no further than ExpressWay Logistics.                                                                                                                                                                                                                                                                                                     | positive           | Positive       |\n",
            "+-------------------------------------------------------------------------------------------------------------------------------------------------------------------------------------------------------------------------------------------------------------------------------------------------------------------------------------------------------------------------------------------------------------------------------------------------------------------------------------------------------------------------------------------------------------------------------------------------+--------------------+----------------+\n",
            "| ExpressWay Logistics offers a convenient online platform for booking shipments, and their competitive rates initially drew me in. However, the frequent delays in delivery and lack of transparency regarding additional fees have soured my experience. While their customer service representatives are polite, they often seem powerless to resolve issues effectively.This lack of care and responsibilites from the concerned teams have led me unsatisfied and irritated.I cannot trust and rely on this again.Will definitely not contact them ever for my courier deliveries!           | Negative           | Negative       |\n",
            "+-------------------------------------------------------------------------------------------------------------------------------------------------------------------------------------------------------------------------------------------------------------------------------------------------------------------------------------------------------------------------------------------------------------------------------------------------------------------------------------------------------------------------------------------------------------------------------------------------+--------------------+----------------+\n",
            "| Planning a destination wedding is undoubtedly a daunting task, especially when it comes to coordinating transportation for guests and wedding essentials. Fortunately, ExpressWay Logistics made this aspect of our wedding planning effortless. From the beginning, they were attentive to our needs and provided valuable insights to streamline the process.                                                                                                                                                                                                                                 | positive           | Positive       |\n",
            "+-------------------------------------------------------------------------------------------------------------------------------------------------------------------------------------------------------------------------------------------------------------------------------------------------------------------------------------------------------------------------------------------------------------------------------------------------------------------------------------------------------------------------------------------------------------------------------------------------+--------------------+----------------+\n",
            "| ExpressWay Logistics consistently delivers on its promises, providing fast, efficient, and reliable courier services that exceeded my expectations.                                                                                                                                                                                                                                                                                                                                                                                                                                             | positive           | Positive       |\n",
            "+-------------------------------------------------------------------------------------------------------------------------------------------------------------------------------------------------------------------------------------------------------------------------------------------------------------------------------------------------------------------------------------------------------------------------------------------------------------------------------------------------------------------------------------------------------------------------------------------------+--------------------+----------------+\n",
            "| I needed to ship perishable items internationally, and ExpressWay Logistics handled the process flawlessly. They ensured that the items were properly packaged and transported in temperature-controlled conditions.                                                                                                                                                                                                                                                                                                                                                                            | positive           | Positive       |\n",
            "+-------------------------------------------------------------------------------------------------------------------------------------------------------------------------------------------------------------------------------------------------------------------------------------------------------------------------------------------------------------------------------------------------------------------------------------------------------------------------------------------------------------------------------------------------------------------------------------------------+--------------------+----------------+\n",
            "| I appreciated the flexibility offered by ExpressWay Logistics in terms of delivery options. Their range of delivery speeds and service levels allowed me to choose the option that best suited my needs and budget.However, I was slightly disappointed by the lack of transparency regarding few additional fees and surcharges. I selected a specific delivery option and paid minor charges at checkout, which undermined the initial affordability of the service..                                                                                                                         | Mixed              | Negative       |\n",
            "+-------------------------------------------------------------------------------------------------------------------------------------------------------------------------------------------------------------------------------------------------------------------------------------------------------------------------------------------------------------------------------------------------------------------------------------------------------------------------------------------------------------------------------------------------------------------------------------------------+--------------------+----------------+\n",
            "| While ExpressWay Logistics' pricing is competitive, their lack of accountability for delays and damages is disappointing. It's frustrating to pay for a service that fails to deliver on its promises consistently.                                                                                                                                                                                                                                                                                                                                                                             | negative           | Negative       |\n",
            "+-------------------------------------------------------------------------------------------------------------------------------------------------------------------------------------------------------------------------------------------------------------------------------------------------------------------------------------------------------------------------------------------------------------------------------------------------------------------------------------------------------------------------------------------------------------------------------------------------+--------------------+----------------+\n",
            "| ExpressWay Logistics' pricing may seem attractive at first glance, but beware of some internal hidden fees that may sometimes add up. Coupled with their reliable delivery times, it's simply not worth the hassle.But still I appreciate that my parcel got delivered safely a day after the promised window.                                                                                                                                                                                                                                                                                  | Negative           | Positive       |\n",
            "+-------------------------------------------------------------------------------------------------------------------------------------------------------------------------------------------------------------------------------------------------------------------------------------------------------------------------------------------------------------------------------------------------------------------------------------------------------------------------------------------------------------------------------------------------------------------------------------------------+--------------------+----------------+\n",
            "| ExpressWay Logistics has been my go-to courier service for years, primarily due to their extensive network coverage and competitive pricing. However, my recent experience has left me questioning their reliability. While their user-friendly website and efficient booking process remain commendable, the repeated delays in delivery and lack of proactive communication have been disappointing.Despite these setbacks, their customer service team has always been courteous and responsive, attempting to address my concerns promptly.                                                 | negative           | Negative       |\n",
            "+-------------------------------------------------------------------------------------------------------------------------------------------------------------------------------------------------------------------------------------------------------------------------------------------------------------------------------------------------------------------------------------------------------------------------------------------------------------------------------------------------------------------------------------------------------------------------------------------------+--------------------+----------------+\n",
            "| ExpressWay Logistics' incompetence led to the loss of my parcel, and their lack of accountability only added to the frustration. Despite filing a claim and providing evidence of the missing items, I received no assistance or compensation for the lost package. Their negligence and disregard for customer satisfaction are unacceptable, and I will be exploring legal options to recoup the value of the lost items.                                                                                                                                                                     | negative           | Negative       |\n",
            "+-------------------------------------------------------------------------------------------------------------------------------------------------------------------------------------------------------------------------------------------------------------------------------------------------------------------------------------------------------------------------------------------------------------------------------------------------------------------------------------------------------------------------------------------------------------------------------------------------+--------------------+----------------+\n",
            "| I was deeply disappointed by the behavior of the delivery executive from Expressway Logistics. They exhibited a complete disregard for customer satisfaction, arriving late and mishandling the package upon delivery. Despite raising my concerns with Expressway Logistics, there was no acknowledgment or resolution provided.                                                                                                                                                                                                                                                               | negative           | Negative       |\n",
            "+-------------------------------------------------------------------------------------------------------------------------------------------------------------------------------------------------------------------------------------------------------------------------------------------------------------------------------------------------------------------------------------------------------------------------------------------------------------------------------------------------------------------------------------------------------------------------------------------------+--------------------+----------------+\n",
            "| As a frequent traveler, I often use ExpressWay Logistics to ship luggage and personal belongings ahead of time. Their door-to-door service and reliable tracking make traveling a breeze.                                                                                                                                                                                                                                                                                                                                                                                                       | positive           | Positive       |\n",
            "+-------------------------------------------------------------------------------------------------------------------------------------------------------------------------------------------------------------------------------------------------------------------------------------------------------------------------------------------------------------------------------------------------------------------------------------------------------------------------------------------------------------------------------------------------------------------------------------------------+--------------------+----------------+\n",
            "| ExpressWay Logistics caught my attention with its promise of seamless shipping solutions and a comprehensive network. However, my recent experiences have revealed some significant shortcomings. Their online platform is disgusting and their tracking system is inaccurate.I've encountered repeated issues with inaccurate weight calculations that have led to unexpected charges. Moreover, the limited options for customizing shipment preferences have made it challenging to meet my requirements.I cannot rely upon it for my future requirements.It failed to meet my requirements. | negative           | Negative       |\n",
            "+-------------------------------------------------------------------------------------------------------------------------------------------------------------------------------------------------------------------------------------------------------------------------------------------------------------------------------------------------------------------------------------------------------------------------------------------------------------------------------------------------------------------------------------------------------------------------------------------------+--------------------+----------------+\n",
            "| The packaging provided by ExpressWay Logistics is always secure and well-protected, and ensured that my items arrive in perfect condition.                                                                                                                                                                                                                                                                                                                                                                                                                                                      | positive           | Positive       |\n",
            "+-------------------------------------------------------------------------------------------------------------------------------------------------------------------------------------------------------------------------------------------------------------------------------------------------------------------------------------------------------------------------------------------------------------------------------------------------------------------------------------------------------------------------------------------------------------------------------------------------+--------------------+----------------+\n",
            "| My recent experience with ExpressWay Logistics left me thoroughly impressed. I had a highly time-sensitive shipment that required delicate handling and precise coordination. Despite the challenges, ExpressWay rose to the occasion, demonstrating an unparalleled level of professionalism and efficiency. Their team meticulously planned every aspect of the shipment, from packaging to transportation, ensuring that no detail was overlooked.                                                                                                                                           | positive           | Positive       |\n",
            "+-------------------------------------------------------------------------------------------------------------------------------------------------------------------------------------------------------------------------------------------------------------------------------------------------------------------------------------------------------------------------------------------------------------------------------------------------------------------------------------------------------------------------------------------------------------------------------------------------+--------------------+----------------+\n",
            "| I was initially impressed by ExpressWay Logistics' promise of reliability and affordability, but my recent encounters have been less than satisfactory. Their website is so irritating and their drivers are too harsh, the repeated delays in delivery have been frustrating. Additionally, the discovery of hidden fees within their pricing structure has left me feeling misled. In addition to these challenges, their customer service team has been inattentive and disrespectful, which has degraded the overall experience.Not at all recommend!                                       | negative           | Negative       |\n",
            "+-------------------------------------------------------------------------------------------------------------------------------------------------------------------------------------------------------------------------------------------------------------------------------------------------------------------------------------------------------------------------------------------------------------------------------------------------------------------------------------------------------------------------------------------------------------------------------------------------+--------------------+----------------+\n",
            "| Thumbs up to ExpressWay for their prompt responses and reliable shipping solutions. Impressed!                                                                                                                                                                                                                                                                                                                                                                                                                                                                                                  | positive           | Positive       |\n",
            "+-------------------------------------------------------------------------------------------------------------------------------------------------------------------------------------------------------------------------------------------------------------------------------------------------------------------------------------------------------------------------------------------------------------------------------------------------------------------------------------------------------------------------------------------------------------------------------------------------+--------------------+----------------+\n",
            "| I had a terrible experience with ExpressWay Logistics. Not only was my pickup delayed, but the packaging was not done intactly, and the customer support team was unresponsive when I tried to raise the issue.                                                                                                                                                                                                                                                                                                                                                                                 | negative           | Negative       |\n",
            "+-------------------------------------------------------------------------------------------------------------------------------------------------------------------------------------------------------------------------------------------------------------------------------------------------------------------------------------------------------------------------------------------------------------------------------------------------------------------------------------------------------------------------------------------------------------------------------------------------+--------------------+----------------+\n"
          ]
        },
        {
          "output_type": "stream",
          "name": "stderr",
          "text": [
            "\r 20%|██        | 1/5 [00:06<00:25,  6.31s/it]"
          ]
        },
        {
          "output_type": "stream",
          "name": "stdout",
          "text": [
            "+-------------------------------------------------------------------------------------------------------------------------------------------------------------------------------------------------------------------------------------------------------------------------------------------------------------------------------------------------------------------------------------------------------------------------------------------------------------------------------------------------------------------------------------------------------------------------------------------------+--------------------+----------------+\n",
            "| Review                                                                                                                                                                                                                                                                                                                                                                                                                                                                                                                                                                                          | Model Prediction   | Ground Truth   |\n",
            "+=================================================================================================================================================================================================================================================================================================================================================================================================================================================================================================================================================================================================+====================+================+\n",
            "| The delivery executive assigned by ExpressWay Logistics was courteous and professional during the delivery process. They tried their best to handle the package with care.Unfortunately, the package arrived with slight damage despite the delivery executive's efforts. The packaging seemed more than adequate to protect the contents during transit.                                                                                                                                                                                                                                       | Neutral            | Positive       |\n",
            "+-------------------------------------------------------------------------------------------------------------------------------------------------------------------------------------------------------------------------------------------------------------------------------------------------------------------------------------------------------------------------------------------------------------------------------------------------------------------------------------------------------------------------------------------------------------------------------------------------+--------------------+----------------+\n",
            "| ExpressWay Logistics failed to meet my expectations. The delivery was delayed, and the customer support team was unresponsive and unhelpful when I tried to inquire about the status of my parcel.                                                                                                                                                                                                                                                                                                                                                                                              | Negative           | Negative       |\n",
            "+-------------------------------------------------------------------------------------------------------------------------------------------------------------------------------------------------------------------------------------------------------------------------------------------------------------------------------------------------------------------------------------------------------------------------------------------------------------------------------------------------------------------------------------------------------------------------------------------------+--------------------+----------------+\n",
            "| ExpressWay Logistics' incompetence resulted in a major inconvenience when my package was delivered to the wrong recipient. Despite providing accurate delivery information, the package ended up in the hands of someone else, and efforts to retrieve it were unsuccessful. When I contacted customer service for assistance, I was met with apathy and a lack of urgency. Their failure to rectify the situation in a timely manner is unacceptable, and I will be avoiding their services at all costs.                                                                                      | Negative           | Negative       |\n",
            "+-------------------------------------------------------------------------------------------------------------------------------------------------------------------------------------------------------------------------------------------------------------------------------------------------------------------------------------------------------------------------------------------------------------------------------------------------------------------------------------------------------------------------------------------------------------------------------------------------+--------------------+----------------+\n",
            "| Kudos to ExpressWay Logistics for their outstanding service! They've been an essential partner for my business, handling all our shipping needs with professionalism and efficiency. If you're looking for a reliable logistic service provider, look no further than ExpressWay Logistics.                                                                                                                                                                                                                                                                                                     | Positive           | Positive       |\n",
            "+-------------------------------------------------------------------------------------------------------------------------------------------------------------------------------------------------------------------------------------------------------------------------------------------------------------------------------------------------------------------------------------------------------------------------------------------------------------------------------------------------------------------------------------------------------------------------------------------------+--------------------+----------------+\n",
            "| ExpressWay Logistics offers a convenient online platform for booking shipments, and their competitive rates initially drew me in. However, the frequent delays in delivery and lack of transparency regarding additional fees have soured my experience. While their customer service representatives are polite, they often seem powerless to resolve issues effectively.This lack of care and responsibilites from the concerned teams have led me unsatisfied and irritated.I cannot trust and rely on this again.Will definitely not contact them ever for my courier deliveries!           | Negative           | Negative       |\n",
            "+-------------------------------------------------------------------------------------------------------------------------------------------------------------------------------------------------------------------------------------------------------------------------------------------------------------------------------------------------------------------------------------------------------------------------------------------------------------------------------------------------------------------------------------------------------------------------------------------------+--------------------+----------------+\n",
            "| Planning a destination wedding is undoubtedly a daunting task, especially when it comes to coordinating transportation for guests and wedding essentials. Fortunately, ExpressWay Logistics made this aspect of our wedding planning effortless. From the beginning, they were attentive to our needs and provided valuable insights to streamline the process.                                                                                                                                                                                                                                 | Positive           | Positive       |\n",
            "+-------------------------------------------------------------------------------------------------------------------------------------------------------------------------------------------------------------------------------------------------------------------------------------------------------------------------------------------------------------------------------------------------------------------------------------------------------------------------------------------------------------------------------------------------------------------------------------------------+--------------------+----------------+\n",
            "| ExpressWay Logistics consistently delivers on its promises, providing fast, efficient, and reliable courier services that exceeded my expectations.                                                                                                                                                                                                                                                                                                                                                                                                                                             | Positive           | Positive       |\n",
            "+-------------------------------------------------------------------------------------------------------------------------------------------------------------------------------------------------------------------------------------------------------------------------------------------------------------------------------------------------------------------------------------------------------------------------------------------------------------------------------------------------------------------------------------------------------------------------------------------------+--------------------+----------------+\n",
            "| I needed to ship perishable items internationally, and ExpressWay Logistics handled the process flawlessly. They ensured that the items were properly packaged and transported in temperature-controlled conditions.                                                                                                                                                                                                                                                                                                                                                                            | Positive           | Positive       |\n",
            "+-------------------------------------------------------------------------------------------------------------------------------------------------------------------------------------------------------------------------------------------------------------------------------------------------------------------------------------------------------------------------------------------------------------------------------------------------------------------------------------------------------------------------------------------------------------------------------------------------+--------------------+----------------+\n",
            "| I appreciated the flexibility offered by ExpressWay Logistics in terms of delivery options. Their range of delivery speeds and service levels allowed me to choose the option that best suited my needs and budget.However, I was slightly disappointed by the lack of transparency regarding few additional fees and surcharges. I selected a specific delivery option and paid minor charges at checkout, which undermined the initial affordability of the service..                                                                                                                         | Mixed/             | Negative       |\n",
            "+-------------------------------------------------------------------------------------------------------------------------------------------------------------------------------------------------------------------------------------------------------------------------------------------------------------------------------------------------------------------------------------------------------------------------------------------------------------------------------------------------------------------------------------------------------------------------------------------------+--------------------+----------------+\n",
            "| While ExpressWay Logistics' pricing is competitive, their lack of accountability for delays and damages is disappointing. It's frustrating to pay for a service that fails to deliver on its promises consistently.                                                                                                                                                                                                                                                                                                                                                                             | Negative           | Negative       |\n",
            "+-------------------------------------------------------------------------------------------------------------------------------------------------------------------------------------------------------------------------------------------------------------------------------------------------------------------------------------------------------------------------------------------------------------------------------------------------------------------------------------------------------------------------------------------------------------------------------------------------+--------------------+----------------+\n",
            "| ExpressWay Logistics' pricing may seem attractive at first glance, but beware of some internal hidden fees that may sometimes add up. Coupled with their reliable delivery times, it's simply not worth the hassle.But still I appreciate that my parcel got delivered safely a day after the promised window.                                                                                                                                                                                                                                                                                  | Mixed/             | Positive       |\n",
            "+-------------------------------------------------------------------------------------------------------------------------------------------------------------------------------------------------------------------------------------------------------------------------------------------------------------------------------------------------------------------------------------------------------------------------------------------------------------------------------------------------------------------------------------------------------------------------------------------------+--------------------+----------------+\n",
            "| ExpressWay Logistics has been my go-to courier service for years, primarily due to their extensive network coverage and competitive pricing. However, my recent experience has left me questioning their reliability. While their user-friendly website and efficient booking process remain commendable, the repeated delays in delivery and lack of proactive communication have been disappointing.Despite these setbacks, their customer service team has always been courteous and responsive, attempting to address my concerns promptly.                                                 | Negative           | Negative       |\n",
            "+-------------------------------------------------------------------------------------------------------------------------------------------------------------------------------------------------------------------------------------------------------------------------------------------------------------------------------------------------------------------------------------------------------------------------------------------------------------------------------------------------------------------------------------------------------------------------------------------------+--------------------+----------------+\n",
            "| ExpressWay Logistics' incompetence led to the loss of my parcel, and their lack of accountability only added to the frustration. Despite filing a claim and providing evidence of the missing items, I received no assistance or compensation for the lost package. Their negligence and disregard for customer satisfaction are unacceptable, and I will be exploring legal options to recoup the value of the lost items.                                                                                                                                                                     | Negative           | Negative       |\n",
            "+-------------------------------------------------------------------------------------------------------------------------------------------------------------------------------------------------------------------------------------------------------------------------------------------------------------------------------------------------------------------------------------------------------------------------------------------------------------------------------------------------------------------------------------------------------------------------------------------------+--------------------+----------------+\n",
            "| I was deeply disappointed by the behavior of the delivery executive from Expressway Logistics. They exhibited a complete disregard for customer satisfaction, arriving late and mishandling the package upon delivery. Despite raising my concerns with Expressway Logistics, there was no acknowledgment or resolution provided.                                                                                                                                                                                                                                                               | Negative           | Negative       |\n",
            "+-------------------------------------------------------------------------------------------------------------------------------------------------------------------------------------------------------------------------------------------------------------------------------------------------------------------------------------------------------------------------------------------------------------------------------------------------------------------------------------------------------------------------------------------------------------------------------------------------+--------------------+----------------+\n",
            "| As a frequent traveler, I often use ExpressWay Logistics to ship luggage and personal belongings ahead of time. Their door-to-door service and reliable tracking make traveling a breeze.                                                                                                                                                                                                                                                                                                                                                                                                       | Positive           | Positive       |\n",
            "+-------------------------------------------------------------------------------------------------------------------------------------------------------------------------------------------------------------------------------------------------------------------------------------------------------------------------------------------------------------------------------------------------------------------------------------------------------------------------------------------------------------------------------------------------------------------------------------------------+--------------------+----------------+\n",
            "| ExpressWay Logistics caught my attention with its promise of seamless shipping solutions and a comprehensive network. However, my recent experiences have revealed some significant shortcomings. Their online platform is disgusting and their tracking system is inaccurate.I've encountered repeated issues with inaccurate weight calculations that have led to unexpected charges. Moreover, the limited options for customizing shipment preferences have made it challenging to meet my requirements.I cannot rely upon it for my future requirements.It failed to meet my requirements. | Negative           | Negative       |\n",
            "+-------------------------------------------------------------------------------------------------------------------------------------------------------------------------------------------------------------------------------------------------------------------------------------------------------------------------------------------------------------------------------------------------------------------------------------------------------------------------------------------------------------------------------------------------------------------------------------------------+--------------------+----------------+\n",
            "| The packaging provided by ExpressWay Logistics is always secure and well-protected, and ensured that my items arrive in perfect condition.                                                                                                                                                                                                                                                                                                                                                                                                                                                      | Positive           | Positive       |\n",
            "+-------------------------------------------------------------------------------------------------------------------------------------------------------------------------------------------------------------------------------------------------------------------------------------------------------------------------------------------------------------------------------------------------------------------------------------------------------------------------------------------------------------------------------------------------------------------------------------------------+--------------------+----------------+\n",
            "| My recent experience with ExpressWay Logistics left me thoroughly impressed. I had a highly time-sensitive shipment that required delicate handling and precise coordination. Despite the challenges, ExpressWay rose to the occasion, demonstrating an unparalleled level of professionalism and efficiency. Their team meticulously planned every aspect of the shipment, from packaging to transportation, ensuring that no detail was overlooked.                                                                                                                                           | Positive           | Positive       |\n",
            "+-------------------------------------------------------------------------------------------------------------------------------------------------------------------------------------------------------------------------------------------------------------------------------------------------------------------------------------------------------------------------------------------------------------------------------------------------------------------------------------------------------------------------------------------------------------------------------------------------+--------------------+----------------+\n",
            "| I was initially impressed by ExpressWay Logistics' promise of reliability and affordability, but my recent encounters have been less than satisfactory. Their website is so irritating and their drivers are too harsh, the repeated delays in delivery have been frustrating. Additionally, the discovery of hidden fees within their pricing structure has left me feeling misled. In addition to these challenges, their customer service team has been inattentive and disrespectful, which has degraded the overall experience.Not at all recommend!                                       | Negative           | Negative       |\n",
            "+-------------------------------------------------------------------------------------------------------------------------------------------------------------------------------------------------------------------------------------------------------------------------------------------------------------------------------------------------------------------------------------------------------------------------------------------------------------------------------------------------------------------------------------------------------------------------------------------------+--------------------+----------------+\n",
            "| Thumbs up to ExpressWay for their prompt responses and reliable shipping solutions. Impressed!                                                                                                                                                                                                                                                                                                                                                                                                                                                                                                  | Positive           | Positive       |\n",
            "+-------------------------------------------------------------------------------------------------------------------------------------------------------------------------------------------------------------------------------------------------------------------------------------------------------------------------------------------------------------------------------------------------------------------------------------------------------------------------------------------------------------------------------------------------------------------------------------------------+--------------------+----------------+\n",
            "| I had a terrible experience with ExpressWay Logistics. Not only was my pickup delayed, but the packaging was not done intactly, and the customer support team was unresponsive when I tried to raise the issue.                                                                                                                                                                                                                                                                                                                                                                                 | Negative           | Negative       |\n",
            "+-------------------------------------------------------------------------------------------------------------------------------------------------------------------------------------------------------------------------------------------------------------------------------------------------------------------------------------------------------------------------------------------------------------------------------------------------------------------------------------------------------------------------------------------------------------------------------------------------+--------------------+----------------+\n",
            "+-------------------------------------------------------------------------------------------------------------------------------------------------------------------------------------------------------------------------------------------------------------------------------------------------------------------------------------------------------------------------------------------------------------------------------------------------------------------------------------------------------------------------------------------------------------------------------------------------+--------------------+----------------+\n",
            "| Review                                                                                                                                                                                                                                                                                                                                                                                                                                                                                                                                                                                          | Model Prediction   | Ground Truth   |\n",
            "+=================================================================================================================================================================================================================================================================================================================================================================================================================================================================================================================================================================================================+====================+================+\n",
            "| The delivery executive assigned by ExpressWay Logistics was courteous and professional during the delivery process. They tried their best to handle the package with care.Unfortunately, the package arrived with slight damage despite the delivery executive's efforts. The packaging seemed more than adequate to protect the contents during transit.                                                                                                                                                                                                                                       | Negative           | Positive       |\n",
            "+-------------------------------------------------------------------------------------------------------------------------------------------------------------------------------------------------------------------------------------------------------------------------------------------------------------------------------------------------------------------------------------------------------------------------------------------------------------------------------------------------------------------------------------------------------------------------------------------------+--------------------+----------------+\n",
            "| ExpressWay Logistics failed to meet my expectations. The delivery was delayed, and the customer support team was unresponsive and unhelpful when I tried to inquire about the status of my parcel.                                                                                                                                                                                                                                                                                                                                                                                              | negative           | Negative       |\n",
            "+-------------------------------------------------------------------------------------------------------------------------------------------------------------------------------------------------------------------------------------------------------------------------------------------------------------------------------------------------------------------------------------------------------------------------------------------------------------------------------------------------------------------------------------------------------------------------------------------------+--------------------+----------------+\n",
            "| ExpressWay Logistics' incompetence resulted in a major inconvenience when my package was delivered to the wrong recipient. Despite providing accurate delivery information, the package ended up in the hands of someone else, and efforts to retrieve it were unsuccessful. When I contacted customer service for assistance, I was met with apathy and a lack of urgency. Their failure to rectify the situation in a timely manner is unacceptable, and I will be avoiding their services at all costs.                                                                                      | negative           | Negative       |\n",
            "+-------------------------------------------------------------------------------------------------------------------------------------------------------------------------------------------------------------------------------------------------------------------------------------------------------------------------------------------------------------------------------------------------------------------------------------------------------------------------------------------------------------------------------------------------------------------------------------------------+--------------------+----------------+\n",
            "| Kudos to ExpressWay Logistics for their outstanding service! They've been an essential partner for my business, handling all our shipping needs with professionalism and efficiency. If you're looking for a reliable logistic service provider, look no further than ExpressWay Logistics.                                                                                                                                                                                                                                                                                                     | positive           | Positive       |\n",
            "+-------------------------------------------------------------------------------------------------------------------------------------------------------------------------------------------------------------------------------------------------------------------------------------------------------------------------------------------------------------------------------------------------------------------------------------------------------------------------------------------------------------------------------------------------------------------------------------------------+--------------------+----------------+\n",
            "| ExpressWay Logistics offers a convenient online platform for booking shipments, and their competitive rates initially drew me in. However, the frequent delays in delivery and lack of transparency regarding additional fees have soured my experience. While their customer service representatives are polite, they often seem powerless to resolve issues effectively.This lack of care and responsibilites from the concerned teams have led me unsatisfied and irritated.I cannot trust and rely on this again.Will definitely not contact them ever for my courier deliveries!           | Negative           | Negative       |\n",
            "+-------------------------------------------------------------------------------------------------------------------------------------------------------------------------------------------------------------------------------------------------------------------------------------------------------------------------------------------------------------------------------------------------------------------------------------------------------------------------------------------------------------------------------------------------------------------------------------------------+--------------------+----------------+\n",
            "| Planning a destination wedding is undoubtedly a daunting task, especially when it comes to coordinating transportation for guests and wedding essentials. Fortunately, ExpressWay Logistics made this aspect of our wedding planning effortless. From the beginning, they were attentive to our needs and provided valuable insights to streamline the process.                                                                                                                                                                                                                                 | positive           | Positive       |\n",
            "+-------------------------------------------------------------------------------------------------------------------------------------------------------------------------------------------------------------------------------------------------------------------------------------------------------------------------------------------------------------------------------------------------------------------------------------------------------------------------------------------------------------------------------------------------------------------------------------------------+--------------------+----------------+\n",
            "| ExpressWay Logistics consistently delivers on its promises, providing fast, efficient, and reliable courier services that exceeded my expectations.                                                                                                                                                                                                                                                                                                                                                                                                                                             | positive           | Positive       |\n",
            "+-------------------------------------------------------------------------------------------------------------------------------------------------------------------------------------------------------------------------------------------------------------------------------------------------------------------------------------------------------------------------------------------------------------------------------------------------------------------------------------------------------------------------------------------------------------------------------------------------+--------------------+----------------+\n",
            "| I needed to ship perishable items internationally, and ExpressWay Logistics handled the process flawlessly. They ensured that the items were properly packaged and transported in temperature-controlled conditions.                                                                                                                                                                                                                                                                                                                                                                            | positive           | Positive       |\n",
            "+-------------------------------------------------------------------------------------------------------------------------------------------------------------------------------------------------------------------------------------------------------------------------------------------------------------------------------------------------------------------------------------------------------------------------------------------------------------------------------------------------------------------------------------------------------------------------------------------------+--------------------+----------------+\n",
            "| I appreciated the flexibility offered by ExpressWay Logistics in terms of delivery options. Their range of delivery speeds and service levels allowed me to choose the option that best suited my needs and budget.However, I was slightly disappointed by the lack of transparency regarding few additional fees and surcharges. I selected a specific delivery option and paid minor charges at checkout, which undermined the initial affordability of the service..                                                                                                                         | Mixed              | Negative       |\n",
            "+-------------------------------------------------------------------------------------------------------------------------------------------------------------------------------------------------------------------------------------------------------------------------------------------------------------------------------------------------------------------------------------------------------------------------------------------------------------------------------------------------------------------------------------------------------------------------------------------------+--------------------+----------------+\n",
            "| While ExpressWay Logistics' pricing is competitive, their lack of accountability for delays and damages is disappointing. It's frustrating to pay for a service that fails to deliver on its promises consistently.                                                                                                                                                                                                                                                                                                                                                                             | negative           | Negative       |\n",
            "+-------------------------------------------------------------------------------------------------------------------------------------------------------------------------------------------------------------------------------------------------------------------------------------------------------------------------------------------------------------------------------------------------------------------------------------------------------------------------------------------------------------------------------------------------------------------------------------------------+--------------------+----------------+\n",
            "| ExpressWay Logistics' pricing may seem attractive at first glance, but beware of some internal hidden fees that may sometimes add up. Coupled with their reliable delivery times, it's simply not worth the hassle.But still I appreciate that my parcel got delivered safely a day after the promised window.                                                                                                                                                                                                                                                                                  | Negative           | Positive       |\n",
            "+-------------------------------------------------------------------------------------------------------------------------------------------------------------------------------------------------------------------------------------------------------------------------------------------------------------------------------------------------------------------------------------------------------------------------------------------------------------------------------------------------------------------------------------------------------------------------------------------------+--------------------+----------------+\n",
            "| ExpressWay Logistics has been my go-to courier service for years, primarily due to their extensive network coverage and competitive pricing. However, my recent experience has left me questioning their reliability. While their user-friendly website and efficient booking process remain commendable, the repeated delays in delivery and lack of proactive communication have been disappointing.Despite these setbacks, their customer service team has always been courteous and responsive, attempting to address my concerns promptly.                                                 | negative           | Negative       |\n",
            "+-------------------------------------------------------------------------------------------------------------------------------------------------------------------------------------------------------------------------------------------------------------------------------------------------------------------------------------------------------------------------------------------------------------------------------------------------------------------------------------------------------------------------------------------------------------------------------------------------+--------------------+----------------+\n",
            "| ExpressWay Logistics' incompetence led to the loss of my parcel, and their lack of accountability only added to the frustration. Despite filing a claim and providing evidence of the missing items, I received no assistance or compensation for the lost package. Their negligence and disregard for customer satisfaction are unacceptable, and I will be exploring legal options to recoup the value of the lost items.                                                                                                                                                                     | negative           | Negative       |\n",
            "+-------------------------------------------------------------------------------------------------------------------------------------------------------------------------------------------------------------------------------------------------------------------------------------------------------------------------------------------------------------------------------------------------------------------------------------------------------------------------------------------------------------------------------------------------------------------------------------------------+--------------------+----------------+\n",
            "| I was deeply disappointed by the behavior of the delivery executive from Expressway Logistics. They exhibited a complete disregard for customer satisfaction, arriving late and mishandling the package upon delivery. Despite raising my concerns with Expressway Logistics, there was no acknowledgment or resolution provided.                                                                                                                                                                                                                                                               | negative           | Negative       |\n",
            "+-------------------------------------------------------------------------------------------------------------------------------------------------------------------------------------------------------------------------------------------------------------------------------------------------------------------------------------------------------------------------------------------------------------------------------------------------------------------------------------------------------------------------------------------------------------------------------------------------+--------------------+----------------+\n",
            "| As a frequent traveler, I often use ExpressWay Logistics to ship luggage and personal belongings ahead of time. Their door-to-door service and reliable tracking make traveling a breeze.                                                                                                                                                                                                                                                                                                                                                                                                       | positive           | Positive       |\n",
            "+-------------------------------------------------------------------------------------------------------------------------------------------------------------------------------------------------------------------------------------------------------------------------------------------------------------------------------------------------------------------------------------------------------------------------------------------------------------------------------------------------------------------------------------------------------------------------------------------------+--------------------+----------------+\n",
            "| ExpressWay Logistics caught my attention with its promise of seamless shipping solutions and a comprehensive network. However, my recent experiences have revealed some significant shortcomings. Their online platform is disgusting and their tracking system is inaccurate.I've encountered repeated issues with inaccurate weight calculations that have led to unexpected charges. Moreover, the limited options for customizing shipment preferences have made it challenging to meet my requirements.I cannot rely upon it for my future requirements.It failed to meet my requirements. | negative           | Negative       |\n",
            "+-------------------------------------------------------------------------------------------------------------------------------------------------------------------------------------------------------------------------------------------------------------------------------------------------------------------------------------------------------------------------------------------------------------------------------------------------------------------------------------------------------------------------------------------------------------------------------------------------+--------------------+----------------+\n",
            "| The packaging provided by ExpressWay Logistics is always secure and well-protected, and ensured that my items arrive in perfect condition.                                                                                                                                                                                                                                                                                                                                                                                                                                                      | positive           | Positive       |\n",
            "+-------------------------------------------------------------------------------------------------------------------------------------------------------------------------------------------------------------------------------------------------------------------------------------------------------------------------------------------------------------------------------------------------------------------------------------------------------------------------------------------------------------------------------------------------------------------------------------------------+--------------------+----------------+\n",
            "| My recent experience with ExpressWay Logistics left me thoroughly impressed. I had a highly time-sensitive shipment that required delicate handling and precise coordination. Despite the challenges, ExpressWay rose to the occasion, demonstrating an unparalleled level of professionalism and efficiency. Their team meticulously planned every aspect of the shipment, from packaging to transportation, ensuring that no detail was overlooked.                                                                                                                                           | positive           | Positive       |\n",
            "+-------------------------------------------------------------------------------------------------------------------------------------------------------------------------------------------------------------------------------------------------------------------------------------------------------------------------------------------------------------------------------------------------------------------------------------------------------------------------------------------------------------------------------------------------------------------------------------------------+--------------------+----------------+\n",
            "| I was initially impressed by ExpressWay Logistics' promise of reliability and affordability, but my recent encounters have been less than satisfactory. Their website is so irritating and their drivers are too harsh, the repeated delays in delivery have been frustrating. Additionally, the discovery of hidden fees within their pricing structure has left me feeling misled. In addition to these challenges, their customer service team has been inattentive and disrespectful, which has degraded the overall experience.Not at all recommend!                                       | negative           | Negative       |\n",
            "+-------------------------------------------------------------------------------------------------------------------------------------------------------------------------------------------------------------------------------------------------------------------------------------------------------------------------------------------------------------------------------------------------------------------------------------------------------------------------------------------------------------------------------------------------------------------------------------------------+--------------------+----------------+\n",
            "| Thumbs up to ExpressWay for their prompt responses and reliable shipping solutions. Impressed!                                                                                                                                                                                                                                                                                                                                                                                                                                                                                                  | positive           | Positive       |\n",
            "+-------------------------------------------------------------------------------------------------------------------------------------------------------------------------------------------------------------------------------------------------------------------------------------------------------------------------------------------------------------------------------------------------------------------------------------------------------------------------------------------------------------------------------------------------------------------------------------------------+--------------------+----------------+\n",
            "| I had a terrible experience with ExpressWay Logistics. Not only was my pickup delayed, but the packaging was not done intactly, and the customer support team was unresponsive when I tried to raise the issue.                                                                                                                                                                                                                                                                                                                                                                                 | negative           | Negative       |\n",
            "+-------------------------------------------------------------------------------------------------------------------------------------------------------------------------------------------------------------------------------------------------------------------------------------------------------------------------------------------------------------------------------------------------------------------------------------------------------------------------------------------------------------------------------------------------------------------------------------------------+--------------------+----------------+\n"
          ]
        },
        {
          "output_type": "stream",
          "name": "stderr",
          "text": [
            "\r 40%|████      | 2/5 [00:12<00:18,  6.16s/it]"
          ]
        },
        {
          "output_type": "stream",
          "name": "stdout",
          "text": [
            "+-------------------------------------------------------------------------------------------------------------------------------------------------------------------------------------------------------------------------------------------------------------------------------------------------------------------------------------------------------------------------------------------------------------------------------------------------------------------------------------------------------------------------------------------------------------------------------------------------+--------------------+----------------+\n",
            "| Review                                                                                                                                                                                                                                                                                                                                                                                                                                                                                                                                                                                          | Model Prediction   | Ground Truth   |\n",
            "+=================================================================================================================================================================================================================================================================================================================================================================================================================================================================================================================================================================================================+====================+================+\n",
            "| The delivery executive assigned by ExpressWay Logistics was courteous and professional during the delivery process. They tried their best to handle the package with care.Unfortunately, the package arrived with slight damage despite the delivery executive's efforts. The packaging seemed more than adequate to protect the contents during transit.                                                                                                                                                                                                                                       | Neutral/n          | Positive       |\n",
            "+-------------------------------------------------------------------------------------------------------------------------------------------------------------------------------------------------------------------------------------------------------------------------------------------------------------------------------------------------------------------------------------------------------------------------------------------------------------------------------------------------------------------------------------------------------------------------------------------------+--------------------+----------------+\n",
            "| ExpressWay Logistics failed to meet my expectations. The delivery was delayed, and the customer support team was unresponsive and unhelpful when I tried to inquire about the status of my parcel.                                                                                                                                                                                                                                                                                                                                                                                              | Negative           | Negative       |\n",
            "+-------------------------------------------------------------------------------------------------------------------------------------------------------------------------------------------------------------------------------------------------------------------------------------------------------------------------------------------------------------------------------------------------------------------------------------------------------------------------------------------------------------------------------------------------------------------------------------------------+--------------------+----------------+\n",
            "| ExpressWay Logistics' incompetence resulted in a major inconvenience when my package was delivered to the wrong recipient. Despite providing accurate delivery information, the package ended up in the hands of someone else, and efforts to retrieve it were unsuccessful. When I contacted customer service for assistance, I was met with apathy and a lack of urgency. Their failure to rectify the situation in a timely manner is unacceptable, and I will be avoiding their services at all costs.                                                                                      | Negative           | Negative       |\n",
            "+-------------------------------------------------------------------------------------------------------------------------------------------------------------------------------------------------------------------------------------------------------------------------------------------------------------------------------------------------------------------------------------------------------------------------------------------------------------------------------------------------------------------------------------------------------------------------------------------------+--------------------+----------------+\n",
            "| Kudos to ExpressWay Logistics for their outstanding service! They've been an essential partner for my business, handling all our shipping needs with professionalism and efficiency. If you're looking for a reliable logistic service provider, look no further than ExpressWay Logistics.                                                                                                                                                                                                                                                                                                     | Positive           | Positive       |\n",
            "+-------------------------------------------------------------------------------------------------------------------------------------------------------------------------------------------------------------------------------------------------------------------------------------------------------------------------------------------------------------------------------------------------------------------------------------------------------------------------------------------------------------------------------------------------------------------------------------------------+--------------------+----------------+\n",
            "| ExpressWay Logistics offers a convenient online platform for booking shipments, and their competitive rates initially drew me in. However, the frequent delays in delivery and lack of transparency regarding additional fees have soured my experience. While their customer service representatives are polite, they often seem powerless to resolve issues effectively.This lack of care and responsibilites from the concerned teams have led me unsatisfied and irritated.I cannot trust and rely on this again.Will definitely not contact them ever for my courier deliveries!           | Negative           | Negative       |\n",
            "+-------------------------------------------------------------------------------------------------------------------------------------------------------------------------------------------------------------------------------------------------------------------------------------------------------------------------------------------------------------------------------------------------------------------------------------------------------------------------------------------------------------------------------------------------------------------------------------------------+--------------------+----------------+\n",
            "| Planning a destination wedding is undoubtedly a daunting task, especially when it comes to coordinating transportation for guests and wedding essentials. Fortunately, ExpressWay Logistics made this aspect of our wedding planning effortless. From the beginning, they were attentive to our needs and provided valuable insights to streamline the process.                                                                                                                                                                                                                                 | Positive           | Positive       |\n",
            "+-------------------------------------------------------------------------------------------------------------------------------------------------------------------------------------------------------------------------------------------------------------------------------------------------------------------------------------------------------------------------------------------------------------------------------------------------------------------------------------------------------------------------------------------------------------------------------------------------+--------------------+----------------+\n",
            "| ExpressWay Logistics consistently delivers on its promises, providing fast, efficient, and reliable courier services that exceeded my expectations.                                                                                                                                                                                                                                                                                                                                                                                                                                             | Positive           | Positive       |\n",
            "+-------------------------------------------------------------------------------------------------------------------------------------------------------------------------------------------------------------------------------------------------------------------------------------------------------------------------------------------------------------------------------------------------------------------------------------------------------------------------------------------------------------------------------------------------------------------------------------------------+--------------------+----------------+\n",
            "| I needed to ship perishable items internationally, and ExpressWay Logistics handled the process flawlessly. They ensured that the items were properly packaged and transported in temperature-controlled conditions.                                                                                                                                                                                                                                                                                                                                                                            | Positive           | Positive       |\n",
            "+-------------------------------------------------------------------------------------------------------------------------------------------------------------------------------------------------------------------------------------------------------------------------------------------------------------------------------------------------------------------------------------------------------------------------------------------------------------------------------------------------------------------------------------------------------------------------------------------------+--------------------+----------------+\n",
            "| I appreciated the flexibility offered by ExpressWay Logistics in terms of delivery options. Their range of delivery speeds and service levels allowed me to choose the option that best suited my needs and budget.However, I was slightly disappointed by the lack of transparency regarding few additional fees and surcharges. I selected a specific delivery option and paid minor charges at checkout, which undermined the initial affordability of the service..                                                                                                                         | Negative           | Negative       |\n",
            "+-------------------------------------------------------------------------------------------------------------------------------------------------------------------------------------------------------------------------------------------------------------------------------------------------------------------------------------------------------------------------------------------------------------------------------------------------------------------------------------------------------------------------------------------------------------------------------------------------+--------------------+----------------+\n",
            "| While ExpressWay Logistics' pricing is competitive, their lack of accountability for delays and damages is disappointing. It's frustrating to pay for a service that fails to deliver on its promises consistently.                                                                                                                                                                                                                                                                                                                                                                             | Negative           | Negative       |\n",
            "+-------------------------------------------------------------------------------------------------------------------------------------------------------------------------------------------------------------------------------------------------------------------------------------------------------------------------------------------------------------------------------------------------------------------------------------------------------------------------------------------------------------------------------------------------------------------------------------------------+--------------------+----------------+\n",
            "| ExpressWay Logistics' pricing may seem attractive at first glance, but beware of some internal hidden fees that may sometimes add up. Coupled with their reliable delivery times, it's simply not worth the hassle.But still I appreciate that my parcel got delivered safely a day after the promised window.                                                                                                                                                                                                                                                                                  | Mixed/             | Positive       |\n",
            "+-------------------------------------------------------------------------------------------------------------------------------------------------------------------------------------------------------------------------------------------------------------------------------------------------------------------------------------------------------------------------------------------------------------------------------------------------------------------------------------------------------------------------------------------------------------------------------------------------+--------------------+----------------+\n",
            "| ExpressWay Logistics has been my go-to courier service for years, primarily due to their extensive network coverage and competitive pricing. However, my recent experience has left me questioning their reliability. While their user-friendly website and efficient booking process remain commendable, the repeated delays in delivery and lack of proactive communication have been disappointing.Despite these setbacks, their customer service team has always been courteous and responsive, attempting to address my concerns promptly.                                                 | Neutral (          | Negative       |\n",
            "+-------------------------------------------------------------------------------------------------------------------------------------------------------------------------------------------------------------------------------------------------------------------------------------------------------------------------------------------------------------------------------------------------------------------------------------------------------------------------------------------------------------------------------------------------------------------------------------------------+--------------------+----------------+\n",
            "| ExpressWay Logistics' incompetence led to the loss of my parcel, and their lack of accountability only added to the frustration. Despite filing a claim and providing evidence of the missing items, I received no assistance or compensation for the lost package. Their negligence and disregard for customer satisfaction are unacceptable, and I will be exploring legal options to recoup the value of the lost items.                                                                                                                                                                     | Negative           | Negative       |\n",
            "+-------------------------------------------------------------------------------------------------------------------------------------------------------------------------------------------------------------------------------------------------------------------------------------------------------------------------------------------------------------------------------------------------------------------------------------------------------------------------------------------------------------------------------------------------------------------------------------------------+--------------------+----------------+\n",
            "| I was deeply disappointed by the behavior of the delivery executive from Expressway Logistics. They exhibited a complete disregard for customer satisfaction, arriving late and mishandling the package upon delivery. Despite raising my concerns with Expressway Logistics, there was no acknowledgment or resolution provided.                                                                                                                                                                                                                                                               | Negative           | Negative       |\n",
            "+-------------------------------------------------------------------------------------------------------------------------------------------------------------------------------------------------------------------------------------------------------------------------------------------------------------------------------------------------------------------------------------------------------------------------------------------------------------------------------------------------------------------------------------------------------------------------------------------------+--------------------+----------------+\n",
            "| As a frequent traveler, I often use ExpressWay Logistics to ship luggage and personal belongings ahead of time. Their door-to-door service and reliable tracking make traveling a breeze.                                                                                                                                                                                                                                                                                                                                                                                                       | Positive           | Positive       |\n",
            "+-------------------------------------------------------------------------------------------------------------------------------------------------------------------------------------------------------------------------------------------------------------------------------------------------------------------------------------------------------------------------------------------------------------------------------------------------------------------------------------------------------------------------------------------------------------------------------------------------+--------------------+----------------+\n",
            "| ExpressWay Logistics caught my attention with its promise of seamless shipping solutions and a comprehensive network. However, my recent experiences have revealed some significant shortcomings. Their online platform is disgusting and their tracking system is inaccurate.I've encountered repeated issues with inaccurate weight calculations that have led to unexpected charges. Moreover, the limited options for customizing shipment preferences have made it challenging to meet my requirements.I cannot rely upon it for my future requirements.It failed to meet my requirements. | Negative           | Negative       |\n",
            "+-------------------------------------------------------------------------------------------------------------------------------------------------------------------------------------------------------------------------------------------------------------------------------------------------------------------------------------------------------------------------------------------------------------------------------------------------------------------------------------------------------------------------------------------------------------------------------------------------+--------------------+----------------+\n",
            "| The packaging provided by ExpressWay Logistics is always secure and well-protected, and ensured that my items arrive in perfect condition.                                                                                                                                                                                                                                                                                                                                                                                                                                                      | Positive           | Positive       |\n",
            "+-------------------------------------------------------------------------------------------------------------------------------------------------------------------------------------------------------------------------------------------------------------------------------------------------------------------------------------------------------------------------------------------------------------------------------------------------------------------------------------------------------------------------------------------------------------------------------------------------+--------------------+----------------+\n",
            "| My recent experience with ExpressWay Logistics left me thoroughly impressed. I had a highly time-sensitive shipment that required delicate handling and precise coordination. Despite the challenges, ExpressWay rose to the occasion, demonstrating an unparalleled level of professionalism and efficiency. Their team meticulously planned every aspect of the shipment, from packaging to transportation, ensuring that no detail was overlooked.                                                                                                                                           | Positive           | Positive       |\n",
            "+-------------------------------------------------------------------------------------------------------------------------------------------------------------------------------------------------------------------------------------------------------------------------------------------------------------------------------------------------------------------------------------------------------------------------------------------------------------------------------------------------------------------------------------------------------------------------------------------------+--------------------+----------------+\n",
            "| I was initially impressed by ExpressWay Logistics' promise of reliability and affordability, but my recent encounters have been less than satisfactory. Their website is so irritating and their drivers are too harsh, the repeated delays in delivery have been frustrating. Additionally, the discovery of hidden fees within their pricing structure has left me feeling misled. In addition to these challenges, their customer service team has been inattentive and disrespectful, which has degraded the overall experience.Not at all recommend!                                       | Negative           | Negative       |\n",
            "+-------------------------------------------------------------------------------------------------------------------------------------------------------------------------------------------------------------------------------------------------------------------------------------------------------------------------------------------------------------------------------------------------------------------------------------------------------------------------------------------------------------------------------------------------------------------------------------------------+--------------------+----------------+\n",
            "| Thumbs up to ExpressWay for their prompt responses and reliable shipping solutions. Impressed!                                                                                                                                                                                                                                                                                                                                                                                                                                                                                                  | Positive           | Positive       |\n",
            "+-------------------------------------------------------------------------------------------------------------------------------------------------------------------------------------------------------------------------------------------------------------------------------------------------------------------------------------------------------------------------------------------------------------------------------------------------------------------------------------------------------------------------------------------------------------------------------------------------+--------------------+----------------+\n",
            "| I had a terrible experience with ExpressWay Logistics. Not only was my pickup delayed, but the packaging was not done intactly, and the customer support team was unresponsive when I tried to raise the issue.                                                                                                                                                                                                                                                                                                                                                                                 | Negative           | Negative       |\n",
            "+-------------------------------------------------------------------------------------------------------------------------------------------------------------------------------------------------------------------------------------------------------------------------------------------------------------------------------------------------------------------------------------------------------------------------------------------------------------------------------------------------------------------------------------------------------------------------------------------------+--------------------+----------------+\n",
            "+-------------------------------------------------------------------------------------------------------------------------------------------------------------------------------------------------------------------------------------------------------------------------------------------------------------------------------------------------------------------------------------------------------------------------------------------------------------------------------------------------------------------------------------------------------------------------------------------------+--------------------+----------------+\n",
            "| Review                                                                                                                                                                                                                                                                                                                                                                                                                                                                                                                                                                                          | Model Prediction   | Ground Truth   |\n",
            "+=================================================================================================================================================================================================================================================================================================================================================================================================================================================================================================================================================================================================+====================+================+\n",
            "| The delivery executive assigned by ExpressWay Logistics was courteous and professional during the delivery process. They tried their best to handle the package with care.Unfortunately, the package arrived with slight damage despite the delivery executive's efforts. The packaging seemed more than adequate to protect the contents during transit.                                                                                                                                                                                                                                       | Negative           | Positive       |\n",
            "+-------------------------------------------------------------------------------------------------------------------------------------------------------------------------------------------------------------------------------------------------------------------------------------------------------------------------------------------------------------------------------------------------------------------------------------------------------------------------------------------------------------------------------------------------------------------------------------------------+--------------------+----------------+\n",
            "| ExpressWay Logistics failed to meet my expectations. The delivery was delayed, and the customer support team was unresponsive and unhelpful when I tried to inquire about the status of my parcel.                                                                                                                                                                                                                                                                                                                                                                                              | negative           | Negative       |\n",
            "+-------------------------------------------------------------------------------------------------------------------------------------------------------------------------------------------------------------------------------------------------------------------------------------------------------------------------------------------------------------------------------------------------------------------------------------------------------------------------------------------------------------------------------------------------------------------------------------------------+--------------------+----------------+\n",
            "| ExpressWay Logistics' incompetence resulted in a major inconvenience when my package was delivered to the wrong recipient. Despite providing accurate delivery information, the package ended up in the hands of someone else, and efforts to retrieve it were unsuccessful. When I contacted customer service for assistance, I was met with apathy and a lack of urgency. Their failure to rectify the situation in a timely manner is unacceptable, and I will be avoiding their services at all costs.                                                                                      | negative           | Negative       |\n",
            "+-------------------------------------------------------------------------------------------------------------------------------------------------------------------------------------------------------------------------------------------------------------------------------------------------------------------------------------------------------------------------------------------------------------------------------------------------------------------------------------------------------------------------------------------------------------------------------------------------+--------------------+----------------+\n",
            "| Kudos to ExpressWay Logistics for their outstanding service! They've been an essential partner for my business, handling all our shipping needs with professionalism and efficiency. If you're looking for a reliable logistic service provider, look no further than ExpressWay Logistics.                                                                                                                                                                                                                                                                                                     | positive           | Positive       |\n",
            "+-------------------------------------------------------------------------------------------------------------------------------------------------------------------------------------------------------------------------------------------------------------------------------------------------------------------------------------------------------------------------------------------------------------------------------------------------------------------------------------------------------------------------------------------------------------------------------------------------+--------------------+----------------+\n",
            "| ExpressWay Logistics offers a convenient online platform for booking shipments, and their competitive rates initially drew me in. However, the frequent delays in delivery and lack of transparency regarding additional fees have soured my experience. While their customer service representatives are polite, they often seem powerless to resolve issues effectively.This lack of care and responsibilites from the concerned teams have led me unsatisfied and irritated.I cannot trust and rely on this again.Will definitely not contact them ever for my courier deliveries!           | Negative           | Negative       |\n",
            "+-------------------------------------------------------------------------------------------------------------------------------------------------------------------------------------------------------------------------------------------------------------------------------------------------------------------------------------------------------------------------------------------------------------------------------------------------------------------------------------------------------------------------------------------------------------------------------------------------+--------------------+----------------+\n",
            "| Planning a destination wedding is undoubtedly a daunting task, especially when it comes to coordinating transportation for guests and wedding essentials. Fortunately, ExpressWay Logistics made this aspect of our wedding planning effortless. From the beginning, they were attentive to our needs and provided valuable insights to streamline the process.                                                                                                                                                                                                                                 | positive           | Positive       |\n",
            "+-------------------------------------------------------------------------------------------------------------------------------------------------------------------------------------------------------------------------------------------------------------------------------------------------------------------------------------------------------------------------------------------------------------------------------------------------------------------------------------------------------------------------------------------------------------------------------------------------+--------------------+----------------+\n",
            "| ExpressWay Logistics consistently delivers on its promises, providing fast, efficient, and reliable courier services that exceeded my expectations.                                                                                                                                                                                                                                                                                                                                                                                                                                             | positive           | Positive       |\n",
            "+-------------------------------------------------------------------------------------------------------------------------------------------------------------------------------------------------------------------------------------------------------------------------------------------------------------------------------------------------------------------------------------------------------------------------------------------------------------------------------------------------------------------------------------------------------------------------------------------------+--------------------+----------------+\n",
            "| I needed to ship perishable items internationally, and ExpressWay Logistics handled the process flawlessly. They ensured that the items were properly packaged and transported in temperature-controlled conditions.                                                                                                                                                                                                                                                                                                                                                                            | positive           | Positive       |\n",
            "+-------------------------------------------------------------------------------------------------------------------------------------------------------------------------------------------------------------------------------------------------------------------------------------------------------------------------------------------------------------------------------------------------------------------------------------------------------------------------------------------------------------------------------------------------------------------------------------------------+--------------------+----------------+\n",
            "| I appreciated the flexibility offered by ExpressWay Logistics in terms of delivery options. Their range of delivery speeds and service levels allowed me to choose the option that best suited my needs and budget.However, I was slightly disappointed by the lack of transparency regarding few additional fees and surcharges. I selected a specific delivery option and paid minor charges at checkout, which undermined the initial affordability of the service..                                                                                                                         | Mixed              | Negative       |\n",
            "+-------------------------------------------------------------------------------------------------------------------------------------------------------------------------------------------------------------------------------------------------------------------------------------------------------------------------------------------------------------------------------------------------------------------------------------------------------------------------------------------------------------------------------------------------------------------------------------------------+--------------------+----------------+\n",
            "| While ExpressWay Logistics' pricing is competitive, their lack of accountability for delays and damages is disappointing. It's frustrating to pay for a service that fails to deliver on its promises consistently.                                                                                                                                                                                                                                                                                                                                                                             | negative           | Negative       |\n",
            "+-------------------------------------------------------------------------------------------------------------------------------------------------------------------------------------------------------------------------------------------------------------------------------------------------------------------------------------------------------------------------------------------------------------------------------------------------------------------------------------------------------------------------------------------------------------------------------------------------+--------------------+----------------+\n",
            "| ExpressWay Logistics' pricing may seem attractive at first glance, but beware of some internal hidden fees that may sometimes add up. Coupled with their reliable delivery times, it's simply not worth the hassle.But still I appreciate that my parcel got delivered safely a day after the promised window.                                                                                                                                                                                                                                                                                  | Negative           | Positive       |\n",
            "+-------------------------------------------------------------------------------------------------------------------------------------------------------------------------------------------------------------------------------------------------------------------------------------------------------------------------------------------------------------------------------------------------------------------------------------------------------------------------------------------------------------------------------------------------------------------------------------------------+--------------------+----------------+\n",
            "| ExpressWay Logistics has been my go-to courier service for years, primarily due to their extensive network coverage and competitive pricing. However, my recent experience has left me questioning their reliability. While their user-friendly website and efficient booking process remain commendable, the repeated delays in delivery and lack of proactive communication have been disappointing.Despite these setbacks, their customer service team has always been courteous and responsive, attempting to address my concerns promptly.                                                 | negative           | Negative       |\n",
            "+-------------------------------------------------------------------------------------------------------------------------------------------------------------------------------------------------------------------------------------------------------------------------------------------------------------------------------------------------------------------------------------------------------------------------------------------------------------------------------------------------------------------------------------------------------------------------------------------------+--------------------+----------------+\n",
            "| ExpressWay Logistics' incompetence led to the loss of my parcel, and their lack of accountability only added to the frustration. Despite filing a claim and providing evidence of the missing items, I received no assistance or compensation for the lost package. Their negligence and disregard for customer satisfaction are unacceptable, and I will be exploring legal options to recoup the value of the lost items.                                                                                                                                                                     | negative           | Negative       |\n",
            "+-------------------------------------------------------------------------------------------------------------------------------------------------------------------------------------------------------------------------------------------------------------------------------------------------------------------------------------------------------------------------------------------------------------------------------------------------------------------------------------------------------------------------------------------------------------------------------------------------+--------------------+----------------+\n",
            "| I was deeply disappointed by the behavior of the delivery executive from Expressway Logistics. They exhibited a complete disregard for customer satisfaction, arriving late and mishandling the package upon delivery. Despite raising my concerns with Expressway Logistics, there was no acknowledgment or resolution provided.                                                                                                                                                                                                                                                               | negative           | Negative       |\n",
            "+-------------------------------------------------------------------------------------------------------------------------------------------------------------------------------------------------------------------------------------------------------------------------------------------------------------------------------------------------------------------------------------------------------------------------------------------------------------------------------------------------------------------------------------------------------------------------------------------------+--------------------+----------------+\n",
            "| As a frequent traveler, I often use ExpressWay Logistics to ship luggage and personal belongings ahead of time. Their door-to-door service and reliable tracking make traveling a breeze.                                                                                                                                                                                                                                                                                                                                                                                                       | positive           | Positive       |\n",
            "+-------------------------------------------------------------------------------------------------------------------------------------------------------------------------------------------------------------------------------------------------------------------------------------------------------------------------------------------------------------------------------------------------------------------------------------------------------------------------------------------------------------------------------------------------------------------------------------------------+--------------------+----------------+\n",
            "| ExpressWay Logistics caught my attention with its promise of seamless shipping solutions and a comprehensive network. However, my recent experiences have revealed some significant shortcomings. Their online platform is disgusting and their tracking system is inaccurate.I've encountered repeated issues with inaccurate weight calculations that have led to unexpected charges. Moreover, the limited options for customizing shipment preferences have made it challenging to meet my requirements.I cannot rely upon it for my future requirements.It failed to meet my requirements. | negative           | Negative       |\n",
            "+-------------------------------------------------------------------------------------------------------------------------------------------------------------------------------------------------------------------------------------------------------------------------------------------------------------------------------------------------------------------------------------------------------------------------------------------------------------------------------------------------------------------------------------------------------------------------------------------------+--------------------+----------------+\n",
            "| The packaging provided by ExpressWay Logistics is always secure and well-protected, and ensured that my items arrive in perfect condition.                                                                                                                                                                                                                                                                                                                                                                                                                                                      | positive           | Positive       |\n",
            "+-------------------------------------------------------------------------------------------------------------------------------------------------------------------------------------------------------------------------------------------------------------------------------------------------------------------------------------------------------------------------------------------------------------------------------------------------------------------------------------------------------------------------------------------------------------------------------------------------+--------------------+----------------+\n",
            "| My recent experience with ExpressWay Logistics left me thoroughly impressed. I had a highly time-sensitive shipment that required delicate handling and precise coordination. Despite the challenges, ExpressWay rose to the occasion, demonstrating an unparalleled level of professionalism and efficiency. Their team meticulously planned every aspect of the shipment, from packaging to transportation, ensuring that no detail was overlooked.                                                                                                                                           | positive           | Positive       |\n",
            "+-------------------------------------------------------------------------------------------------------------------------------------------------------------------------------------------------------------------------------------------------------------------------------------------------------------------------------------------------------------------------------------------------------------------------------------------------------------------------------------------------------------------------------------------------------------------------------------------------+--------------------+----------------+\n",
            "| I was initially impressed by ExpressWay Logistics' promise of reliability and affordability, but my recent encounters have been less than satisfactory. Their website is so irritating and their drivers are too harsh, the repeated delays in delivery have been frustrating. Additionally, the discovery of hidden fees within their pricing structure has left me feeling misled. In addition to these challenges, their customer service team has been inattentive and disrespectful, which has degraded the overall experience.Not at all recommend!                                       | negative           | Negative       |\n",
            "+-------------------------------------------------------------------------------------------------------------------------------------------------------------------------------------------------------------------------------------------------------------------------------------------------------------------------------------------------------------------------------------------------------------------------------------------------------------------------------------------------------------------------------------------------------------------------------------------------+--------------------+----------------+\n",
            "| Thumbs up to ExpressWay for their prompt responses and reliable shipping solutions. Impressed!                                                                                                                                                                                                                                                                                                                                                                                                                                                                                                  | positive           | Positive       |\n",
            "+-------------------------------------------------------------------------------------------------------------------------------------------------------------------------------------------------------------------------------------------------------------------------------------------------------------------------------------------------------------------------------------------------------------------------------------------------------------------------------------------------------------------------------------------------------------------------------------------------+--------------------+----------------+\n",
            "| I had a terrible experience with ExpressWay Logistics. Not only was my pickup delayed, but the packaging was not done intactly, and the customer support team was unresponsive when I tried to raise the issue.                                                                                                                                                                                                                                                                                                                                                                                 | negative           | Negative       |\n",
            "+-------------------------------------------------------------------------------------------------------------------------------------------------------------------------------------------------------------------------------------------------------------------------------------------------------------------------------------------------------------------------------------------------------------------------------------------------------------------------------------------------------------------------------------------------------------------------------------------------+--------------------+----------------+\n"
          ]
        },
        {
          "output_type": "stream",
          "name": "stderr",
          "text": [
            "\r 60%|██████    | 3/5 [00:18<00:12,  6.30s/it]"
          ]
        },
        {
          "output_type": "stream",
          "name": "stdout",
          "text": [
            "+-------------------------------------------------------------------------------------------------------------------------------------------------------------------------------------------------------------------------------------------------------------------------------------------------------------------------------------------------------------------------------------------------------------------------------------------------------------------------------------------------------------------------------------------------------------------------------------------------+--------------------+----------------+\n",
            "| Review                                                                                                                                                                                                                                                                                                                                                                                                                                                                                                                                                                                          | Model Prediction   | Ground Truth   |\n",
            "+=================================================================================================================================================================================================================================================================================================================================================================================================================================================================================================================================================================================================+====================+================+\n",
            "| The delivery executive assigned by ExpressWay Logistics was courteous and professional during the delivery process. They tried their best to handle the package with care.Unfortunately, the package arrived with slight damage despite the delivery executive's efforts. The packaging seemed more than adequate to protect the contents during transit.                                                                                                                                                                                                                                       | Neutral            | Positive       |\n",
            "+-------------------------------------------------------------------------------------------------------------------------------------------------------------------------------------------------------------------------------------------------------------------------------------------------------------------------------------------------------------------------------------------------------------------------------------------------------------------------------------------------------------------------------------------------------------------------------------------------+--------------------+----------------+\n",
            "| ExpressWay Logistics failed to meet my expectations. The delivery was delayed, and the customer support team was unresponsive and unhelpful when I tried to inquire about the status of my parcel.                                                                                                                                                                                                                                                                                                                                                                                              | Negative           | Negative       |\n",
            "+-------------------------------------------------------------------------------------------------------------------------------------------------------------------------------------------------------------------------------------------------------------------------------------------------------------------------------------------------------------------------------------------------------------------------------------------------------------------------------------------------------------------------------------------------------------------------------------------------+--------------------+----------------+\n",
            "| ExpressWay Logistics' incompetence resulted in a major inconvenience when my package was delivered to the wrong recipient. Despite providing accurate delivery information, the package ended up in the hands of someone else, and efforts to retrieve it were unsuccessful. When I contacted customer service for assistance, I was met with apathy and a lack of urgency. Their failure to rectify the situation in a timely manner is unacceptable, and I will be avoiding their services at all costs.                                                                                      | Negative           | Negative       |\n",
            "+-------------------------------------------------------------------------------------------------------------------------------------------------------------------------------------------------------------------------------------------------------------------------------------------------------------------------------------------------------------------------------------------------------------------------------------------------------------------------------------------------------------------------------------------------------------------------------------------------+--------------------+----------------+\n",
            "| Kudos to ExpressWay Logistics for their outstanding service! They've been an essential partner for my business, handling all our shipping needs with professionalism and efficiency. If you're looking for a reliable logistic service provider, look no further than ExpressWay Logistics.                                                                                                                                                                                                                                                                                                     | Positive           | Positive       |\n",
            "+-------------------------------------------------------------------------------------------------------------------------------------------------------------------------------------------------------------------------------------------------------------------------------------------------------------------------------------------------------------------------------------------------------------------------------------------------------------------------------------------------------------------------------------------------------------------------------------------------+--------------------+----------------+\n",
            "| ExpressWay Logistics offers a convenient online platform for booking shipments, and their competitive rates initially drew me in. However, the frequent delays in delivery and lack of transparency regarding additional fees have soured my experience. While their customer service representatives are polite, they often seem powerless to resolve issues effectively.This lack of care and responsibilites from the concerned teams have led me unsatisfied and irritated.I cannot trust and rely on this again.Will definitely not contact them ever for my courier deliveries!           | Negative           | Negative       |\n",
            "+-------------------------------------------------------------------------------------------------------------------------------------------------------------------------------------------------------------------------------------------------------------------------------------------------------------------------------------------------------------------------------------------------------------------------------------------------------------------------------------------------------------------------------------------------------------------------------------------------+--------------------+----------------+\n",
            "| Planning a destination wedding is undoubtedly a daunting task, especially when it comes to coordinating transportation for guests and wedding essentials. Fortunately, ExpressWay Logistics made this aspect of our wedding planning effortless. From the beginning, they were attentive to our needs and provided valuable insights to streamline the process.                                                                                                                                                                                                                                 | Positive           | Positive       |\n",
            "+-------------------------------------------------------------------------------------------------------------------------------------------------------------------------------------------------------------------------------------------------------------------------------------------------------------------------------------------------------------------------------------------------------------------------------------------------------------------------------------------------------------------------------------------------------------------------------------------------+--------------------+----------------+\n",
            "| ExpressWay Logistics consistently delivers on its promises, providing fast, efficient, and reliable courier services that exceeded my expectations.                                                                                                                                                                                                                                                                                                                                                                                                                                             | Positive           | Positive       |\n",
            "+-------------------------------------------------------------------------------------------------------------------------------------------------------------------------------------------------------------------------------------------------------------------------------------------------------------------------------------------------------------------------------------------------------------------------------------------------------------------------------------------------------------------------------------------------------------------------------------------------+--------------------+----------------+\n",
            "| I needed to ship perishable items internationally, and ExpressWay Logistics handled the process flawlessly. They ensured that the items were properly packaged and transported in temperature-controlled conditions.                                                                                                                                                                                                                                                                                                                                                                            | Positive           | Positive       |\n",
            "+-------------------------------------------------------------------------------------------------------------------------------------------------------------------------------------------------------------------------------------------------------------------------------------------------------------------------------------------------------------------------------------------------------------------------------------------------------------------------------------------------------------------------------------------------------------------------------------------------+--------------------+----------------+\n",
            "| I appreciated the flexibility offered by ExpressWay Logistics in terms of delivery options. Their range of delivery speeds and service levels allowed me to choose the option that best suited my needs and budget.However, I was slightly disappointed by the lack of transparency regarding few additional fees and surcharges. I selected a specific delivery option and paid minor charges at checkout, which undermined the initial affordability of the service..                                                                                                                         | Neutral to         | Negative       |\n",
            "+-------------------------------------------------------------------------------------------------------------------------------------------------------------------------------------------------------------------------------------------------------------------------------------------------------------------------------------------------------------------------------------------------------------------------------------------------------------------------------------------------------------------------------------------------------------------------------------------------+--------------------+----------------+\n",
            "| While ExpressWay Logistics' pricing is competitive, their lack of accountability for delays and damages is disappointing. It's frustrating to pay for a service that fails to deliver on its promises consistently.                                                                                                                                                                                                                                                                                                                                                                             | Negative           | Negative       |\n",
            "+-------------------------------------------------------------------------------------------------------------------------------------------------------------------------------------------------------------------------------------------------------------------------------------------------------------------------------------------------------------------------------------------------------------------------------------------------------------------------------------------------------------------------------------------------------------------------------------------------+--------------------+----------------+\n",
            "| ExpressWay Logistics' pricing may seem attractive at first glance, but beware of some internal hidden fees that may sometimes add up. Coupled with their reliable delivery times, it's simply not worth the hassle.But still I appreciate that my parcel got delivered safely a day after the promised window.                                                                                                                                                                                                                                                                                  | Mixed/             | Positive       |\n",
            "+-------------------------------------------------------------------------------------------------------------------------------------------------------------------------------------------------------------------------------------------------------------------------------------------------------------------------------------------------------------------------------------------------------------------------------------------------------------------------------------------------------------------------------------------------------------------------------------------------+--------------------+----------------+\n",
            "| ExpressWay Logistics has been my go-to courier service for years, primarily due to their extensive network coverage and competitive pricing. However, my recent experience has left me questioning their reliability. While their user-friendly website and efficient booking process remain commendable, the repeated delays in delivery and lack of proactive communication have been disappointing.Despite these setbacks, their customer service team has always been courteous and responsive, attempting to address my concerns promptly.                                                 | Neutral (          | Negative       |\n",
            "+-------------------------------------------------------------------------------------------------------------------------------------------------------------------------------------------------------------------------------------------------------------------------------------------------------------------------------------------------------------------------------------------------------------------------------------------------------------------------------------------------------------------------------------------------------------------------------------------------+--------------------+----------------+\n",
            "| ExpressWay Logistics' incompetence led to the loss of my parcel, and their lack of accountability only added to the frustration. Despite filing a claim and providing evidence of the missing items, I received no assistance or compensation for the lost package. Their negligence and disregard for customer satisfaction are unacceptable, and I will be exploring legal options to recoup the value of the lost items.                                                                                                                                                                     | Negative           | Negative       |\n",
            "+-------------------------------------------------------------------------------------------------------------------------------------------------------------------------------------------------------------------------------------------------------------------------------------------------------------------------------------------------------------------------------------------------------------------------------------------------------------------------------------------------------------------------------------------------------------------------------------------------+--------------------+----------------+\n",
            "| I was deeply disappointed by the behavior of the delivery executive from Expressway Logistics. They exhibited a complete disregard for customer satisfaction, arriving late and mishandling the package upon delivery. Despite raising my concerns with Expressway Logistics, there was no acknowledgment or resolution provided.                                                                                                                                                                                                                                                               | Negative           | Negative       |\n",
            "+-------------------------------------------------------------------------------------------------------------------------------------------------------------------------------------------------------------------------------------------------------------------------------------------------------------------------------------------------------------------------------------------------------------------------------------------------------------------------------------------------------------------------------------------------------------------------------------------------+--------------------+----------------+\n",
            "| As a frequent traveler, I often use ExpressWay Logistics to ship luggage and personal belongings ahead of time. Their door-to-door service and reliable tracking make traveling a breeze.                                                                                                                                                                                                                                                                                                                                                                                                       | Positive           | Positive       |\n",
            "+-------------------------------------------------------------------------------------------------------------------------------------------------------------------------------------------------------------------------------------------------------------------------------------------------------------------------------------------------------------------------------------------------------------------------------------------------------------------------------------------------------------------------------------------------------------------------------------------------+--------------------+----------------+\n",
            "| ExpressWay Logistics caught my attention with its promise of seamless shipping solutions and a comprehensive network. However, my recent experiences have revealed some significant shortcomings. Their online platform is disgusting and their tracking system is inaccurate.I've encountered repeated issues with inaccurate weight calculations that have led to unexpected charges. Moreover, the limited options for customizing shipment preferences have made it challenging to meet my requirements.I cannot rely upon it for my future requirements.It failed to meet my requirements. | Negative           | Negative       |\n",
            "+-------------------------------------------------------------------------------------------------------------------------------------------------------------------------------------------------------------------------------------------------------------------------------------------------------------------------------------------------------------------------------------------------------------------------------------------------------------------------------------------------------------------------------------------------------------------------------------------------+--------------------+----------------+\n",
            "| The packaging provided by ExpressWay Logistics is always secure and well-protected, and ensured that my items arrive in perfect condition.                                                                                                                                                                                                                                                                                                                                                                                                                                                      | Positive           | Positive       |\n",
            "+-------------------------------------------------------------------------------------------------------------------------------------------------------------------------------------------------------------------------------------------------------------------------------------------------------------------------------------------------------------------------------------------------------------------------------------------------------------------------------------------------------------------------------------------------------------------------------------------------+--------------------+----------------+\n",
            "| My recent experience with ExpressWay Logistics left me thoroughly impressed. I had a highly time-sensitive shipment that required delicate handling and precise coordination. Despite the challenges, ExpressWay rose to the occasion, demonstrating an unparalleled level of professionalism and efficiency. Their team meticulously planned every aspect of the shipment, from packaging to transportation, ensuring that no detail was overlooked.                                                                                                                                           | Positive           | Positive       |\n",
            "+-------------------------------------------------------------------------------------------------------------------------------------------------------------------------------------------------------------------------------------------------------------------------------------------------------------------------------------------------------------------------------------------------------------------------------------------------------------------------------------------------------------------------------------------------------------------------------------------------+--------------------+----------------+\n",
            "| I was initially impressed by ExpressWay Logistics' promise of reliability and affordability, but my recent encounters have been less than satisfactory. Their website is so irritating and their drivers are too harsh, the repeated delays in delivery have been frustrating. Additionally, the discovery of hidden fees within their pricing structure has left me feeling misled. In addition to these challenges, their customer service team has been inattentive and disrespectful, which has degraded the overall experience.Not at all recommend!                                       | Negative           | Negative       |\n",
            "+-------------------------------------------------------------------------------------------------------------------------------------------------------------------------------------------------------------------------------------------------------------------------------------------------------------------------------------------------------------------------------------------------------------------------------------------------------------------------------------------------------------------------------------------------------------------------------------------------+--------------------+----------------+\n",
            "| Thumbs up to ExpressWay for their prompt responses and reliable shipping solutions. Impressed!                                                                                                                                                                                                                                                                                                                                                                                                                                                                                                  | Positive           | Positive       |\n",
            "+-------------------------------------------------------------------------------------------------------------------------------------------------------------------------------------------------------------------------------------------------------------------------------------------------------------------------------------------------------------------------------------------------------------------------------------------------------------------------------------------------------------------------------------------------------------------------------------------------+--------------------+----------------+\n",
            "| I had a terrible experience with ExpressWay Logistics. Not only was my pickup delayed, but the packaging was not done intactly, and the customer support team was unresponsive when I tried to raise the issue.                                                                                                                                                                                                                                                                                                                                                                                 | Negative           | Negative       |\n",
            "+-------------------------------------------------------------------------------------------------------------------------------------------------------------------------------------------------------------------------------------------------------------------------------------------------------------------------------------------------------------------------------------------------------------------------------------------------------------------------------------------------------------------------------------------------------------------------------------------------+--------------------+----------------+\n",
            "+-------------------------------------------------------------------------------------------------------------------------------------------------------------------------------------------------------------------------------------------------------------------------------------------------------------------------------------------------------------------------------------------------------------------------------------------------------------------------------------------------------------------------------------------------------------------------------------------------+--------------------+----------------+\n",
            "| Review                                                                                                                                                                                                                                                                                                                                                                                                                                                                                                                                                                                          | Model Prediction   | Ground Truth   |\n",
            "+=================================================================================================================================================================================================================================================================================================================================================================================================================================================================================================================================================================================================+====================+================+\n",
            "| The delivery executive assigned by ExpressWay Logistics was courteous and professional during the delivery process. They tried their best to handle the package with care.Unfortunately, the package arrived with slight damage despite the delivery executive's efforts. The packaging seemed more than adequate to protect the contents during transit.                                                                                                                                                                                                                                       | Negative           | Positive       |\n",
            "+-------------------------------------------------------------------------------------------------------------------------------------------------------------------------------------------------------------------------------------------------------------------------------------------------------------------------------------------------------------------------------------------------------------------------------------------------------------------------------------------------------------------------------------------------------------------------------------------------+--------------------+----------------+\n",
            "| ExpressWay Logistics failed to meet my expectations. The delivery was delayed, and the customer support team was unresponsive and unhelpful when I tried to inquire about the status of my parcel.                                                                                                                                                                                                                                                                                                                                                                                              | negative           | Negative       |\n",
            "+-------------------------------------------------------------------------------------------------------------------------------------------------------------------------------------------------------------------------------------------------------------------------------------------------------------------------------------------------------------------------------------------------------------------------------------------------------------------------------------------------------------------------------------------------------------------------------------------------+--------------------+----------------+\n",
            "| ExpressWay Logistics' incompetence resulted in a major inconvenience when my package was delivered to the wrong recipient. Despite providing accurate delivery information, the package ended up in the hands of someone else, and efforts to retrieve it were unsuccessful. When I contacted customer service for assistance, I was met with apathy and a lack of urgency. Their failure to rectify the situation in a timely manner is unacceptable, and I will be avoiding their services at all costs.                                                                                      | negative           | Negative       |\n",
            "+-------------------------------------------------------------------------------------------------------------------------------------------------------------------------------------------------------------------------------------------------------------------------------------------------------------------------------------------------------------------------------------------------------------------------------------------------------------------------------------------------------------------------------------------------------------------------------------------------+--------------------+----------------+\n",
            "| Kudos to ExpressWay Logistics for their outstanding service! They've been an essential partner for my business, handling all our shipping needs with professionalism and efficiency. If you're looking for a reliable logistic service provider, look no further than ExpressWay Logistics.                                                                                                                                                                                                                                                                                                     | positive           | Positive       |\n",
            "+-------------------------------------------------------------------------------------------------------------------------------------------------------------------------------------------------------------------------------------------------------------------------------------------------------------------------------------------------------------------------------------------------------------------------------------------------------------------------------------------------------------------------------------------------------------------------------------------------+--------------------+----------------+\n",
            "| ExpressWay Logistics offers a convenient online platform for booking shipments, and their competitive rates initially drew me in. However, the frequent delays in delivery and lack of transparency regarding additional fees have soured my experience. While their customer service representatives are polite, they often seem powerless to resolve issues effectively.This lack of care and responsibilites from the concerned teams have led me unsatisfied and irritated.I cannot trust and rely on this again.Will definitely not contact them ever for my courier deliveries!           | Negative           | Negative       |\n",
            "+-------------------------------------------------------------------------------------------------------------------------------------------------------------------------------------------------------------------------------------------------------------------------------------------------------------------------------------------------------------------------------------------------------------------------------------------------------------------------------------------------------------------------------------------------------------------------------------------------+--------------------+----------------+\n",
            "| Planning a destination wedding is undoubtedly a daunting task, especially when it comes to coordinating transportation for guests and wedding essentials. Fortunately, ExpressWay Logistics made this aspect of our wedding planning effortless. From the beginning, they were attentive to our needs and provided valuable insights to streamline the process.                                                                                                                                                                                                                                 | positive           | Positive       |\n",
            "+-------------------------------------------------------------------------------------------------------------------------------------------------------------------------------------------------------------------------------------------------------------------------------------------------------------------------------------------------------------------------------------------------------------------------------------------------------------------------------------------------------------------------------------------------------------------------------------------------+--------------------+----------------+\n",
            "| ExpressWay Logistics consistently delivers on its promises, providing fast, efficient, and reliable courier services that exceeded my expectations.                                                                                                                                                                                                                                                                                                                                                                                                                                             | positive           | Positive       |\n",
            "+-------------------------------------------------------------------------------------------------------------------------------------------------------------------------------------------------------------------------------------------------------------------------------------------------------------------------------------------------------------------------------------------------------------------------------------------------------------------------------------------------------------------------------------------------------------------------------------------------+--------------------+----------------+\n",
            "| I needed to ship perishable items internationally, and ExpressWay Logistics handled the process flawlessly. They ensured that the items were properly packaged and transported in temperature-controlled conditions.                                                                                                                                                                                                                                                                                                                                                                            | positive           | Positive       |\n",
            "+-------------------------------------------------------------------------------------------------------------------------------------------------------------------------------------------------------------------------------------------------------------------------------------------------------------------------------------------------------------------------------------------------------------------------------------------------------------------------------------------------------------------------------------------------------------------------------------------------+--------------------+----------------+\n",
            "| I appreciated the flexibility offered by ExpressWay Logistics in terms of delivery options. Their range of delivery speeds and service levels allowed me to choose the option that best suited my needs and budget.However, I was slightly disappointed by the lack of transparency regarding few additional fees and surcharges. I selected a specific delivery option and paid minor charges at checkout, which undermined the initial affordability of the service..                                                                                                                         | Mixed              | Negative       |\n",
            "+-------------------------------------------------------------------------------------------------------------------------------------------------------------------------------------------------------------------------------------------------------------------------------------------------------------------------------------------------------------------------------------------------------------------------------------------------------------------------------------------------------------------------------------------------------------------------------------------------+--------------------+----------------+\n",
            "| While ExpressWay Logistics' pricing is competitive, their lack of accountability for delays and damages is disappointing. It's frustrating to pay for a service that fails to deliver on its promises consistently.                                                                                                                                                                                                                                                                                                                                                                             | negative           | Negative       |\n",
            "+-------------------------------------------------------------------------------------------------------------------------------------------------------------------------------------------------------------------------------------------------------------------------------------------------------------------------------------------------------------------------------------------------------------------------------------------------------------------------------------------------------------------------------------------------------------------------------------------------+--------------------+----------------+\n",
            "| ExpressWay Logistics' pricing may seem attractive at first glance, but beware of some internal hidden fees that may sometimes add up. Coupled with their reliable delivery times, it's simply not worth the hassle.But still I appreciate that my parcel got delivered safely a day after the promised window.                                                                                                                                                                                                                                                                                  | Negative           | Positive       |\n",
            "+-------------------------------------------------------------------------------------------------------------------------------------------------------------------------------------------------------------------------------------------------------------------------------------------------------------------------------------------------------------------------------------------------------------------------------------------------------------------------------------------------------------------------------------------------------------------------------------------------+--------------------+----------------+\n",
            "| ExpressWay Logistics has been my go-to courier service for years, primarily due to their extensive network coverage and competitive pricing. However, my recent experience has left me questioning their reliability. While their user-friendly website and efficient booking process remain commendable, the repeated delays in delivery and lack of proactive communication have been disappointing.Despite these setbacks, their customer service team has always been courteous and responsive, attempting to address my concerns promptly.                                                 | negative           | Negative       |\n",
            "+-------------------------------------------------------------------------------------------------------------------------------------------------------------------------------------------------------------------------------------------------------------------------------------------------------------------------------------------------------------------------------------------------------------------------------------------------------------------------------------------------------------------------------------------------------------------------------------------------+--------------------+----------------+\n",
            "| ExpressWay Logistics' incompetence led to the loss of my parcel, and their lack of accountability only added to the frustration. Despite filing a claim and providing evidence of the missing items, I received no assistance or compensation for the lost package. Their negligence and disregard for customer satisfaction are unacceptable, and I will be exploring legal options to recoup the value of the lost items.                                                                                                                                                                     | negative           | Negative       |\n",
            "+-------------------------------------------------------------------------------------------------------------------------------------------------------------------------------------------------------------------------------------------------------------------------------------------------------------------------------------------------------------------------------------------------------------------------------------------------------------------------------------------------------------------------------------------------------------------------------------------------+--------------------+----------------+\n",
            "| I was deeply disappointed by the behavior of the delivery executive from Expressway Logistics. They exhibited a complete disregard for customer satisfaction, arriving late and mishandling the package upon delivery. Despite raising my concerns with Expressway Logistics, there was no acknowledgment or resolution provided.                                                                                                                                                                                                                                                               | negative           | Negative       |\n",
            "+-------------------------------------------------------------------------------------------------------------------------------------------------------------------------------------------------------------------------------------------------------------------------------------------------------------------------------------------------------------------------------------------------------------------------------------------------------------------------------------------------------------------------------------------------------------------------------------------------+--------------------+----------------+\n",
            "| As a frequent traveler, I often use ExpressWay Logistics to ship luggage and personal belongings ahead of time. Their door-to-door service and reliable tracking make traveling a breeze.                                                                                                                                                                                                                                                                                                                                                                                                       | positive           | Positive       |\n",
            "+-------------------------------------------------------------------------------------------------------------------------------------------------------------------------------------------------------------------------------------------------------------------------------------------------------------------------------------------------------------------------------------------------------------------------------------------------------------------------------------------------------------------------------------------------------------------------------------------------+--------------------+----------------+\n",
            "| ExpressWay Logistics caught my attention with its promise of seamless shipping solutions and a comprehensive network. However, my recent experiences have revealed some significant shortcomings. Their online platform is disgusting and their tracking system is inaccurate.I've encountered repeated issues with inaccurate weight calculations that have led to unexpected charges. Moreover, the limited options for customizing shipment preferences have made it challenging to meet my requirements.I cannot rely upon it for my future requirements.It failed to meet my requirements. | negative           | Negative       |\n",
            "+-------------------------------------------------------------------------------------------------------------------------------------------------------------------------------------------------------------------------------------------------------------------------------------------------------------------------------------------------------------------------------------------------------------------------------------------------------------------------------------------------------------------------------------------------------------------------------------------------+--------------------+----------------+\n",
            "| The packaging provided by ExpressWay Logistics is always secure and well-protected, and ensured that my items arrive in perfect condition.                                                                                                                                                                                                                                                                                                                                                                                                                                                      | positive           | Positive       |\n",
            "+-------------------------------------------------------------------------------------------------------------------------------------------------------------------------------------------------------------------------------------------------------------------------------------------------------------------------------------------------------------------------------------------------------------------------------------------------------------------------------------------------------------------------------------------------------------------------------------------------+--------------------+----------------+\n",
            "| My recent experience with ExpressWay Logistics left me thoroughly impressed. I had a highly time-sensitive shipment that required delicate handling and precise coordination. Despite the challenges, ExpressWay rose to the occasion, demonstrating an unparalleled level of professionalism and efficiency. Their team meticulously planned every aspect of the shipment, from packaging to transportation, ensuring that no detail was overlooked.                                                                                                                                           | positive           | Positive       |\n",
            "+-------------------------------------------------------------------------------------------------------------------------------------------------------------------------------------------------------------------------------------------------------------------------------------------------------------------------------------------------------------------------------------------------------------------------------------------------------------------------------------------------------------------------------------------------------------------------------------------------+--------------------+----------------+\n",
            "| I was initially impressed by ExpressWay Logistics' promise of reliability and affordability, but my recent encounters have been less than satisfactory. Their website is so irritating and their drivers are too harsh, the repeated delays in delivery have been frustrating. Additionally, the discovery of hidden fees within their pricing structure has left me feeling misled. In addition to these challenges, their customer service team has been inattentive and disrespectful, which has degraded the overall experience.Not at all recommend!                                       | negative           | Negative       |\n",
            "+-------------------------------------------------------------------------------------------------------------------------------------------------------------------------------------------------------------------------------------------------------------------------------------------------------------------------------------------------------------------------------------------------------------------------------------------------------------------------------------------------------------------------------------------------------------------------------------------------+--------------------+----------------+\n",
            "| Thumbs up to ExpressWay for their prompt responses and reliable shipping solutions. Impressed!                                                                                                                                                                                                                                                                                                                                                                                                                                                                                                  | positive           | Positive       |\n",
            "+-------------------------------------------------------------------------------------------------------------------------------------------------------------------------------------------------------------------------------------------------------------------------------------------------------------------------------------------------------------------------------------------------------------------------------------------------------------------------------------------------------------------------------------------------------------------------------------------------+--------------------+----------------+\n",
            "| I had a terrible experience with ExpressWay Logistics. Not only was my pickup delayed, but the packaging was not done intactly, and the customer support team was unresponsive when I tried to raise the issue.                                                                                                                                                                                                                                                                                                                                                                                 | negative           | Negative       |\n",
            "+-------------------------------------------------------------------------------------------------------------------------------------------------------------------------------------------------------------------------------------------------------------------------------------------------------------------------------------------------------------------------------------------------------------------------------------------------------------------------------------------------------------------------------------------------------------------------------------------------+--------------------+----------------+\n"
          ]
        },
        {
          "output_type": "stream",
          "name": "stderr",
          "text": [
            "\r 80%|████████  | 4/5 [00:25<00:06,  6.29s/it]"
          ]
        },
        {
          "output_type": "stream",
          "name": "stdout",
          "text": [
            "+-------------------------------------------------------------------------------------------------------------------------------------------------------------------------------------------------------------------------------------------------------------------------------------------------------------------------------------------------------------------------------------------------------------------------------------------------------------------------------------------------------------------------------------------------------------------------------------------------+--------------------+----------------+\n",
            "| Review                                                                                                                                                                                                                                                                                                                                                                                                                                                                                                                                                                                          | Model Prediction   | Ground Truth   |\n",
            "+=================================================================================================================================================================================================================================================================================================================================================================================================================================================================================================================================================================================================+====================+================+\n",
            "| The delivery executive assigned by ExpressWay Logistics was courteous and professional during the delivery process. They tried their best to handle the package with care.Unfortunately, the package arrived with slight damage despite the delivery executive's efforts. The packaging seemed more than adequate to protect the contents during transit.                                                                                                                                                                                                                                       | Mixed/             | Positive       |\n",
            "+-------------------------------------------------------------------------------------------------------------------------------------------------------------------------------------------------------------------------------------------------------------------------------------------------------------------------------------------------------------------------------------------------------------------------------------------------------------------------------------------------------------------------------------------------------------------------------------------------+--------------------+----------------+\n",
            "| ExpressWay Logistics failed to meet my expectations. The delivery was delayed, and the customer support team was unresponsive and unhelpful when I tried to inquire about the status of my parcel.                                                                                                                                                                                                                                                                                                                                                                                              | Negative           | Negative       |\n",
            "+-------------------------------------------------------------------------------------------------------------------------------------------------------------------------------------------------------------------------------------------------------------------------------------------------------------------------------------------------------------------------------------------------------------------------------------------------------------------------------------------------------------------------------------------------------------------------------------------------+--------------------+----------------+\n",
            "| ExpressWay Logistics' incompetence resulted in a major inconvenience when my package was delivered to the wrong recipient. Despite providing accurate delivery information, the package ended up in the hands of someone else, and efforts to retrieve it were unsuccessful. When I contacted customer service for assistance, I was met with apathy and a lack of urgency. Their failure to rectify the situation in a timely manner is unacceptable, and I will be avoiding their services at all costs.                                                                                      | Negative           | Negative       |\n",
            "+-------------------------------------------------------------------------------------------------------------------------------------------------------------------------------------------------------------------------------------------------------------------------------------------------------------------------------------------------------------------------------------------------------------------------------------------------------------------------------------------------------------------------------------------------------------------------------------------------+--------------------+----------------+\n",
            "| Kudos to ExpressWay Logistics for their outstanding service! They've been an essential partner for my business, handling all our shipping needs with professionalism and efficiency. If you're looking for a reliable logistic service provider, look no further than ExpressWay Logistics.                                                                                                                                                                                                                                                                                                     | Positive           | Positive       |\n",
            "+-------------------------------------------------------------------------------------------------------------------------------------------------------------------------------------------------------------------------------------------------------------------------------------------------------------------------------------------------------------------------------------------------------------------------------------------------------------------------------------------------------------------------------------------------------------------------------------------------+--------------------+----------------+\n",
            "| ExpressWay Logistics offers a convenient online platform for booking shipments, and their competitive rates initially drew me in. However, the frequent delays in delivery and lack of transparency regarding additional fees have soured my experience. While their customer service representatives are polite, they often seem powerless to resolve issues effectively.This lack of care and responsibilites from the concerned teams have led me unsatisfied and irritated.I cannot trust and rely on this again.Will definitely not contact them ever for my courier deliveries!           | Negative           | Negative       |\n",
            "+-------------------------------------------------------------------------------------------------------------------------------------------------------------------------------------------------------------------------------------------------------------------------------------------------------------------------------------------------------------------------------------------------------------------------------------------------------------------------------------------------------------------------------------------------------------------------------------------------+--------------------+----------------+\n",
            "| Planning a destination wedding is undoubtedly a daunting task, especially when it comes to coordinating transportation for guests and wedding essentials. Fortunately, ExpressWay Logistics made this aspect of our wedding planning effortless. From the beginning, they were attentive to our needs and provided valuable insights to streamline the process.                                                                                                                                                                                                                                 | Positive           | Positive       |\n",
            "+-------------------------------------------------------------------------------------------------------------------------------------------------------------------------------------------------------------------------------------------------------------------------------------------------------------------------------------------------------------------------------------------------------------------------------------------------------------------------------------------------------------------------------------------------------------------------------------------------+--------------------+----------------+\n",
            "| ExpressWay Logistics consistently delivers on its promises, providing fast, efficient, and reliable courier services that exceeded my expectations.                                                                                                                                                                                                                                                                                                                                                                                                                                             | Positive           | Positive       |\n",
            "+-------------------------------------------------------------------------------------------------------------------------------------------------------------------------------------------------------------------------------------------------------------------------------------------------------------------------------------------------------------------------------------------------------------------------------------------------------------------------------------------------------------------------------------------------------------------------------------------------+--------------------+----------------+\n",
            "| I needed to ship perishable items internationally, and ExpressWay Logistics handled the process flawlessly. They ensured that the items were properly packaged and transported in temperature-controlled conditions.                                                                                                                                                                                                                                                                                                                                                                            | Positive           | Positive       |\n",
            "+-------------------------------------------------------------------------------------------------------------------------------------------------------------------------------------------------------------------------------------------------------------------------------------------------------------------------------------------------------------------------------------------------------------------------------------------------------------------------------------------------------------------------------------------------------------------------------------------------+--------------------+----------------+\n",
            "| I appreciated the flexibility offered by ExpressWay Logistics in terms of delivery options. Their range of delivery speeds and service levels allowed me to choose the option that best suited my needs and budget.However, I was slightly disappointed by the lack of transparency regarding few additional fees and surcharges. I selected a specific delivery option and paid minor charges at checkout, which undermined the initial affordability of the service..                                                                                                                         | Neutral (          | Negative       |\n",
            "+-------------------------------------------------------------------------------------------------------------------------------------------------------------------------------------------------------------------------------------------------------------------------------------------------------------------------------------------------------------------------------------------------------------------------------------------------------------------------------------------------------------------------------------------------------------------------------------------------+--------------------+----------------+\n",
            "| While ExpressWay Logistics' pricing is competitive, their lack of accountability for delays and damages is disappointing. It's frustrating to pay for a service that fails to deliver on its promises consistently.                                                                                                                                                                                                                                                                                                                                                                             | Negative           | Negative       |\n",
            "+-------------------------------------------------------------------------------------------------------------------------------------------------------------------------------------------------------------------------------------------------------------------------------------------------------------------------------------------------------------------------------------------------------------------------------------------------------------------------------------------------------------------------------------------------------------------------------------------------+--------------------+----------------+\n",
            "| ExpressWay Logistics' pricing may seem attractive at first glance, but beware of some internal hidden fees that may sometimes add up. Coupled with their reliable delivery times, it's simply not worth the hassle.But still I appreciate that my parcel got delivered safely a day after the promised window.                                                                                                                                                                                                                                                                                  | Mixed/             | Positive       |\n",
            "+-------------------------------------------------------------------------------------------------------------------------------------------------------------------------------------------------------------------------------------------------------------------------------------------------------------------------------------------------------------------------------------------------------------------------------------------------------------------------------------------------------------------------------------------------------------------------------------------------+--------------------+----------------+\n",
            "| ExpressWay Logistics has been my go-to courier service for years, primarily due to their extensive network coverage and competitive pricing. However, my recent experience has left me questioning their reliability. While their user-friendly website and efficient booking process remain commendable, the repeated delays in delivery and lack of proactive communication have been disappointing.Despite these setbacks, their customer service team has always been courteous and responsive, attempting to address my concerns promptly.                                                 | Mixed/             | Negative       |\n",
            "+-------------------------------------------------------------------------------------------------------------------------------------------------------------------------------------------------------------------------------------------------------------------------------------------------------------------------------------------------------------------------------------------------------------------------------------------------------------------------------------------------------------------------------------------------------------------------------------------------+--------------------+----------------+\n",
            "| ExpressWay Logistics' incompetence led to the loss of my parcel, and their lack of accountability only added to the frustration. Despite filing a claim and providing evidence of the missing items, I received no assistance or compensation for the lost package. Their negligence and disregard for customer satisfaction are unacceptable, and I will be exploring legal options to recoup the value of the lost items.                                                                                                                                                                     | Negative           | Negative       |\n",
            "+-------------------------------------------------------------------------------------------------------------------------------------------------------------------------------------------------------------------------------------------------------------------------------------------------------------------------------------------------------------------------------------------------------------------------------------------------------------------------------------------------------------------------------------------------------------------------------------------------+--------------------+----------------+\n",
            "| I was deeply disappointed by the behavior of the delivery executive from Expressway Logistics. They exhibited a complete disregard for customer satisfaction, arriving late and mishandling the package upon delivery. Despite raising my concerns with Expressway Logistics, there was no acknowledgment or resolution provided.                                                                                                                                                                                                                                                               | Negative           | Negative       |\n",
            "+-------------------------------------------------------------------------------------------------------------------------------------------------------------------------------------------------------------------------------------------------------------------------------------------------------------------------------------------------------------------------------------------------------------------------------------------------------------------------------------------------------------------------------------------------------------------------------------------------+--------------------+----------------+\n",
            "| As a frequent traveler, I often use ExpressWay Logistics to ship luggage and personal belongings ahead of time. Their door-to-door service and reliable tracking make traveling a breeze.                                                                                                                                                                                                                                                                                                                                                                                                       | Positive           | Positive       |\n",
            "+-------------------------------------------------------------------------------------------------------------------------------------------------------------------------------------------------------------------------------------------------------------------------------------------------------------------------------------------------------------------------------------------------------------------------------------------------------------------------------------------------------------------------------------------------------------------------------------------------+--------------------+----------------+\n",
            "| ExpressWay Logistics caught my attention with its promise of seamless shipping solutions and a comprehensive network. However, my recent experiences have revealed some significant shortcomings. Their online platform is disgusting and their tracking system is inaccurate.I've encountered repeated issues with inaccurate weight calculations that have led to unexpected charges. Moreover, the limited options for customizing shipment preferences have made it challenging to meet my requirements.I cannot rely upon it for my future requirements.It failed to meet my requirements. | Negative           | Negative       |\n",
            "+-------------------------------------------------------------------------------------------------------------------------------------------------------------------------------------------------------------------------------------------------------------------------------------------------------------------------------------------------------------------------------------------------------------------------------------------------------------------------------------------------------------------------------------------------------------------------------------------------+--------------------+----------------+\n",
            "| The packaging provided by ExpressWay Logistics is always secure and well-protected, and ensured that my items arrive in perfect condition.                                                                                                                                                                                                                                                                                                                                                                                                                                                      | Positive           | Positive       |\n",
            "+-------------------------------------------------------------------------------------------------------------------------------------------------------------------------------------------------------------------------------------------------------------------------------------------------------------------------------------------------------------------------------------------------------------------------------------------------------------------------------------------------------------------------------------------------------------------------------------------------+--------------------+----------------+\n",
            "| My recent experience with ExpressWay Logistics left me thoroughly impressed. I had a highly time-sensitive shipment that required delicate handling and precise coordination. Despite the challenges, ExpressWay rose to the occasion, demonstrating an unparalleled level of professionalism and efficiency. Their team meticulously planned every aspect of the shipment, from packaging to transportation, ensuring that no detail was overlooked.                                                                                                                                           | Positive           | Positive       |\n",
            "+-------------------------------------------------------------------------------------------------------------------------------------------------------------------------------------------------------------------------------------------------------------------------------------------------------------------------------------------------------------------------------------------------------------------------------------------------------------------------------------------------------------------------------------------------------------------------------------------------+--------------------+----------------+\n",
            "| I was initially impressed by ExpressWay Logistics' promise of reliability and affordability, but my recent encounters have been less than satisfactory. Their website is so irritating and their drivers are too harsh, the repeated delays in delivery have been frustrating. Additionally, the discovery of hidden fees within their pricing structure has left me feeling misled. In addition to these challenges, their customer service team has been inattentive and disrespectful, which has degraded the overall experience.Not at all recommend!                                       | Negative           | Negative       |\n",
            "+-------------------------------------------------------------------------------------------------------------------------------------------------------------------------------------------------------------------------------------------------------------------------------------------------------------------------------------------------------------------------------------------------------------------------------------------------------------------------------------------------------------------------------------------------------------------------------------------------+--------------------+----------------+\n",
            "| Thumbs up to ExpressWay for their prompt responses and reliable shipping solutions. Impressed!                                                                                                                                                                                                                                                                                                                                                                                                                                                                                                  | Positive           | Positive       |\n",
            "+-------------------------------------------------------------------------------------------------------------------------------------------------------------------------------------------------------------------------------------------------------------------------------------------------------------------------------------------------------------------------------------------------------------------------------------------------------------------------------------------------------------------------------------------------------------------------------------------------+--------------------+----------------+\n",
            "| I had a terrible experience with ExpressWay Logistics. Not only was my pickup delayed, but the packaging was not done intactly, and the customer support team was unresponsive when I tried to raise the issue.                                                                                                                                                                                                                                                                                                                                                                                 | Negative           | Negative       |\n",
            "+-------------------------------------------------------------------------------------------------------------------------------------------------------------------------------------------------------------------------------------------------------------------------------------------------------------------------------------------------------------------------------------------------------------------------------------------------------------------------------------------------------------------------------------------------------------------------------------------------+--------------------+----------------+\n",
            "+-------------------------------------------------------------------------------------------------------------------------------------------------------------------------------------------------------------------------------------------------------------------------------------------------------------------------------------------------------------------------------------------------------------------------------------------------------------------------------------------------------------------------------------------------------------------------------------------------+--------------------+----------------+\n",
            "| Review                                                                                                                                                                                                                                                                                                                                                                                                                                                                                                                                                                                          | Model Prediction   | Ground Truth   |\n",
            "+=================================================================================================================================================================================================================================================================================================================================================================================================================================================================================================================================================================================================+====================+================+\n",
            "| The delivery executive assigned by ExpressWay Logistics was courteous and professional during the delivery process. They tried their best to handle the package with care.Unfortunately, the package arrived with slight damage despite the delivery executive's efforts. The packaging seemed more than adequate to protect the contents during transit.                                                                                                                                                                                                                                       | Negative           | Positive       |\n",
            "+-------------------------------------------------------------------------------------------------------------------------------------------------------------------------------------------------------------------------------------------------------------------------------------------------------------------------------------------------------------------------------------------------------------------------------------------------------------------------------------------------------------------------------------------------------------------------------------------------+--------------------+----------------+\n",
            "| ExpressWay Logistics failed to meet my expectations. The delivery was delayed, and the customer support team was unresponsive and unhelpful when I tried to inquire about the status of my parcel.                                                                                                                                                                                                                                                                                                                                                                                              | negative           | Negative       |\n",
            "+-------------------------------------------------------------------------------------------------------------------------------------------------------------------------------------------------------------------------------------------------------------------------------------------------------------------------------------------------------------------------------------------------------------------------------------------------------------------------------------------------------------------------------------------------------------------------------------------------+--------------------+----------------+\n",
            "| ExpressWay Logistics' incompetence resulted in a major inconvenience when my package was delivered to the wrong recipient. Despite providing accurate delivery information, the package ended up in the hands of someone else, and efforts to retrieve it were unsuccessful. When I contacted customer service for assistance, I was met with apathy and a lack of urgency. Their failure to rectify the situation in a timely manner is unacceptable, and I will be avoiding their services at all costs.                                                                                      | negative           | Negative       |\n",
            "+-------------------------------------------------------------------------------------------------------------------------------------------------------------------------------------------------------------------------------------------------------------------------------------------------------------------------------------------------------------------------------------------------------------------------------------------------------------------------------------------------------------------------------------------------------------------------------------------------+--------------------+----------------+\n",
            "| Kudos to ExpressWay Logistics for their outstanding service! They've been an essential partner for my business, handling all our shipping needs with professionalism and efficiency. If you're looking for a reliable logistic service provider, look no further than ExpressWay Logistics.                                                                                                                                                                                                                                                                                                     | positive           | Positive       |\n",
            "+-------------------------------------------------------------------------------------------------------------------------------------------------------------------------------------------------------------------------------------------------------------------------------------------------------------------------------------------------------------------------------------------------------------------------------------------------------------------------------------------------------------------------------------------------------------------------------------------------+--------------------+----------------+\n",
            "| ExpressWay Logistics offers a convenient online platform for booking shipments, and their competitive rates initially drew me in. However, the frequent delays in delivery and lack of transparency regarding additional fees have soured my experience. While their customer service representatives are polite, they often seem powerless to resolve issues effectively.This lack of care and responsibilites from the concerned teams have led me unsatisfied and irritated.I cannot trust and rely on this again.Will definitely not contact them ever for my courier deliveries!           | Negative           | Negative       |\n",
            "+-------------------------------------------------------------------------------------------------------------------------------------------------------------------------------------------------------------------------------------------------------------------------------------------------------------------------------------------------------------------------------------------------------------------------------------------------------------------------------------------------------------------------------------------------------------------------------------------------+--------------------+----------------+\n",
            "| Planning a destination wedding is undoubtedly a daunting task, especially when it comes to coordinating transportation for guests and wedding essentials. Fortunately, ExpressWay Logistics made this aspect of our wedding planning effortless. From the beginning, they were attentive to our needs and provided valuable insights to streamline the process.                                                                                                                                                                                                                                 | positive           | Positive       |\n",
            "+-------------------------------------------------------------------------------------------------------------------------------------------------------------------------------------------------------------------------------------------------------------------------------------------------------------------------------------------------------------------------------------------------------------------------------------------------------------------------------------------------------------------------------------------------------------------------------------------------+--------------------+----------------+\n",
            "| ExpressWay Logistics consistently delivers on its promises, providing fast, efficient, and reliable courier services that exceeded my expectations.                                                                                                                                                                                                                                                                                                                                                                                                                                             | positive           | Positive       |\n",
            "+-------------------------------------------------------------------------------------------------------------------------------------------------------------------------------------------------------------------------------------------------------------------------------------------------------------------------------------------------------------------------------------------------------------------------------------------------------------------------------------------------------------------------------------------------------------------------------------------------+--------------------+----------------+\n",
            "| I needed to ship perishable items internationally, and ExpressWay Logistics handled the process flawlessly. They ensured that the items were properly packaged and transported in temperature-controlled conditions.                                                                                                                                                                                                                                                                                                                                                                            | positive           | Positive       |\n",
            "+-------------------------------------------------------------------------------------------------------------------------------------------------------------------------------------------------------------------------------------------------------------------------------------------------------------------------------------------------------------------------------------------------------------------------------------------------------------------------------------------------------------------------------------------------------------------------------------------------+--------------------+----------------+\n",
            "| I appreciated the flexibility offered by ExpressWay Logistics in terms of delivery options. Their range of delivery speeds and service levels allowed me to choose the option that best suited my needs and budget.However, I was slightly disappointed by the lack of transparency regarding few additional fees and surcharges. I selected a specific delivery option and paid minor charges at checkout, which undermined the initial affordability of the service..                                                                                                                         | Mixed              | Negative       |\n",
            "+-------------------------------------------------------------------------------------------------------------------------------------------------------------------------------------------------------------------------------------------------------------------------------------------------------------------------------------------------------------------------------------------------------------------------------------------------------------------------------------------------------------------------------------------------------------------------------------------------+--------------------+----------------+\n",
            "| While ExpressWay Logistics' pricing is competitive, their lack of accountability for delays and damages is disappointing. It's frustrating to pay for a service that fails to deliver on its promises consistently.                                                                                                                                                                                                                                                                                                                                                                             | negative           | Negative       |\n",
            "+-------------------------------------------------------------------------------------------------------------------------------------------------------------------------------------------------------------------------------------------------------------------------------------------------------------------------------------------------------------------------------------------------------------------------------------------------------------------------------------------------------------------------------------------------------------------------------------------------+--------------------+----------------+\n",
            "| ExpressWay Logistics' pricing may seem attractive at first glance, but beware of some internal hidden fees that may sometimes add up. Coupled with their reliable delivery times, it's simply not worth the hassle.But still I appreciate that my parcel got delivered safely a day after the promised window.                                                                                                                                                                                                                                                                                  | Negative           | Positive       |\n",
            "+-------------------------------------------------------------------------------------------------------------------------------------------------------------------------------------------------------------------------------------------------------------------------------------------------------------------------------------------------------------------------------------------------------------------------------------------------------------------------------------------------------------------------------------------------------------------------------------------------+--------------------+----------------+\n",
            "| ExpressWay Logistics has been my go-to courier service for years, primarily due to their extensive network coverage and competitive pricing. However, my recent experience has left me questioning their reliability. While their user-friendly website and efficient booking process remain commendable, the repeated delays in delivery and lack of proactive communication have been disappointing.Despite these setbacks, their customer service team has always been courteous and responsive, attempting to address my concerns promptly.                                                 | negative           | Negative       |\n",
            "+-------------------------------------------------------------------------------------------------------------------------------------------------------------------------------------------------------------------------------------------------------------------------------------------------------------------------------------------------------------------------------------------------------------------------------------------------------------------------------------------------------------------------------------------------------------------------------------------------+--------------------+----------------+\n",
            "| ExpressWay Logistics' incompetence led to the loss of my parcel, and their lack of accountability only added to the frustration. Despite filing a claim and providing evidence of the missing items, I received no assistance or compensation for the lost package. Their negligence and disregard for customer satisfaction are unacceptable, and I will be exploring legal options to recoup the value of the lost items.                                                                                                                                                                     | negative           | Negative       |\n",
            "+-------------------------------------------------------------------------------------------------------------------------------------------------------------------------------------------------------------------------------------------------------------------------------------------------------------------------------------------------------------------------------------------------------------------------------------------------------------------------------------------------------------------------------------------------------------------------------------------------+--------------------+----------------+\n",
            "| I was deeply disappointed by the behavior of the delivery executive from Expressway Logistics. They exhibited a complete disregard for customer satisfaction, arriving late and mishandling the package upon delivery. Despite raising my concerns with Expressway Logistics, there was no acknowledgment or resolution provided.                                                                                                                                                                                                                                                               | negative           | Negative       |\n",
            "+-------------------------------------------------------------------------------------------------------------------------------------------------------------------------------------------------------------------------------------------------------------------------------------------------------------------------------------------------------------------------------------------------------------------------------------------------------------------------------------------------------------------------------------------------------------------------------------------------+--------------------+----------------+\n",
            "| As a frequent traveler, I often use ExpressWay Logistics to ship luggage and personal belongings ahead of time. Their door-to-door service and reliable tracking make traveling a breeze.                                                                                                                                                                                                                                                                                                                                                                                                       | positive           | Positive       |\n",
            "+-------------------------------------------------------------------------------------------------------------------------------------------------------------------------------------------------------------------------------------------------------------------------------------------------------------------------------------------------------------------------------------------------------------------------------------------------------------------------------------------------------------------------------------------------------------------------------------------------+--------------------+----------------+\n",
            "| ExpressWay Logistics caught my attention with its promise of seamless shipping solutions and a comprehensive network. However, my recent experiences have revealed some significant shortcomings. Their online platform is disgusting and their tracking system is inaccurate.I've encountered repeated issues with inaccurate weight calculations that have led to unexpected charges. Moreover, the limited options for customizing shipment preferences have made it challenging to meet my requirements.I cannot rely upon it for my future requirements.It failed to meet my requirements. | negative           | Negative       |\n",
            "+-------------------------------------------------------------------------------------------------------------------------------------------------------------------------------------------------------------------------------------------------------------------------------------------------------------------------------------------------------------------------------------------------------------------------------------------------------------------------------------------------------------------------------------------------------------------------------------------------+--------------------+----------------+\n",
            "| The packaging provided by ExpressWay Logistics is always secure and well-protected, and ensured that my items arrive in perfect condition.                                                                                                                                                                                                                                                                                                                                                                                                                                                      | positive           | Positive       |\n",
            "+-------------------------------------------------------------------------------------------------------------------------------------------------------------------------------------------------------------------------------------------------------------------------------------------------------------------------------------------------------------------------------------------------------------------------------------------------------------------------------------------------------------------------------------------------------------------------------------------------+--------------------+----------------+\n",
            "| My recent experience with ExpressWay Logistics left me thoroughly impressed. I had a highly time-sensitive shipment that required delicate handling and precise coordination. Despite the challenges, ExpressWay rose to the occasion, demonstrating an unparalleled level of professionalism and efficiency. Their team meticulously planned every aspect of the shipment, from packaging to transportation, ensuring that no detail was overlooked.                                                                                                                                           | positive           | Positive       |\n",
            "+-------------------------------------------------------------------------------------------------------------------------------------------------------------------------------------------------------------------------------------------------------------------------------------------------------------------------------------------------------------------------------------------------------------------------------------------------------------------------------------------------------------------------------------------------------------------------------------------------+--------------------+----------------+\n",
            "| I was initially impressed by ExpressWay Logistics' promise of reliability and affordability, but my recent encounters have been less than satisfactory. Their website is so irritating and their drivers are too harsh, the repeated delays in delivery have been frustrating. Additionally, the discovery of hidden fees within their pricing structure has left me feeling misled. In addition to these challenges, their customer service team has been inattentive and disrespectful, which has degraded the overall experience.Not at all recommend!                                       | negative           | Negative       |\n",
            "+-------------------------------------------------------------------------------------------------------------------------------------------------------------------------------------------------------------------------------------------------------------------------------------------------------------------------------------------------------------------------------------------------------------------------------------------------------------------------------------------------------------------------------------------------------------------------------------------------+--------------------+----------------+\n",
            "| Thumbs up to ExpressWay for their prompt responses and reliable shipping solutions. Impressed!                                                                                                                                                                                                                                                                                                                                                                                                                                                                                                  | positive           | Positive       |\n",
            "+-------------------------------------------------------------------------------------------------------------------------------------------------------------------------------------------------------------------------------------------------------------------------------------------------------------------------------------------------------------------------------------------------------------------------------------------------------------------------------------------------------------------------------------------------------------------------------------------------+--------------------+----------------+\n",
            "| I had a terrible experience with ExpressWay Logistics. Not only was my pickup delayed, but the packaging was not done intactly, and the customer support team was unresponsive when I tried to raise the issue.                                                                                                                                                                                                                                                                                                                                                                                 | negative           | Negative       |\n",
            "+-------------------------------------------------------------------------------------------------------------------------------------------------------------------------------------------------------------------------------------------------------------------------------------------------------------------------------------------------------------------------------------------------------------------------------------------------------------------------------------------------------------------------------------------------------------------------------------------------+--------------------+----------------+\n"
          ]
        },
        {
          "output_type": "stream",
          "name": "stderr",
          "text": [
            "100%|██████████| 5/5 [00:31<00:00,  6.29s/it]"
          ]
        },
        {
          "output_type": "stream",
          "name": "stdout",
          "text": [
            "+-------------------------------------------------------------------------------------------------------------------------------------------------------------------------------------------------------------------------------------------------------------------------------------------------------------------------------------------------------------------------------------------------------------------------------------------------------------------------------------------------------------------------------------------------------------------------------------------------+--------------------+----------------+\n",
            "| Review                                                                                                                                                                                                                                                                                                                                                                                                                                                                                                                                                                                          | Model Prediction   | Ground Truth   |\n",
            "+=================================================================================================================================================================================================================================================================================================================================================================================================================================================================================================================================================================================================+====================+================+\n",
            "| The delivery executive assigned by ExpressWay Logistics was courteous and professional during the delivery process. They tried their best to handle the package with care.Unfortunately, the package arrived with slight damage despite the delivery executive's efforts. The packaging seemed more than adequate to protect the contents during transit.                                                                                                                                                                                                                                       | Neutral/N          | Positive       |\n",
            "+-------------------------------------------------------------------------------------------------------------------------------------------------------------------------------------------------------------------------------------------------------------------------------------------------------------------------------------------------------------------------------------------------------------------------------------------------------------------------------------------------------------------------------------------------------------------------------------------------+--------------------+----------------+\n",
            "| ExpressWay Logistics failed to meet my expectations. The delivery was delayed, and the customer support team was unresponsive and unhelpful when I tried to inquire about the status of my parcel.                                                                                                                                                                                                                                                                                                                                                                                              | Negative           | Negative       |\n",
            "+-------------------------------------------------------------------------------------------------------------------------------------------------------------------------------------------------------------------------------------------------------------------------------------------------------------------------------------------------------------------------------------------------------------------------------------------------------------------------------------------------------------------------------------------------------------------------------------------------+--------------------+----------------+\n",
            "| ExpressWay Logistics' incompetence resulted in a major inconvenience when my package was delivered to the wrong recipient. Despite providing accurate delivery information, the package ended up in the hands of someone else, and efforts to retrieve it were unsuccessful. When I contacted customer service for assistance, I was met with apathy and a lack of urgency. Their failure to rectify the situation in a timely manner is unacceptable, and I will be avoiding their services at all costs.                                                                                      | Negative           | Negative       |\n",
            "+-------------------------------------------------------------------------------------------------------------------------------------------------------------------------------------------------------------------------------------------------------------------------------------------------------------------------------------------------------------------------------------------------------------------------------------------------------------------------------------------------------------------------------------------------------------------------------------------------+--------------------+----------------+\n",
            "| Kudos to ExpressWay Logistics for their outstanding service! They've been an essential partner for my business, handling all our shipping needs with professionalism and efficiency. If you're looking for a reliable logistic service provider, look no further than ExpressWay Logistics.                                                                                                                                                                                                                                                                                                     | Positive           | Positive       |\n",
            "+-------------------------------------------------------------------------------------------------------------------------------------------------------------------------------------------------------------------------------------------------------------------------------------------------------------------------------------------------------------------------------------------------------------------------------------------------------------------------------------------------------------------------------------------------------------------------------------------------+--------------------+----------------+\n",
            "| ExpressWay Logistics offers a convenient online platform for booking shipments, and their competitive rates initially drew me in. However, the frequent delays in delivery and lack of transparency regarding additional fees have soured my experience. While their customer service representatives are polite, they often seem powerless to resolve issues effectively.This lack of care and responsibilites from the concerned teams have led me unsatisfied and irritated.I cannot trust and rely on this again.Will definitely not contact them ever for my courier deliveries!           | Negative           | Negative       |\n",
            "+-------------------------------------------------------------------------------------------------------------------------------------------------------------------------------------------------------------------------------------------------------------------------------------------------------------------------------------------------------------------------------------------------------------------------------------------------------------------------------------------------------------------------------------------------------------------------------------------------+--------------------+----------------+\n",
            "| Planning a destination wedding is undoubtedly a daunting task, especially when it comes to coordinating transportation for guests and wedding essentials. Fortunately, ExpressWay Logistics made this aspect of our wedding planning effortless. From the beginning, they were attentive to our needs and provided valuable insights to streamline the process.                                                                                                                                                                                                                                 | Positive           | Positive       |\n",
            "+-------------------------------------------------------------------------------------------------------------------------------------------------------------------------------------------------------------------------------------------------------------------------------------------------------------------------------------------------------------------------------------------------------------------------------------------------------------------------------------------------------------------------------------------------------------------------------------------------+--------------------+----------------+\n",
            "| ExpressWay Logistics consistently delivers on its promises, providing fast, efficient, and reliable courier services that exceeded my expectations.                                                                                                                                                                                                                                                                                                                                                                                                                                             | Positive           | Positive       |\n",
            "+-------------------------------------------------------------------------------------------------------------------------------------------------------------------------------------------------------------------------------------------------------------------------------------------------------------------------------------------------------------------------------------------------------------------------------------------------------------------------------------------------------------------------------------------------------------------------------------------------+--------------------+----------------+\n",
            "| I needed to ship perishable items internationally, and ExpressWay Logistics handled the process flawlessly. They ensured that the items were properly packaged and transported in temperature-controlled conditions.                                                                                                                                                                                                                                                                                                                                                                            | Positive           | Positive       |\n",
            "+-------------------------------------------------------------------------------------------------------------------------------------------------------------------------------------------------------------------------------------------------------------------------------------------------------------------------------------------------------------------------------------------------------------------------------------------------------------------------------------------------------------------------------------------------------------------------------------------------+--------------------+----------------+\n",
            "| I appreciated the flexibility offered by ExpressWay Logistics in terms of delivery options. Their range of delivery speeds and service levels allowed me to choose the option that best suited my needs and budget.However, I was slightly disappointed by the lack of transparency regarding few additional fees and surcharges. I selected a specific delivery option and paid minor charges at checkout, which undermined the initial affordability of the service..                                                                                                                         | Negative           | Negative       |\n",
            "+-------------------------------------------------------------------------------------------------------------------------------------------------------------------------------------------------------------------------------------------------------------------------------------------------------------------------------------------------------------------------------------------------------------------------------------------------------------------------------------------------------------------------------------------------------------------------------------------------+--------------------+----------------+\n",
            "| While ExpressWay Logistics' pricing is competitive, their lack of accountability for delays and damages is disappointing. It's frustrating to pay for a service that fails to deliver on its promises consistently.                                                                                                                                                                                                                                                                                                                                                                             | Negative           | Negative       |\n",
            "+-------------------------------------------------------------------------------------------------------------------------------------------------------------------------------------------------------------------------------------------------------------------------------------------------------------------------------------------------------------------------------------------------------------------------------------------------------------------------------------------------------------------------------------------------------------------------------------------------+--------------------+----------------+\n",
            "| ExpressWay Logistics' pricing may seem attractive at first glance, but beware of some internal hidden fees that may sometimes add up. Coupled with their reliable delivery times, it's simply not worth the hassle.But still I appreciate that my parcel got delivered safely a day after the promised window.                                                                                                                                                                                                                                                                                  | Mixed/             | Positive       |\n",
            "+-------------------------------------------------------------------------------------------------------------------------------------------------------------------------------------------------------------------------------------------------------------------------------------------------------------------------------------------------------------------------------------------------------------------------------------------------------------------------------------------------------------------------------------------------------------------------------------------------+--------------------+----------------+\n",
            "| ExpressWay Logistics has been my go-to courier service for years, primarily due to their extensive network coverage and competitive pricing. However, my recent experience has left me questioning their reliability. While their user-friendly website and efficient booking process remain commendable, the repeated delays in delivery and lack of proactive communication have been disappointing.Despite these setbacks, their customer service team has always been courteous and responsive, attempting to address my concerns promptly.                                                 | Mixed/             | Negative       |\n",
            "+-------------------------------------------------------------------------------------------------------------------------------------------------------------------------------------------------------------------------------------------------------------------------------------------------------------------------------------------------------------------------------------------------------------------------------------------------------------------------------------------------------------------------------------------------------------------------------------------------+--------------------+----------------+\n",
            "| ExpressWay Logistics' incompetence led to the loss of my parcel, and their lack of accountability only added to the frustration. Despite filing a claim and providing evidence of the missing items, I received no assistance or compensation for the lost package. Their negligence and disregard for customer satisfaction are unacceptable, and I will be exploring legal options to recoup the value of the lost items.                                                                                                                                                                     | Negative           | Negative       |\n",
            "+-------------------------------------------------------------------------------------------------------------------------------------------------------------------------------------------------------------------------------------------------------------------------------------------------------------------------------------------------------------------------------------------------------------------------------------------------------------------------------------------------------------------------------------------------------------------------------------------------+--------------------+----------------+\n",
            "| I was deeply disappointed by the behavior of the delivery executive from Expressway Logistics. They exhibited a complete disregard for customer satisfaction, arriving late and mishandling the package upon delivery. Despite raising my concerns with Expressway Logistics, there was no acknowledgment or resolution provided.                                                                                                                                                                                                                                                               | Negative           | Negative       |\n",
            "+-------------------------------------------------------------------------------------------------------------------------------------------------------------------------------------------------------------------------------------------------------------------------------------------------------------------------------------------------------------------------------------------------------------------------------------------------------------------------------------------------------------------------------------------------------------------------------------------------+--------------------+----------------+\n",
            "| As a frequent traveler, I often use ExpressWay Logistics to ship luggage and personal belongings ahead of time. Their door-to-door service and reliable tracking make traveling a breeze.                                                                                                                                                                                                                                                                                                                                                                                                       | Positive           | Positive       |\n",
            "+-------------------------------------------------------------------------------------------------------------------------------------------------------------------------------------------------------------------------------------------------------------------------------------------------------------------------------------------------------------------------------------------------------------------------------------------------------------------------------------------------------------------------------------------------------------------------------------------------+--------------------+----------------+\n",
            "| ExpressWay Logistics caught my attention with its promise of seamless shipping solutions and a comprehensive network. However, my recent experiences have revealed some significant shortcomings. Their online platform is disgusting and their tracking system is inaccurate.I've encountered repeated issues with inaccurate weight calculations that have led to unexpected charges. Moreover, the limited options for customizing shipment preferences have made it challenging to meet my requirements.I cannot rely upon it for my future requirements.It failed to meet my requirements. | Negative           | Negative       |\n",
            "+-------------------------------------------------------------------------------------------------------------------------------------------------------------------------------------------------------------------------------------------------------------------------------------------------------------------------------------------------------------------------------------------------------------------------------------------------------------------------------------------------------------------------------------------------------------------------------------------------+--------------------+----------------+\n",
            "| The packaging provided by ExpressWay Logistics is always secure and well-protected, and ensured that my items arrive in perfect condition.                                                                                                                                                                                                                                                                                                                                                                                                                                                      | Positive           | Positive       |\n",
            "+-------------------------------------------------------------------------------------------------------------------------------------------------------------------------------------------------------------------------------------------------------------------------------------------------------------------------------------------------------------------------------------------------------------------------------------------------------------------------------------------------------------------------------------------------------------------------------------------------+--------------------+----------------+\n",
            "| My recent experience with ExpressWay Logistics left me thoroughly impressed. I had a highly time-sensitive shipment that required delicate handling and precise coordination. Despite the challenges, ExpressWay rose to the occasion, demonstrating an unparalleled level of professionalism and efficiency. Their team meticulously planned every aspect of the shipment, from packaging to transportation, ensuring that no detail was overlooked.                                                                                                                                           | Positive           | Positive       |\n",
            "+-------------------------------------------------------------------------------------------------------------------------------------------------------------------------------------------------------------------------------------------------------------------------------------------------------------------------------------------------------------------------------------------------------------------------------------------------------------------------------------------------------------------------------------------------------------------------------------------------+--------------------+----------------+\n",
            "| I was initially impressed by ExpressWay Logistics' promise of reliability and affordability, but my recent encounters have been less than satisfactory. Their website is so irritating and their drivers are too harsh, the repeated delays in delivery have been frustrating. Additionally, the discovery of hidden fees within their pricing structure has left me feeling misled. In addition to these challenges, their customer service team has been inattentive and disrespectful, which has degraded the overall experience.Not at all recommend!                                       | Negative           | Negative       |\n",
            "+-------------------------------------------------------------------------------------------------------------------------------------------------------------------------------------------------------------------------------------------------------------------------------------------------------------------------------------------------------------------------------------------------------------------------------------------------------------------------------------------------------------------------------------------------------------------------------------------------+--------------------+----------------+\n",
            "| Thumbs up to ExpressWay for their prompt responses and reliable shipping solutions. Impressed!                                                                                                                                                                                                                                                                                                                                                                                                                                                                                                  | Positive           | Positive       |\n",
            "+-------------------------------------------------------------------------------------------------------------------------------------------------------------------------------------------------------------------------------------------------------------------------------------------------------------------------------------------------------------------------------------------------------------------------------------------------------------------------------------------------------------------------------------------------------------------------------------------------+--------------------+----------------+\n",
            "| I had a terrible experience with ExpressWay Logistics. Not only was my pickup delayed, but the packaging was not done intactly, and the customer support team was unresponsive when I tried to raise the issue.                                                                                                                                                                                                                                                                                                                                                                                 | Negative           | Negative       |\n",
            "+-------------------------------------------------------------------------------------------------------------------------------------------------------------------------------------------------------------------------------------------------------------------------------------------------------------------------------------------------------------------------------------------------------------------------------------------------------------------------------------------------------------------------------------------------------------------------------------------------+--------------------+----------------+\n"
          ]
        },
        {
          "output_type": "stream",
          "name": "stderr",
          "text": [
            "\n"
          ]
        }
      ],
      "source": [
        "for _ in tqdm(range(num_eval_runs)):\n",
        "\n",
        "    # For each run create a new sample of examples\n",
        "    examples = create_examples(cs_gold_examples_df)\n",
        "\n",
        "    # Assemble the zero shot prompt with these examples\n",
        "    zero_shot_prompt = [{'role':'system', 'content': zero_shot_system_message}]\n",
        "    # zero_shot_prompt = create_prompt(zero_shot_system_message, examples, user_message_template)\n",
        "\n",
        "    # Assemble the few shot prompt with these examples\n",
        "    few_shot_prompt = create_prompt(few_shot_system_message, examples, user_message_template)\n",
        "\n",
        "    # Evaluate zero shot prompt accuracy on gold examples\n",
        "    zero_shot_micro_f1 = evaluate_prompt(zero_shot_prompt, gold_examples, user_message_template)\n",
        "\n",
        "    # Evaluate few shot prompt accuracy on gold examples\n",
        "    few_shot_micro_f1 = evaluate_prompt(few_shot_prompt, gold_examples, user_message_template)\n",
        "\n",
        "    zero_shot_performance.append(zero_shot_micro_f1)\n",
        "    few_shot_performance.append(few_shot_micro_f1)"
      ]
    },
    {
      "cell_type": "markdown",
      "metadata": {
        "id": "4JSJzAeZZUBl",
        "nteract": {
          "transient": {
            "deleting": false
          }
        }
      },
      "source": [
        "**(C) Calculate Mean and Standard Deviation for Zero Shot Prompt and Few Shot Prompt (4 Marks)**\n",
        "\n",
        "Compute the average (mean) and measure the variability (standard deviation) of the evaluation scores for both zero shot and few shot prompts."
      ]
    },
    {
      "cell_type": "code",
      "source": [
        "# Calculate for Zero Shot\n",
        "zero_shot_mean = np.mean(zero_shot_performance)\n",
        "zero_shot_std = np.std(zero_shot_performance)\n",
        "\n",
        "# Print the results\n",
        "print(f\"Zero-shot Mean Micro-F1: {zero_shot_mean:.4f}, Std: {zero_shot_std:.4f}\")\n"
      ],
      "metadata": {
        "id": "Wlx7hRekacH2",
        "colab": {
          "base_uri": "https://localhost:8080/"
        },
        "outputId": "671cd98c-913e-4c0e-f93c-1225720166a5"
      },
      "execution_count": null,
      "outputs": [
        {
          "output_type": "stream",
          "name": "stdout",
          "text": [
            "Zero-shot Mean Micro-F1: 0.0476, Std: 0.0000\n"
          ]
        }
      ]
    },
    {
      "cell_type": "code",
      "source": [
        "# Calculate for Few Shot\n",
        "few_shot_mean = np.mean(few_shot_performance)\n",
        "few_shot_std = np.std(few_shot_performance)\n",
        "print(f\"Few-shot Mean Micro-F1: {few_shot_mean:.4f}, Std: {few_shot_std:.4f}\")"
      ],
      "metadata": {
        "id": "aUt85F--aehR",
        "colab": {
          "base_uri": "https://localhost:8080/"
        },
        "outputId": "9cc440cd-8f7a-4b3a-8a7a-dc3177196710"
      },
      "execution_count": null,
      "outputs": [
        {
          "output_type": "stream",
          "name": "stdout",
          "text": [
            "Few-shot Mean Micro-F1: 0.8381, Std: 0.0233\n"
          ]
        }
      ]
    },
    {
      "cell_type": "markdown",
      "source": [
        "##**Step 5: Observation and Insights and Business perspective (3 Marks)**\n",
        "\n",
        "( Based on the projects, learner needs to share observations, learnings, insights and the business use case where these learnings can be beneficial.\n",
        "Provide a breakdown of the percentage of positive and negative reviews. Additionally, explain how this classification can assist ExpressWay Logistics in addressing the issues identified. )\n"
      ],
      "metadata": {
        "id": "P5bxwSR894YB"
      }
    },
    {
      "cell_type": "markdown",
      "source": [
        "\n",
        "The evaluation results indicate that the Few-shot prompt significantly outperforms the Zero-shot prompt in terms of predicting sentiment in courier service reviews.\n",
        "\n",
        "Insights from the Results:\n",
        "Zero-shot Mean Micro-F1: 0.0476, Std: 0.0000:\n",
        "\n",
        "The Zero-shot performance is very low (4.76% accuracy), with no variation in the results. This suggests that when the model is not given enough examples of how to classify the reviews (sentiment), it struggles to understand or predict the sentiment correctly.\n",
        "\n",
        "Conclusion: The model does not have enough context or guidance from the Zero-shot prompt, resulting in poor performance. This could reflect the complexity of the sentiment analysis task, requiring more than just a general understanding of the text.\n",
        "\n",
        "Few-shot Mean Micro-F1: 0.8381, Std: 0.0233:\n",
        "\n",
        "The Few-shot performance is much higher (83.81% accuracy), with a small standard deviation (2.33%). This means that when the model is given examples of how to classify courier service reviews, it performs much better and is more consistent.\n",
        "Conclusion: The model clearly benefits from seeing a few labeled examples, allowing it to learn the structure of the reviews and how to map them to the correct sentiment label. The small standard deviation indicates that the model performs reliably across different evaluation runs.\n",
        "\n",
        "What It Tells About the Courier Service Reviews:\n",
        "Complexity of the Reviews: The reviews likely contain nuanced language that requires more contextual understanding to correctly classify the sentiment. Simple Zero-shot approaches (without any examples) fail to capture these nuances, suggesting that these reviews are not trivial to classify.\n",
        "\n",
        "The large gap between Zero-shot and Few-shot performance indicates that the model needs examples to understand the sentiment patterns in the reviews. This suggests that there may be non-standard, informal, or mixed feedback within the reviews that a more general model can't easily interpret.\n",
        "\n",
        "Recommendations for Improving Courier Service:\n",
        "Focus on Consistent and Structured Feedback:\n",
        "\n",
        "Encourage customers to provide structured feedback by asking for specific aspects of the service (e.g., delivery speed, package handling, customer service). This would make it easier to identify patterns in reviews and address key areas for improvement.\n",
        "Identify Common Themes in Negative Reviews:\n",
        "\n",
        "With the high performance of the Few-shot model, we can now better categorize the negative reviews. Focus on identifying recurring complaints (e.g., delays, lost packages, customer support issues) and address them systematically.\n",
        "If we notice frequent patterns of dissatisfaction in a particular area (e.g., delivery speed), we can target operational improvements more effectively.\n",
        "\n",
        "Improve Service Based on Positive and Negative Sentiment:\n",
        "\n",
        "By analyzing which areas of your service receive positive feedback and which areas are often criticized, we can focus on reinforcing strengths (e.g., timely deliveries, good customer support) while addressing weaknesses (e.g., handling of fragile packages).\n",
        "\n",
        "Leverage Customer Feedback for Training:\n",
        "Consider incorporating a larger dataset of labeled reviews into our sentiment analysis model for continued training, which will help the model generalize better and capture even more subtle patterns in customer sentiment over time.\n",
        "By continuously monitoring sentiment in reviews using a Few-shot prompt, ExpressWay Logistics can prioritize customer service improvements, identify specific problem areas, and respond proactively to customer needs."
      ],
      "metadata": {
        "id": "hJlhwUiT1kAn"
      }
    },
    {
      "cell_type": "code",
      "source": [
        "!pip install nbconvert"
      ],
      "metadata": {
        "colab": {
          "base_uri": "https://localhost:8080/"
        },
        "id": "hEdQnUXfYhb6",
        "outputId": "040df120-1dbd-43d6-f8d6-e144c74e96de"
      },
      "execution_count": null,
      "outputs": [
        {
          "output_type": "stream",
          "name": "stdout",
          "text": [
            "Requirement already satisfied: nbconvert in /usr/local/lib/python3.10/dist-packages (6.5.4)\n",
            "Requirement already satisfied: lxml in /usr/local/lib/python3.10/dist-packages (from nbconvert) (4.9.4)\n",
            "Requirement already satisfied: beautifulsoup4 in /usr/local/lib/python3.10/dist-packages (from nbconvert) (4.12.3)\n",
            "Requirement already satisfied: bleach in /usr/local/lib/python3.10/dist-packages (from nbconvert) (6.1.0)\n",
            "Requirement already satisfied: defusedxml in /usr/local/lib/python3.10/dist-packages (from nbconvert) (0.7.1)\n",
            "Requirement already satisfied: entrypoints>=0.2.2 in /usr/local/lib/python3.10/dist-packages (from nbconvert) (0.4)\n",
            "Requirement already satisfied: jinja2>=3.0 in /usr/local/lib/python3.10/dist-packages (from nbconvert) (3.1.4)\n",
            "Requirement already satisfied: jupyter-core>=4.7 in /usr/local/lib/python3.10/dist-packages (from nbconvert) (5.7.2)\n",
            "Requirement already satisfied: jupyterlab-pygments in /usr/local/lib/python3.10/dist-packages (from nbconvert) (0.3.0)\n",
            "Requirement already satisfied: MarkupSafe>=2.0 in /usr/local/lib/python3.10/dist-packages (from nbconvert) (2.1.5)\n",
            "Requirement already satisfied: mistune<2,>=0.8.1 in /usr/local/lib/python3.10/dist-packages (from nbconvert) (0.8.4)\n",
            "Requirement already satisfied: nbclient>=0.5.0 in /usr/local/lib/python3.10/dist-packages (from nbconvert) (0.10.0)\n",
            "Requirement already satisfied: nbformat>=5.1 in /usr/local/lib/python3.10/dist-packages (from nbconvert) (5.10.4)\n",
            "Requirement already satisfied: packaging in /usr/local/lib/python3.10/dist-packages (from nbconvert) (24.1)\n",
            "Requirement already satisfied: pandocfilters>=1.4.1 in /usr/local/lib/python3.10/dist-packages (from nbconvert) (1.5.1)\n",
            "Requirement already satisfied: pygments>=2.4.1 in /usr/local/lib/python3.10/dist-packages (from nbconvert) (2.18.0)\n",
            "Requirement already satisfied: tinycss2 in /usr/local/lib/python3.10/dist-packages (from nbconvert) (1.3.0)\n",
            "Requirement already satisfied: traitlets>=5.0 in /usr/local/lib/python3.10/dist-packages (from nbconvert) (5.7.1)\n",
            "Requirement already satisfied: platformdirs>=2.5 in /usr/local/lib/python3.10/dist-packages (from jupyter-core>=4.7->nbconvert) (4.3.6)\n",
            "Requirement already satisfied: jupyter-client>=6.1.12 in /usr/local/lib/python3.10/dist-packages (from nbclient>=0.5.0->nbconvert) (6.1.12)\n",
            "Requirement already satisfied: fastjsonschema>=2.15 in /usr/local/lib/python3.10/dist-packages (from nbformat>=5.1->nbconvert) (2.20.0)\n",
            "Requirement already satisfied: jsonschema>=2.6 in /usr/local/lib/python3.10/dist-packages (from nbformat>=5.1->nbconvert) (4.23.0)\n",
            "Requirement already satisfied: soupsieve>1.2 in /usr/local/lib/python3.10/dist-packages (from beautifulsoup4->nbconvert) (2.6)\n",
            "Requirement already satisfied: six>=1.9.0 in /usr/local/lib/python3.10/dist-packages (from bleach->nbconvert) (1.16.0)\n",
            "Requirement already satisfied: webencodings in /usr/local/lib/python3.10/dist-packages (from bleach->nbconvert) (0.5.1)\n",
            "Requirement already satisfied: attrs>=22.2.0 in /usr/local/lib/python3.10/dist-packages (from jsonschema>=2.6->nbformat>=5.1->nbconvert) (24.2.0)\n",
            "Requirement already satisfied: jsonschema-specifications>=2023.03.6 in /usr/local/lib/python3.10/dist-packages (from jsonschema>=2.6->nbformat>=5.1->nbconvert) (2023.12.1)\n",
            "Requirement already satisfied: referencing>=0.28.4 in /usr/local/lib/python3.10/dist-packages (from jsonschema>=2.6->nbformat>=5.1->nbconvert) (0.35.1)\n",
            "Requirement already satisfied: rpds-py>=0.7.1 in /usr/local/lib/python3.10/dist-packages (from jsonschema>=2.6->nbformat>=5.1->nbconvert) (0.20.0)\n",
            "Requirement already satisfied: pyzmq>=13 in /usr/local/lib/python3.10/dist-packages (from jupyter-client>=6.1.12->nbclient>=0.5.0->nbconvert) (24.0.1)\n",
            "Requirement already satisfied: python-dateutil>=2.1 in /usr/local/lib/python3.10/dist-packages (from jupyter-client>=6.1.12->nbclient>=0.5.0->nbconvert) (2.8.2)\n",
            "Requirement already satisfied: tornado>=4.1 in /usr/local/lib/python3.10/dist-packages (from jupyter-client>=6.1.12->nbclient>=0.5.0->nbconvert) (6.3.3)\n"
          ]
        }
      ]
    },
    {
      "cell_type": "code",
      "source": [
        "!jupyter nbconvert --to html /content/drive/MyDrive/Colab_Notebooks/GEN-AI-Final-Project/AHS_Learner_Notebook_final_project_GEN_AI_MSFT.ipynb"
      ],
      "metadata": {
        "colab": {
          "base_uri": "https://localhost:8080/"
        },
        "id": "ahg8eCAIYlfC",
        "outputId": "dffee813-9244-4810-969a-c0c574e4a25e"
      },
      "execution_count": null,
      "outputs": [
        {
          "output_type": "stream",
          "name": "stdout",
          "text": [
            "[NbConvertApp] Converting notebook /content/drive/MyDrive/Colab_Notebooks/GEN-AI-Final-Project/AHS_Learner_Notebook_final_project_GEN_AI_MSFT.ipynb to html\n",
            "[NbConvertApp] Writing 1031189 bytes to /content/drive/MyDrive/Colab_Notebooks/GEN-AI-Final-Project/AHS_Learner_Notebook_final_project_GEN_AI_MSFT.html\n"
          ]
        }
      ]
    }
  ],
  "metadata": {
    "colab": {
      "provenance": [],
      "include_colab_link": true
    },
    "kernelspec": {
      "display_name": "Python 3",
      "name": "python3"
    },
    "language_info": {
      "codemirror_mode": {
        "name": "ipython",
        "version": 3
      },
      "file_extension": ".py",
      "mimetype": "text/x-python",
      "name": "python",
      "nbconvert_exporter": "python",
      "pygments_lexer": "ipython3",
      "version": "3.12.2"
    }
  },
  "nbformat": 4,
  "nbformat_minor": 0
}